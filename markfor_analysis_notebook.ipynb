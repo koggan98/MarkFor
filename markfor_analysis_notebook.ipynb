{
 "cells": [
  {
   "cell_type": "markdown",
   "metadata": {},
   "source": [
    "<div style=\"position: relative; display: flex; align-items: center; justify-content: space-between;\">\n",
    "    <div>\n",
    "        <b>MSE: TSM_MarkFor | FS 2025</b><br>\n",
    "        <a href=\"mailto:daniel.kogan@stud.hslu.ch\">Daniel Kogan</a> | \n",
    "        <a href=\"mailto:sven.traeger@stud.hslu.ch\">Sven Träger</a> | \n",
    "        <i>Date: 01.05.2025</i>\n",
    "    </div>\n",
    "</div>\n",
    "\n",
    "<h1>Optimization of Beverage Sales</h1>\n",
    "<hr style=\"border: 1px solid black;\">"
   ]
  },
  {
   "cell_type": "markdown",
   "metadata": {},
   "source": [
    "### Load necessary libraries"
   ]
  },
  {
   "cell_type": "code",
   "execution_count": 1,
   "metadata": {
    "vscode": {
     "languageId": "r"
    }
   },
   "outputs": [
    {
     "name": "stderr",
     "output_type": "stream",
     "text": [
      "Warning message:\n",
      "\"Paket 'tidyverse' wurde unter R Version 4.4.3 erstellt\"\n",
      "Warning message:\n",
      "\"Paket 'tidyr' wurde unter R Version 4.4.3 erstellt\"\n",
      "Warning message:\n",
      "\"Paket 'readr' wurde unter R Version 4.4.3 erstellt\"\n",
      "Warning message:\n",
      "\"Paket 'dplyr' wurde unter R Version 4.4.3 erstellt\"\n",
      "Warning message:\n",
      "\"Paket 'forcats' wurde unter R Version 4.4.3 erstellt\"\n",
      "Warning message:\n",
      "\"Paket 'lubridate' wurde unter R Version 4.4.3 erstellt\"\n",
      "── \u001b[1mAttaching core tidyverse packages\u001b[22m ──────────────────────── tidyverse 2.0.0 ──\n",
      "\u001b[32m✔\u001b[39m \u001b[34mdplyr    \u001b[39m 1.1.4     \u001b[32m✔\u001b[39m \u001b[34mreadr    \u001b[39m 2.1.5\n",
      "\u001b[32m✔\u001b[39m \u001b[34mforcats  \u001b[39m 1.0.0     \u001b[32m✔\u001b[39m \u001b[34mstringr  \u001b[39m 1.5.1\n",
      "\u001b[32m✔\u001b[39m \u001b[34mggplot2  \u001b[39m 3.5.1     \u001b[32m✔\u001b[39m \u001b[34mtibble   \u001b[39m 3.2.1\n",
      "\u001b[32m✔\u001b[39m \u001b[34mlubridate\u001b[39m 1.9.4     \u001b[32m✔\u001b[39m \u001b[34mtidyr    \u001b[39m 1.3.1\n",
      "\u001b[32m✔\u001b[39m \u001b[34mpurrr    \u001b[39m 1.0.4     \n",
      "── \u001b[1mConflicts\u001b[22m ────────────────────────────────────────── tidyverse_conflicts() ──\n",
      "\u001b[31m✖\u001b[39m \u001b[34mdplyr\u001b[39m::\u001b[32mfilter()\u001b[39m masks \u001b[34mstats\u001b[39m::filter()\n",
      "\u001b[31m✖\u001b[39m \u001b[34mdplyr\u001b[39m::\u001b[32mlag()\u001b[39m    masks \u001b[34mstats\u001b[39m::lag()\n",
      "\u001b[36mℹ\u001b[39m Use the conflicted package (\u001b[3m\u001b[34m<http://conflicted.r-lib.org/>\u001b[39m\u001b[23m) to force all conflicts to become errors\n",
      "Warning message:\n",
      "\"Paket 'skimr' wurde unter R Version 4.4.3 erstellt\"\n",
      "Warning message:\n",
      "\"Paket 'janitor' wurde unter R Version 4.4.3 erstellt\"\n",
      "\n",
      "Attache Paket: 'janitor'\n",
      "\n",
      "\n",
      "Die folgenden Objekte sind maskiert von 'package:stats':\n",
      "\n",
      "    chisq.test, fisher.test\n",
      "\n",
      "\n",
      "Warning message:\n",
      "\"Paket 'rfm' wurde unter R Version 4.4.3 erstellt\"\n",
      "Warning message:\n",
      "\"Paket 'caret' wurde unter R Version 4.4.3 erstellt\"\n",
      "Lade nötiges Paket: lattice\n",
      "\n",
      "\n",
      "Attache Paket: 'caret'\n",
      "\n",
      "\n",
      "Das folgende Objekt ist maskiert 'package:purrr':\n",
      "\n",
      "    lift\n",
      "\n",
      "\n",
      "Warning message:\n",
      "\"Paket 'jtools' wurde unter R Version 4.4.3 erstellt\"\n",
      "Warning message:\n",
      "\"Paket 'broom' wurde unter R Version 4.4.3 erstellt\"\n",
      "Warning message:\n",
      "\"Paket 'Metrics' wurde unter R Version 4.4.3 erstellt\"\n",
      "\n",
      "Attache Paket: 'Metrics'\n",
      "\n",
      "\n",
      "Die folgenden Objekte sind maskiert von 'package:caret':\n",
      "\n",
      "    precision, recall\n",
      "\n",
      "\n",
      "\n",
      "Attache Paket: 'scales'\n",
      "\n",
      "\n",
      "Das folgende Objekt ist maskiert 'package:purrr':\n",
      "\n",
      "    discard\n",
      "\n",
      "\n",
      "Das folgende Objekt ist maskiert 'package:readr':\n",
      "\n",
      "    col_factor\n",
      "\n",
      "\n"
     ]
    }
   ],
   "source": [
    "library(tidyverse) # includes ggplot2, dplyr, tidyr, purrr\n",
    "library(lubridate)\n",
    "library(skimr)\n",
    "library(janitor)\n",
    "library(knitr)\n",
    "library(rfm)\n",
    "library(caret)\n",
    "library(jtools)\n",
    "library(broom)\n",
    "library(Metrics)\n",
    "library(scales)"
   ]
  },
  {
   "cell_type": "markdown",
   "metadata": {},
   "source": [
    "### Load dataset"
   ]
  },
  {
   "cell_type": "code",
   "execution_count": 2,
   "metadata": {
    "vscode": {
     "languageId": "r"
    }
   },
   "outputs": [
    {
     "data": {
      "text/html": [
       "<table class=\"dataframe\">\n",
       "<caption>A tibble: 4 × 11</caption>\n",
       "<thead>\n",
       "\t<tr><th scope=col>order_id</th><th scope=col>customer_id</th><th scope=col>customer_type</th><th scope=col>product</th><th scope=col>category</th><th scope=col>unit_price</th><th scope=col>quantity</th><th scope=col>discount</th><th scope=col>total_price</th><th scope=col>region</th><th scope=col>order_date</th></tr>\n",
       "\t<tr><th scope=col>&lt;chr&gt;</th><th scope=col>&lt;chr&gt;</th><th scope=col>&lt;chr&gt;</th><th scope=col>&lt;chr&gt;</th><th scope=col>&lt;chr&gt;</th><th scope=col>&lt;dbl&gt;</th><th scope=col>&lt;dbl&gt;</th><th scope=col>&lt;dbl&gt;</th><th scope=col>&lt;dbl&gt;</th><th scope=col>&lt;chr&gt;</th><th scope=col>&lt;date&gt;</th></tr>\n",
       "</thead>\n",
       "<tbody>\n",
       "\t<tr><td>ORD1</td><td>CUS1496</td><td>B2B</td><td>Vio Wasser        </td><td>Water      </td><td>1.66</td><td>53</td><td>0.10</td><td> 79.18</td><td>Baden-Württemberg</td><td>2023-08-23</td></tr>\n",
       "\t<tr><td>ORD1</td><td>CUS1496</td><td>B2B</td><td>Evian             </td><td>Water      </td><td>1.56</td><td>90</td><td>0.10</td><td>126.36</td><td>Baden-Württemberg</td><td>2023-08-23</td></tr>\n",
       "\t<tr><td>ORD1</td><td>CUS1496</td><td>B2B</td><td>Sprite            </td><td>Soft Drinks</td><td>1.17</td><td>73</td><td>0.05</td><td> 81.14</td><td>Baden-Württemberg</td><td>2023-08-23</td></tr>\n",
       "\t<tr><td>ORD1</td><td>CUS1496</td><td>B2B</td><td>Rauch Multivitamin</td><td>Juices     </td><td>3.22</td><td>59</td><td>0.10</td><td>170.98</td><td>Baden-Württemberg</td><td>2023-08-23</td></tr>\n",
       "</tbody>\n",
       "</table>\n"
      ],
      "text/latex": [
       "A tibble: 4 × 11\n",
       "\\begin{tabular}{lllllllllll}\n",
       " order\\_id & customer\\_id & customer\\_type & product & category & unit\\_price & quantity & discount & total\\_price & region & order\\_date\\\\\n",
       " <chr> & <chr> & <chr> & <chr> & <chr> & <dbl> & <dbl> & <dbl> & <dbl> & <chr> & <date>\\\\\n",
       "\\hline\n",
       "\t ORD1 & CUS1496 & B2B & Vio Wasser         & Water       & 1.66 & 53 & 0.10 &  79.18 & Baden-Württemberg & 2023-08-23\\\\\n",
       "\t ORD1 & CUS1496 & B2B & Evian              & Water       & 1.56 & 90 & 0.10 & 126.36 & Baden-Württemberg & 2023-08-23\\\\\n",
       "\t ORD1 & CUS1496 & B2B & Sprite             & Soft Drinks & 1.17 & 73 & 0.05 &  81.14 & Baden-Württemberg & 2023-08-23\\\\\n",
       "\t ORD1 & CUS1496 & B2B & Rauch Multivitamin & Juices      & 3.22 & 59 & 0.10 & 170.98 & Baden-Württemberg & 2023-08-23\\\\\n",
       "\\end{tabular}\n"
      ],
      "text/markdown": [
       "\n",
       "A tibble: 4 × 11\n",
       "\n",
       "| order_id &lt;chr&gt; | customer_id &lt;chr&gt; | customer_type &lt;chr&gt; | product &lt;chr&gt; | category &lt;chr&gt; | unit_price &lt;dbl&gt; | quantity &lt;dbl&gt; | discount &lt;dbl&gt; | total_price &lt;dbl&gt; | region &lt;chr&gt; | order_date &lt;date&gt; |\n",
       "|---|---|---|---|---|---|---|---|---|---|---|\n",
       "| ORD1 | CUS1496 | B2B | Vio Wasser         | Water       | 1.66 | 53 | 0.10 |  79.18 | Baden-Württemberg | 2023-08-23 |\n",
       "| ORD1 | CUS1496 | B2B | Evian              | Water       | 1.56 | 90 | 0.10 | 126.36 | Baden-Württemberg | 2023-08-23 |\n",
       "| ORD1 | CUS1496 | B2B | Sprite             | Soft Drinks | 1.17 | 73 | 0.05 |  81.14 | Baden-Württemberg | 2023-08-23 |\n",
       "| ORD1 | CUS1496 | B2B | Rauch Multivitamin | Juices      | 3.22 | 59 | 0.10 | 170.98 | Baden-Württemberg | 2023-08-23 |\n",
       "\n"
      ],
      "text/plain": [
       "  order_id customer_id customer_type product            category    unit_price\n",
       "1 ORD1     CUS1496     B2B           Vio Wasser         Water       1.66      \n",
       "2 ORD1     CUS1496     B2B           Evian              Water       1.56      \n",
       "3 ORD1     CUS1496     B2B           Sprite             Soft Drinks 1.17      \n",
       "4 ORD1     CUS1496     B2B           Rauch Multivitamin Juices      3.22      \n",
       "  quantity discount total_price region            order_date\n",
       "1 53       0.10      79.18      Baden-Württemberg 2023-08-23\n",
       "2 90       0.10     126.36      Baden-Württemberg 2023-08-23\n",
       "3 73       0.05      81.14      Baden-Württemberg 2023-08-23\n",
       "4 59       0.10     170.98      Baden-Württemberg 2023-08-23"
      ]
     },
     "metadata": {},
     "output_type": "display_data"
    },
    {
     "name": "stdout",
     "output_type": "stream",
     "text": [
      "Rows: 8,999,910\n",
      "Columns: 11\n",
      "$ order_id      \u001b[3m\u001b[90m<chr>\u001b[39m\u001b[23m \"ORD1\", \"ORD1\", \"ORD1\", \"ORD1\", \"ORD1\", \"ORD2\", \"ORD3\", …\n",
      "$ customer_id   \u001b[3m\u001b[90m<chr>\u001b[39m\u001b[23m \"CUS1496\", \"CUS1496\", \"CUS1496\", \"CUS1496\", \"CUS1496\", \"…\n",
      "$ customer_type \u001b[3m\u001b[90m<chr>\u001b[39m\u001b[23m \"B2B\", \"B2B\", \"B2B\", \"B2B\", \"B2B\", \"B2C\", \"B2B\", \"B2B\", …\n",
      "$ product       \u001b[3m\u001b[90m<chr>\u001b[39m\u001b[23m \"Vio Wasser\", \"Evian\", \"Sprite\", \"Rauch Multivitamin\", \"…\n",
      "$ category      \u001b[3m\u001b[90m<chr>\u001b[39m\u001b[23m \"Water\", \"Water\", \"Soft Drinks\", \"Juices\", \"Water\", \"Alc…\n",
      "$ unit_price    \u001b[3m\u001b[90m<dbl>\u001b[39m\u001b[23m 1.66, 1.56, 1.17, 3.22, 0.87, 9.09, 2.14, 0.43, 1.21, 1.…\n",
      "$ quantity      \u001b[3m\u001b[90m<dbl>\u001b[39m\u001b[23m 53, 90, 73, 59, 35, 2, 44, 13, 92, 3, 11, 8, 16, 3, 43, …\n",
      "$ discount      \u001b[3m\u001b[90m<dbl>\u001b[39m\u001b[23m 0.10, 0.10, 0.05, 0.10, 0.10, 0.00, 0.10, 0.05, 0.10, 0.…\n",
      "$ total_price   \u001b[3m\u001b[90m<dbl>\u001b[39m\u001b[23m 79.18, 126.36, 81.14, 170.98, 27.40, 18.18, 84.74, 5.31,…\n",
      "$ region        \u001b[3m\u001b[90m<chr>\u001b[39m\u001b[23m \"Baden-Württemberg\", \"Baden-Württemberg\", \"Baden-Württem…\n",
      "$ order_date    \u001b[3m\u001b[90m<date>\u001b[39m\u001b[23m 2023-08-23, 2023-08-23, 2023-08-23, 2023-08-23, 2023-08…\n"
     ]
    }
   ],
   "source": [
    "df <- read_csv(\"synthetic_beverage_sales_data.csv\", show_col_types = FALSE) %>%\n",
    "  clean_names()\n",
    "head(df, 4) # print first 4 rows of data frame\n",
    "glimpse(df) # print summary of data frame"
   ]
  },
  {
   "cell_type": "markdown",
   "metadata": {},
   "source": [
    "### Data Preperation"
   ]
  },
  {
   "cell_type": "code",
   "execution_count": 3,
   "metadata": {
    "vscode": {
     "languageId": "r"
    }
   },
   "outputs": [
    {
     "data": {
      "text/html": [
       "<style>\n",
       ".dl-inline {width: auto; margin:0; padding: 0}\n",
       ".dl-inline>dt, .dl-inline>dd {float: none; width: auto; display: inline-block}\n",
       ".dl-inline>dt::after {content: \":\\0020\"; padding-right: .5ex}\n",
       ".dl-inline>dt:not(:first-of-type) {padding-left: .5ex}\n",
       "</style><dl class=dl-inline><dt>order_id</dt><dd>0</dd><dt>customer_id</dt><dd>0</dd><dt>customer_type</dt><dd>0</dd><dt>product</dt><dd>0</dd><dt>category</dt><dd>0</dd><dt>unit_price</dt><dd>0</dd><dt>quantity</dt><dd>0</dd><dt>discount</dt><dd>0</dd><dt>total_price</dt><dd>0</dd><dt>region</dt><dd>0</dd><dt>order_date</dt><dd>0</dd></dl>\n"
      ],
      "text/latex": [
       "\\begin{description*}\n",
       "\\item[order\\textbackslash{}\\_id] 0\n",
       "\\item[customer\\textbackslash{}\\_id] 0\n",
       "\\item[customer\\textbackslash{}\\_type] 0\n",
       "\\item[product] 0\n",
       "\\item[category] 0\n",
       "\\item[unit\\textbackslash{}\\_price] 0\n",
       "\\item[quantity] 0\n",
       "\\item[discount] 0\n",
       "\\item[total\\textbackslash{}\\_price] 0\n",
       "\\item[region] 0\n",
       "\\item[order\\textbackslash{}\\_date] 0\n",
       "\\end{description*}\n"
      ],
      "text/markdown": [
       "order_id\n",
       ":   0customer_id\n",
       ":   0customer_type\n",
       ":   0product\n",
       ":   0category\n",
       ":   0unit_price\n",
       ":   0quantity\n",
       ":   0discount\n",
       ":   0total_price\n",
       ":   0region\n",
       ":   0order_date\n",
       ":   0\n",
       "\n"
      ],
      "text/plain": [
       "     order_id   customer_id customer_type       product      category \n",
       "            0             0             0             0             0 \n",
       "   unit_price      quantity      discount   total_price        region \n",
       "            0             0             0             0             0 \n",
       "   order_date \n",
       "            0 "
      ]
     },
     "metadata": {},
     "output_type": "display_data"
    },
    {
     "data": {
      "text/html": [
       "0"
      ],
      "text/latex": [
       "0"
      ],
      "text/markdown": [
       "0"
      ],
      "text/plain": [
       "[1] 0"
      ]
     },
     "metadata": {},
     "output_type": "display_data"
    },
    {
     "data": {
      "text/html": [
       "0"
      ],
      "text/latex": [
       "0"
      ],
      "text/markdown": [
       "0"
      ],
      "text/plain": [
       "[1] 0"
      ]
     },
     "metadata": {},
     "output_type": "display_data"
    }
   ],
   "source": [
    "df[df == \"\"] <- NA # Replace empty strings with NA\n",
    "\n",
    "colSums(is.na(df)) # Check for missing values\n",
    "\n",
    "sum(duplicated(df)) # Check for duplicate entries\n",
    "\n",
    "df %>% # Count rows with invalid or implausible values\n",
    "  filter(\n",
    "    unit_price <= 0 | # Unit price should be greater than 0\n",
    "      quantity <= 0 | # Quantity should be greater than 0\n",
    "      discount < 0 | discount > 1 | # Discount must be between 0 and 1\n",
    "      total_price < 0 # Total price should not be negative\n",
    "  ) %>%\n",
    "  nrow() # Count number of rows that meet any of the above conditions"
   ]
  },
  {
   "cell_type": "markdown",
   "metadata": {},
   "source": [
    "### Splitting into B2B and B2C & grouping into different dataframes:\n",
    "#### line-wise, rfm-base, numeric-invoice-wise, full-invoice-wise"
   ]
  },
  {
   "cell_type": "code",
   "execution_count": 4,
   "metadata": {
    "vscode": {
     "languageId": "r"
    }
   },
   "outputs": [],
   "source": [
    "# Split into B2B and B2C segments\n",
    "# Each row represents a product purchase/position(line item)\n",
    "# by a customer on a specific day.\n",
    "# A customer may appear multiple times per day for different products.\n",
    "\n",
    "# B2B orders\n",
    "line_wise_b2b <- df %>% filter(customer_type == \"B2B\")\n",
    "# B2C orders\n",
    "line_wise_b2c <- df %>% filter(customer_type == \"B2C\")\n",
    "\n",
    "# Required for RFM: only customer_id, order_date, and revenue\n",
    "\n",
    "# B2B orders\n",
    "rfm_base_b2b <- line_wise_b2b %>%\n",
    "  group_by(customer_id, order_date) %>% # Group by customer and date\n",
    "  summarise(\n",
    "    total_price = sum(total_price, na.rm = TRUE), # Total revenue per order\n",
    "    .groups = \"drop\"\n",
    "  )\n",
    "# B2C orders\n",
    "rfm_base_b2c <- line_wise_b2c %>%\n",
    "  group_by(customer_id, order_date) %>%\n",
    "  summarise(\n",
    "    total_price = sum(total_price, na.rm = TRUE),\n",
    "    .groups = \"drop\"\n",
    "  )\n",
    "\n",
    "# Numerical summary per invoice (for statistical modeling)\n",
    "# One row per customer and date = one invoice\n",
    "\n",
    "# B2B orders\n",
    "numeric_invoice_wise_b2b <- line_wise_b2b %>%\n",
    "  group_by(customer_id, order_date) %>%\n",
    "  summarise(\n",
    "    quantity = sum(quantity, na.rm = TRUE),\n",
    "    discount = mean(discount, na.rm = TRUE), # Avg. discount per invoice\n",
    "    unit_price = mean(unit_price, na.rm = TRUE), # Avg. unit price per invoice\n",
    "    total_price = sum(total_price, na.rm = TRUE), # Total invoice value\n",
    "    .groups = \"drop\"\n",
    "  )\n",
    "# B2C orders\n",
    "numeric_invoice_wise_b2c <- line_wise_b2c %>%\n",
    "  group_by(customer_id, order_date) %>%\n",
    "  summarise(\n",
    "    quantity = sum(quantity, na.rm = TRUE),\n",
    "    discount = mean(discount, na.rm = TRUE),\n",
    "    unit_price = mean(unit_price, na.rm = TRUE),\n",
    "    total_price = sum(total_price, na.rm = TRUE),\n",
    "    .groups = \"drop\"\n",
    "  )\n",
    "\n",
    "# Full invoice-level dataset including order_id and region\n",
    "# Each row = one invoice (combination of order_id, customer_id, and date)\n",
    "\n",
    "# B2B orders\n",
    "full_invoice_wise_b2b <- line_wise_b2b %>%\n",
    "  group_by(order_id, customer_id, order_date, region) %>%\n",
    "  summarise(\n",
    "    quantity = sum(quantity, na.rm = TRUE),\n",
    "    discount = mean(discount, na.rm = TRUE),\n",
    "    unit_price = mean(unit_price, na.rm = TRUE),\n",
    "    total_price = sum(total_price, na.rm = TRUE),\n",
    "    .groups = \"drop\"\n",
    "  )\n",
    "# B2C orders\n",
    "full_invoice_wise_b2c <- line_wise_b2c %>%\n",
    "  group_by(order_id, customer_id, order_date, region) %>%\n",
    "  summarise(\n",
    "    quantity = sum(quantity, na.rm = TRUE),\n",
    "    discount = mean(discount, na.rm = TRUE),\n",
    "    unit_price = mean(unit_price, na.rm = TRUE),\n",
    "    total_price = sum(total_price, na.rm = TRUE),\n",
    "    .groups = \"drop\"\n",
    "  )\n"
   ]
  },
  {
   "cell_type": "code",
   "execution_count": 5,
   "metadata": {
    "vscode": {
     "languageId": "r"
    }
   },
   "outputs": [
    {
     "name": "stdout",
     "output_type": "stream",
     "text": [
      "[1] \"line-wise, b2b\"\n"
     ]
    },
    {
     "name": "stdout",
     "output_type": "stream",
     "text": [
      "Rows: 3,204,505\n",
      "Columns: 11\n",
      "$ order_id      \u001b[3m\u001b[90m<chr>\u001b[39m\u001b[23m \"ORD1\", \"ORD1\", \"ORD1\", \"ORD1\", \"ORD1\", \"ORD3\", \"ORD3\", …\n",
      "$ customer_id   \u001b[3m\u001b[90m<chr>\u001b[39m\u001b[23m \"CUS1496\", \"CUS1496\", \"CUS1496\", \"CUS1496\", \"CUS1496\", \"…\n",
      "$ customer_type \u001b[3m\u001b[90m<chr>\u001b[39m\u001b[23m \"B2B\", \"B2B\", \"B2B\", \"B2B\", \"B2B\", \"B2B\", \"B2B\", \"B2B\", …\n",
      "$ product       \u001b[3m\u001b[90m<chr>\u001b[39m\u001b[23m \"Vio Wasser\", \"Evian\", \"Sprite\", \"Rauch Multivitamin\", \"…\n",
      "$ category      \u001b[3m\u001b[90m<chr>\u001b[39m\u001b[23m \"Water\", \"Water\", \"Soft Drinks\", \"Juices\", \"Water\", \"Jui…\n",
      "$ unit_price    \u001b[3m\u001b[90m<dbl>\u001b[39m\u001b[23m 1.66, 1.56, 1.17, 3.22, 0.87, 2.14, 0.43, 1.21, 1.38, 1.…\n",
      "$ quantity      \u001b[3m\u001b[90m<dbl>\u001b[39m\u001b[23m 53, 90, 73, 59, 35, 44, 13, 92, 3, 8, 16, 3, 43, 44, 10,…\n",
      "$ discount      \u001b[3m\u001b[90m<dbl>\u001b[39m\u001b[23m 0.10, 0.10, 0.05, 0.10, 0.10, 0.10, 0.05, 0.10, 0.05, 0.…\n",
      "$ total_price   \u001b[3m\u001b[90m<dbl>\u001b[39m\u001b[23m 79.18, 126.36, 81.14, 170.98, 27.40, 84.74, 5.31, 100.19…\n",
      "$ region        \u001b[3m\u001b[90m<chr>\u001b[39m\u001b[23m \"Baden-Württemberg\", \"Baden-Württemberg\", \"Baden-Württem…\n",
      "$ order_date    \u001b[3m\u001b[90m<date>\u001b[39m\u001b[23m 2023-08-23, 2023-08-23, 2023-08-23, 2023-08-23, 2023-08…\n"
     ]
    },
    {
     "data": {
      "text/html": [
       "<table class=\"dataframe\">\n",
       "<caption>A tibble: 4 × 11</caption>\n",
       "<thead>\n",
       "\t<tr><th scope=col>order_id</th><th scope=col>customer_id</th><th scope=col>customer_type</th><th scope=col>product</th><th scope=col>category</th><th scope=col>unit_price</th><th scope=col>quantity</th><th scope=col>discount</th><th scope=col>total_price</th><th scope=col>region</th><th scope=col>order_date</th></tr>\n",
       "\t<tr><th scope=col>&lt;chr&gt;</th><th scope=col>&lt;chr&gt;</th><th scope=col>&lt;chr&gt;</th><th scope=col>&lt;chr&gt;</th><th scope=col>&lt;chr&gt;</th><th scope=col>&lt;dbl&gt;</th><th scope=col>&lt;dbl&gt;</th><th scope=col>&lt;dbl&gt;</th><th scope=col>&lt;dbl&gt;</th><th scope=col>&lt;chr&gt;</th><th scope=col>&lt;date&gt;</th></tr>\n",
       "</thead>\n",
       "<tbody>\n",
       "\t<tr><td>ORD1</td><td>CUS1496</td><td>B2B</td><td>Vio Wasser        </td><td>Water      </td><td>1.66</td><td>53</td><td>0.10</td><td> 79.18</td><td>Baden-Württemberg</td><td>2023-08-23</td></tr>\n",
       "\t<tr><td>ORD1</td><td>CUS1496</td><td>B2B</td><td>Evian             </td><td>Water      </td><td>1.56</td><td>90</td><td>0.10</td><td>126.36</td><td>Baden-Württemberg</td><td>2023-08-23</td></tr>\n",
       "\t<tr><td>ORD1</td><td>CUS1496</td><td>B2B</td><td>Sprite            </td><td>Soft Drinks</td><td>1.17</td><td>73</td><td>0.05</td><td> 81.14</td><td>Baden-Württemberg</td><td>2023-08-23</td></tr>\n",
       "\t<tr><td>ORD1</td><td>CUS1496</td><td>B2B</td><td>Rauch Multivitamin</td><td>Juices     </td><td>3.22</td><td>59</td><td>0.10</td><td>170.98</td><td>Baden-Württemberg</td><td>2023-08-23</td></tr>\n",
       "</tbody>\n",
       "</table>\n"
      ],
      "text/latex": [
       "A tibble: 4 × 11\n",
       "\\begin{tabular}{lllllllllll}\n",
       " order\\_id & customer\\_id & customer\\_type & product & category & unit\\_price & quantity & discount & total\\_price & region & order\\_date\\\\\n",
       " <chr> & <chr> & <chr> & <chr> & <chr> & <dbl> & <dbl> & <dbl> & <dbl> & <chr> & <date>\\\\\n",
       "\\hline\n",
       "\t ORD1 & CUS1496 & B2B & Vio Wasser         & Water       & 1.66 & 53 & 0.10 &  79.18 & Baden-Württemberg & 2023-08-23\\\\\n",
       "\t ORD1 & CUS1496 & B2B & Evian              & Water       & 1.56 & 90 & 0.10 & 126.36 & Baden-Württemberg & 2023-08-23\\\\\n",
       "\t ORD1 & CUS1496 & B2B & Sprite             & Soft Drinks & 1.17 & 73 & 0.05 &  81.14 & Baden-Württemberg & 2023-08-23\\\\\n",
       "\t ORD1 & CUS1496 & B2B & Rauch Multivitamin & Juices      & 3.22 & 59 & 0.10 & 170.98 & Baden-Württemberg & 2023-08-23\\\\\n",
       "\\end{tabular}\n"
      ],
      "text/markdown": [
       "\n",
       "A tibble: 4 × 11\n",
       "\n",
       "| order_id &lt;chr&gt; | customer_id &lt;chr&gt; | customer_type &lt;chr&gt; | product &lt;chr&gt; | category &lt;chr&gt; | unit_price &lt;dbl&gt; | quantity &lt;dbl&gt; | discount &lt;dbl&gt; | total_price &lt;dbl&gt; | region &lt;chr&gt; | order_date &lt;date&gt; |\n",
       "|---|---|---|---|---|---|---|---|---|---|---|\n",
       "| ORD1 | CUS1496 | B2B | Vio Wasser         | Water       | 1.66 | 53 | 0.10 |  79.18 | Baden-Württemberg | 2023-08-23 |\n",
       "| ORD1 | CUS1496 | B2B | Evian              | Water       | 1.56 | 90 | 0.10 | 126.36 | Baden-Württemberg | 2023-08-23 |\n",
       "| ORD1 | CUS1496 | B2B | Sprite             | Soft Drinks | 1.17 | 73 | 0.05 |  81.14 | Baden-Württemberg | 2023-08-23 |\n",
       "| ORD1 | CUS1496 | B2B | Rauch Multivitamin | Juices      | 3.22 | 59 | 0.10 | 170.98 | Baden-Württemberg | 2023-08-23 |\n",
       "\n"
      ],
      "text/plain": [
       "  order_id customer_id customer_type product            category    unit_price\n",
       "1 ORD1     CUS1496     B2B           Vio Wasser         Water       1.66      \n",
       "2 ORD1     CUS1496     B2B           Evian              Water       1.56      \n",
       "3 ORD1     CUS1496     B2B           Sprite             Soft Drinks 1.17      \n",
       "4 ORD1     CUS1496     B2B           Rauch Multivitamin Juices      3.22      \n",
       "  quantity discount total_price region            order_date\n",
       "1 53       0.10      79.18      Baden-Württemberg 2023-08-23\n",
       "2 90       0.10     126.36      Baden-Württemberg 2023-08-23\n",
       "3 73       0.05      81.14      Baden-Württemberg 2023-08-23\n",
       "4 59       0.10     170.98      Baden-Württemberg 2023-08-23"
      ]
     },
     "metadata": {},
     "output_type": "display_data"
    },
    {
     "name": "stdout",
     "output_type": "stream",
     "text": [
      "[1] \"rfm-base, b2b\"\n",
      "Rows: 935,300\n",
      "Columns: 3\n",
      "$ customer_id \u001b[3m\u001b[90m<chr>\u001b[39m\u001b[23m \"CUS1000\", \"CUS1000\", \"CUS1000\", \"CUS1000\", \"CUS1000\", \"CU…\n",
      "$ order_date  \u001b[3m\u001b[90m<date>\u001b[39m\u001b[23m 2021-01-03, 2021-01-04, 2021-01-06, 2021-01-11, 2021-01-1…\n",
      "$ total_price \u001b[3m\u001b[90m<dbl>\u001b[39m\u001b[23m 827.07, 414.21, 142.12, 348.41, 1051.40, 570.97, 4350.27, …\n"
     ]
    },
    {
     "data": {
      "text/html": [
       "<table class=\"dataframe\">\n",
       "<caption>A tibble: 4 × 3</caption>\n",
       "<thead>\n",
       "\t<tr><th scope=col>customer_id</th><th scope=col>order_date</th><th scope=col>total_price</th></tr>\n",
       "\t<tr><th scope=col>&lt;chr&gt;</th><th scope=col>&lt;date&gt;</th><th scope=col>&lt;dbl&gt;</th></tr>\n",
       "</thead>\n",
       "<tbody>\n",
       "\t<tr><td>CUS1000</td><td>2021-01-03</td><td>827.07</td></tr>\n",
       "\t<tr><td>CUS1000</td><td>2021-01-04</td><td>414.21</td></tr>\n",
       "\t<tr><td>CUS1000</td><td>2021-01-06</td><td>142.12</td></tr>\n",
       "\t<tr><td>CUS1000</td><td>2021-01-11</td><td>348.41</td></tr>\n",
       "</tbody>\n",
       "</table>\n"
      ],
      "text/latex": [
       "A tibble: 4 × 3\n",
       "\\begin{tabular}{lll}\n",
       " customer\\_id & order\\_date & total\\_price\\\\\n",
       " <chr> & <date> & <dbl>\\\\\n",
       "\\hline\n",
       "\t CUS1000 & 2021-01-03 & 827.07\\\\\n",
       "\t CUS1000 & 2021-01-04 & 414.21\\\\\n",
       "\t CUS1000 & 2021-01-06 & 142.12\\\\\n",
       "\t CUS1000 & 2021-01-11 & 348.41\\\\\n",
       "\\end{tabular}\n"
      ],
      "text/markdown": [
       "\n",
       "A tibble: 4 × 3\n",
       "\n",
       "| customer_id &lt;chr&gt; | order_date &lt;date&gt; | total_price &lt;dbl&gt; |\n",
       "|---|---|---|\n",
       "| CUS1000 | 2021-01-03 | 827.07 |\n",
       "| CUS1000 | 2021-01-04 | 414.21 |\n",
       "| CUS1000 | 2021-01-06 | 142.12 |\n",
       "| CUS1000 | 2021-01-11 | 348.41 |\n",
       "\n"
      ],
      "text/plain": [
       "  customer_id order_date total_price\n",
       "1 CUS1000     2021-01-03 827.07     \n",
       "2 CUS1000     2021-01-04 414.21     \n",
       "3 CUS1000     2021-01-06 142.12     \n",
       "4 CUS1000     2021-01-11 348.41     "
      ]
     },
     "metadata": {},
     "output_type": "display_data"
    },
    {
     "name": "stdout",
     "output_type": "stream",
     "text": [
      "[1] \"numeric-invoice-wise, b2b\"\n",
      "Rows: 935,300\n",
      "Columns: 6\n",
      "$ customer_id \u001b[3m\u001b[90m<chr>\u001b[39m\u001b[23m \"CUS1000\", \"CUS1000\", \"CUS1000\", \"CUS1000\", \"CUS1000\", \"CU…\n",
      "$ order_date  \u001b[3m\u001b[90m<date>\u001b[39m\u001b[23m 2021-01-03, 2021-01-04, 2021-01-06, 2021-01-11, 2021-01-1…\n",
      "$ quantity    \u001b[3m\u001b[90m<dbl>\u001b[39m\u001b[23m 228, 144, 22, 130, 241, 139, 107, 297, 30, 65, 293, 163, 1…\n",
      "$ discount    \u001b[3m\u001b[90m<dbl>\u001b[39m\u001b[23m 0.08750000, 0.06250000, 0.05000000, 0.12500000, 0.08000000…\n",
      "$ unit_price  \u001b[3m\u001b[90m<dbl>\u001b[39m\u001b[23m 2.887500, 2.522500, 6.800000, 2.435000, 4.976000, 5.104000…\n",
      "$ total_price \u001b[3m\u001b[90m<dbl>\u001b[39m\u001b[23m 827.07, 414.21, 142.12, 348.41, 1051.40, 570.97, 4350.27, …\n"
     ]
    },
    {
     "data": {
      "text/html": [
       "<table class=\"dataframe\">\n",
       "<caption>A tibble: 4 × 6</caption>\n",
       "<thead>\n",
       "\t<tr><th scope=col>customer_id</th><th scope=col>order_date</th><th scope=col>quantity</th><th scope=col>discount</th><th scope=col>unit_price</th><th scope=col>total_price</th></tr>\n",
       "\t<tr><th scope=col>&lt;chr&gt;</th><th scope=col>&lt;date&gt;</th><th scope=col>&lt;dbl&gt;</th><th scope=col>&lt;dbl&gt;</th><th scope=col>&lt;dbl&gt;</th><th scope=col>&lt;dbl&gt;</th></tr>\n",
       "</thead>\n",
       "<tbody>\n",
       "\t<tr><td>CUS1000</td><td>2021-01-03</td><td>228</td><td>0.0875</td><td>2.8875</td><td>827.07</td></tr>\n",
       "\t<tr><td>CUS1000</td><td>2021-01-04</td><td>144</td><td>0.0625</td><td>2.5225</td><td>414.21</td></tr>\n",
       "\t<tr><td>CUS1000</td><td>2021-01-06</td><td> 22</td><td>0.0500</td><td>6.8000</td><td>142.12</td></tr>\n",
       "\t<tr><td>CUS1000</td><td>2021-01-11</td><td>130</td><td>0.1250</td><td>2.4350</td><td>348.41</td></tr>\n",
       "</tbody>\n",
       "</table>\n"
      ],
      "text/latex": [
       "A tibble: 4 × 6\n",
       "\\begin{tabular}{llllll}\n",
       " customer\\_id & order\\_date & quantity & discount & unit\\_price & total\\_price\\\\\n",
       " <chr> & <date> & <dbl> & <dbl> & <dbl> & <dbl>\\\\\n",
       "\\hline\n",
       "\t CUS1000 & 2021-01-03 & 228 & 0.0875 & 2.8875 & 827.07\\\\\n",
       "\t CUS1000 & 2021-01-04 & 144 & 0.0625 & 2.5225 & 414.21\\\\\n",
       "\t CUS1000 & 2021-01-06 &  22 & 0.0500 & 6.8000 & 142.12\\\\\n",
       "\t CUS1000 & 2021-01-11 & 130 & 0.1250 & 2.4350 & 348.41\\\\\n",
       "\\end{tabular}\n"
      ],
      "text/markdown": [
       "\n",
       "A tibble: 4 × 6\n",
       "\n",
       "| customer_id &lt;chr&gt; | order_date &lt;date&gt; | quantity &lt;dbl&gt; | discount &lt;dbl&gt; | unit_price &lt;dbl&gt; | total_price &lt;dbl&gt; |\n",
       "|---|---|---|---|---|---|\n",
       "| CUS1000 | 2021-01-03 | 228 | 0.0875 | 2.8875 | 827.07 |\n",
       "| CUS1000 | 2021-01-04 | 144 | 0.0625 | 2.5225 | 414.21 |\n",
       "| CUS1000 | 2021-01-06 |  22 | 0.0500 | 6.8000 | 142.12 |\n",
       "| CUS1000 | 2021-01-11 | 130 | 0.1250 | 2.4350 | 348.41 |\n",
       "\n"
      ],
      "text/plain": [
       "  customer_id order_date quantity discount unit_price total_price\n",
       "1 CUS1000     2021-01-03 228      0.0875   2.8875     827.07     \n",
       "2 CUS1000     2021-01-04 144      0.0625   2.5225     414.21     \n",
       "3 CUS1000     2021-01-06  22      0.0500   6.8000     142.12     \n",
       "4 CUS1000     2021-01-11 130      0.1250   2.4350     348.41     "
      ]
     },
     "metadata": {},
     "output_type": "display_data"
    },
    {
     "name": "stdout",
     "output_type": "stream",
     "text": [
      "[1] \"full-invoice-wise, b2b\"\n",
      "Rows: 1,068,808\n",
      "Columns: 8\n",
      "$ order_id    \u001b[3m\u001b[90m<chr>\u001b[39m\u001b[23m \"ORD1\", \"ORD10\", \"ORD1000\", \"ORD1000000\", \"ORD1000006\", \"O…\n",
      "$ customer_id \u001b[3m\u001b[90m<chr>\u001b[39m\u001b[23m \"CUS1496\", \"CUS9472\", \"CUS9185\", \"CUS3347\", \"CUS3145\", \"CU…\n",
      "$ order_date  \u001b[3m\u001b[90m<date>\u001b[39m\u001b[23m 2023-08-23, 2023-04-09, 2022-06-17, 2023-07-07, 2021-01-2…\n",
      "$ region      \u001b[3m\u001b[90m<chr>\u001b[39m\u001b[23m \"Baden-Württemberg\", \"Bayern\", \"Niedersachsen\", \"Thüringen…\n",
      "$ quantity    \u001b[3m\u001b[90m<dbl>\u001b[39m\u001b[23m 310, 196, 161, 184, 75, 167, 11, 244, 359, 218, 340, 380, …\n",
      "$ discount    \u001b[3m\u001b[90m<dbl>\u001b[39m\u001b[23m 0.09000000, 0.08333333, 0.08750000, 0.08333333, 0.10000000…\n",
      "$ unit_price  \u001b[3m\u001b[90m<dbl>\u001b[39m\u001b[23m 1.696000, 1.820000, 6.480000, 30.736667, 1.430000, 1.98666…\n",
      "$ total_price \u001b[3m\u001b[90m<dbl>\u001b[39m\u001b[23m 485.06, 301.74, 1018.33, 6293.73, 96.52, 370.17, 18.29, 22…\n"
     ]
    },
    {
     "data": {
      "text/html": [
       "<table class=\"dataframe\">\n",
       "<caption>A tibble: 4 × 8</caption>\n",
       "<thead>\n",
       "\t<tr><th scope=col>order_id</th><th scope=col>customer_id</th><th scope=col>order_date</th><th scope=col>region</th><th scope=col>quantity</th><th scope=col>discount</th><th scope=col>unit_price</th><th scope=col>total_price</th></tr>\n",
       "\t<tr><th scope=col>&lt;chr&gt;</th><th scope=col>&lt;chr&gt;</th><th scope=col>&lt;date&gt;</th><th scope=col>&lt;chr&gt;</th><th scope=col>&lt;dbl&gt;</th><th scope=col>&lt;dbl&gt;</th><th scope=col>&lt;dbl&gt;</th><th scope=col>&lt;dbl&gt;</th></tr>\n",
       "</thead>\n",
       "<tbody>\n",
       "\t<tr><td>ORD1      </td><td>CUS1496</td><td>2023-08-23</td><td>Baden-Württemberg</td><td>310</td><td>0.09000000</td><td> 1.69600</td><td> 485.06</td></tr>\n",
       "\t<tr><td>ORD10     </td><td>CUS9472</td><td>2023-04-09</td><td>Bayern           </td><td>196</td><td>0.08333333</td><td> 1.82000</td><td> 301.74</td></tr>\n",
       "\t<tr><td>ORD1000   </td><td>CUS9185</td><td>2022-06-17</td><td>Niedersachsen    </td><td>161</td><td>0.08750000</td><td> 6.48000</td><td>1018.33</td></tr>\n",
       "\t<tr><td>ORD1000000</td><td>CUS3347</td><td>2023-07-07</td><td>Thüringen        </td><td>184</td><td>0.08333333</td><td>30.73667</td><td>6293.73</td></tr>\n",
       "</tbody>\n",
       "</table>\n"
      ],
      "text/latex": [
       "A tibble: 4 × 8\n",
       "\\begin{tabular}{llllllll}\n",
       " order\\_id & customer\\_id & order\\_date & region & quantity & discount & unit\\_price & total\\_price\\\\\n",
       " <chr> & <chr> & <date> & <chr> & <dbl> & <dbl> & <dbl> & <dbl>\\\\\n",
       "\\hline\n",
       "\t ORD1       & CUS1496 & 2023-08-23 & Baden-Württemberg & 310 & 0.09000000 &  1.69600 &  485.06\\\\\n",
       "\t ORD10      & CUS9472 & 2023-04-09 & Bayern            & 196 & 0.08333333 &  1.82000 &  301.74\\\\\n",
       "\t ORD1000    & CUS9185 & 2022-06-17 & Niedersachsen     & 161 & 0.08750000 &  6.48000 & 1018.33\\\\\n",
       "\t ORD1000000 & CUS3347 & 2023-07-07 & Thüringen         & 184 & 0.08333333 & 30.73667 & 6293.73\\\\\n",
       "\\end{tabular}\n"
      ],
      "text/markdown": [
       "\n",
       "A tibble: 4 × 8\n",
       "\n",
       "| order_id &lt;chr&gt; | customer_id &lt;chr&gt; | order_date &lt;date&gt; | region &lt;chr&gt; | quantity &lt;dbl&gt; | discount &lt;dbl&gt; | unit_price &lt;dbl&gt; | total_price &lt;dbl&gt; |\n",
       "|---|---|---|---|---|---|---|---|\n",
       "| ORD1       | CUS1496 | 2023-08-23 | Baden-Württemberg | 310 | 0.09000000 |  1.69600 |  485.06 |\n",
       "| ORD10      | CUS9472 | 2023-04-09 | Bayern            | 196 | 0.08333333 |  1.82000 |  301.74 |\n",
       "| ORD1000    | CUS9185 | 2022-06-17 | Niedersachsen     | 161 | 0.08750000 |  6.48000 | 1018.33 |\n",
       "| ORD1000000 | CUS3347 | 2023-07-07 | Thüringen         | 184 | 0.08333333 | 30.73667 | 6293.73 |\n",
       "\n"
      ],
      "text/plain": [
       "  order_id   customer_id order_date region            quantity discount  \n",
       "1 ORD1       CUS1496     2023-08-23 Baden-Württemberg 310      0.09000000\n",
       "2 ORD10      CUS9472     2023-04-09 Bayern            196      0.08333333\n",
       "3 ORD1000    CUS9185     2022-06-17 Niedersachsen     161      0.08750000\n",
       "4 ORD1000000 CUS3347     2023-07-07 Thüringen         184      0.08333333\n",
       "  unit_price total_price\n",
       "1  1.69600    485.06    \n",
       "2  1.82000    301.74    \n",
       "3  6.48000   1018.33    \n",
       "4 30.73667   6293.73    "
      ]
     },
     "metadata": {},
     "output_type": "display_data"
    }
   ],
   "source": [
    "# ------------------------------ prints ------------------------------\n",
    "print(\"line-wise, b2b\")\n",
    "glimpse(line_wise_b2b) # print summary of data frame\n",
    "head(line_wise_b2b, 4) # print first 4 rows of data frame\n",
    "\n",
    "print(\"rfm-base, b2b\")\n",
    "glimpse(rfm_base_b2b) # print summary of data frame\n",
    "head(rfm_base_b2b, 4) # print first 4 rows of data frame\n",
    "\n",
    "print(\"numeric-invoice-wise, b2b\")\n",
    "glimpse(numeric_invoice_wise_b2b) # print summary of data frame\n",
    "head(numeric_invoice_wise_b2b, 4) # print first 4 rows of data frame\n",
    "\n",
    "print(\"full-invoice-wise, b2b\")\n",
    "glimpse(full_invoice_wise_b2b) # print summary of data frame\n",
    "head(full_invoice_wise_b2b, 4) # print first 4 rows of data frame"
   ]
  },
  {
   "cell_type": "markdown",
   "metadata": {},
   "source": [
    "### Descriptive Statistical Analysis"
   ]
  },
  {
   "cell_type": "code",
   "execution_count": 6,
   "metadata": {
    "vscode": {
     "languageId": "r"
    }
   },
   "outputs": [],
   "source": [
    "# Summary statistics based on line-item level (each row = one product purchase)\n",
    "# Not aggregated by invoice/customer\n",
    "\n",
    "# B2B orders\n",
    "line_wise_summary_b2b <- line_wise_b2b %>%\n",
    "  summarise(\n",
    "    discount    = list(discount),\n",
    "    quantity    = list(quantity),\n",
    "    total_price = list(total_price),\n",
    "    unit_price  = list(unit_price)\n",
    "  ) %>%\n",
    "  pivot_longer(everything(), names_to = \"variable\", values_to = \"values\") %>%\n",
    "  mutate(\n",
    "    count  = map_int(values, ~ length(.x)),\n",
    "    mean   = map_dbl(values, ~ mean(.x, na.rm = TRUE)),\n",
    "    sd     = map_dbl(values, ~ sd(.x, na.rm = TRUE)),\n",
    "    min    = map_dbl(values, ~ min(.x, na.rm = TRUE)),\n",
    "    q25    = map_dbl(values, ~ quantile(.x, 0.25, na.rm = TRUE)),\n",
    "    median = map_dbl(values, ~ median(.x, na.rm = TRUE)),\n",
    "    q75    = map_dbl(values, ~ quantile(.x, 0.75, na.rm = TRUE)),\n",
    "    max    = map_dbl(values, ~ max(.x, na.rm = TRUE))\n",
    "  ) %>%\n",
    "  select(variable, count, mean, sd, min, q25, median, q75, max)\n",
    "# B2C orders\n",
    "line_wise_summary_b2c <- line_wise_b2c %>%\n",
    "  summarise(\n",
    "    discount    = list(discount),\n",
    "    quantity    = list(quantity),\n",
    "    total_price = list(total_price),\n",
    "    unit_price  = list(unit_price)\n",
    "  ) %>%\n",
    "  pivot_longer(everything(), names_to = \"variable\", values_to = \"values\") %>%\n",
    "  mutate(\n",
    "    count  = map_int(values, ~ length(.x)),\n",
    "    mean   = map_dbl(values, ~ mean(.x, na.rm = TRUE)),\n",
    "    sd     = map_dbl(values, ~ sd(.x, na.rm = TRUE)),\n",
    "    min    = map_dbl(values, ~ min(.x, na.rm = TRUE)),\n",
    "    q25    = map_dbl(values, ~ quantile(.x, 0.25, na.rm = TRUE)),\n",
    "    median = map_dbl(values, ~ median(.x, na.rm = TRUE)),\n",
    "    q75    = map_dbl(values, ~ quantile(.x, 0.75, na.rm = TRUE)),\n",
    "    max    = map_dbl(values, ~ max(.x, na.rm = TRUE))\n",
    "  ) %>%\n",
    "  select(variable, count, mean, sd, min, q25, median, q75, max)\n",
    "\n",
    "# Summary statistics based on invoice-level data\n",
    "# Each row represents one invoice (aggregated per customer and order date)\n",
    "\n",
    "# B2B orders\n",
    "invoice_wise_summary_b2b <- numeric_invoice_wise_b2b %>%\n",
    "  summarise(\n",
    "    discount    = list(discount),\n",
    "    quantity    = list(quantity),\n",
    "    total_price = list(total_price),\n",
    "    unit_price  = list(unit_price)\n",
    "  ) %>%\n",
    "  pivot_longer(everything(), names_to = \"variable\", values_to = \"values\") %>%\n",
    "  mutate(\n",
    "    count  = map_int(values, ~ length(.x)),\n",
    "    mean   = map_dbl(values, ~ mean(.x, na.rm = TRUE)),\n",
    "    sd     = map_dbl(values, ~ sd(.x, na.rm = TRUE)),\n",
    "    min    = map_dbl(values, ~ min(.x, na.rm = TRUE)),\n",
    "    q25    = map_dbl(values, ~ quantile(.x, 0.25, na.rm = TRUE)),\n",
    "    median = map_dbl(values, ~ median(.x, na.rm = TRUE)),\n",
    "    q75    = map_dbl(values, ~ quantile(.x, 0.75, na.rm = TRUE)),\n",
    "    max    = map_dbl(values, ~ max(.x, na.rm = TRUE))\n",
    "  ) %>%\n",
    "  select(variable, count, mean, sd, min, q25, median, q75, max)\n",
    "# B2C orders\n",
    "invoice_wise_summary_b2c <- numeric_invoice_wise_b2c %>%\n",
    "  summarise(\n",
    "    discount    = list(discount),\n",
    "    quantity    = list(quantity),\n",
    "    total_price = list(total_price),\n",
    "    unit_price  = list(unit_price)\n",
    "  ) %>%\n",
    "  pivot_longer(everything(), names_to = \"variable\", values_to = \"values\") %>%\n",
    "  mutate(\n",
    "    count  = map_int(values, ~ length(.x)),\n",
    "    mean   = map_dbl(values, ~ mean(.x, na.rm = TRUE)),\n",
    "    sd     = map_dbl(values, ~ sd(.x, na.rm = TRUE)),\n",
    "    min    = map_dbl(values, ~ min(.x, na.rm = TRUE)),\n",
    "    q25    = map_dbl(values, ~ quantile(.x, 0.25, na.rm = TRUE)),\n",
    "    median = map_dbl(values, ~ median(.x, na.rm = TRUE)),\n",
    "    q75    = map_dbl(values, ~ quantile(.x, 0.75, na.rm = TRUE)),\n",
    "    max    = map_dbl(values, ~ max(.x, na.rm = TRUE))\n",
    "  ) %>%\n",
    "  select(variable, count, mean, sd, min, q25, median, q75, max)"
   ]
  },
  {
   "cell_type": "code",
   "execution_count": 7,
   "metadata": {
    "vscode": {
     "languageId": "r"
    }
   },
   "outputs": [
    {
     "data": {
      "text/plain": [
       "\n",
       "\n",
       "Table: Line-wise summary statistics of B2B numeric variables\n",
       "\n",
       "|variable    |   count|   mean|     sd|  min|   q25| median|    q75|      max|\n",
       "|:-----------|-------:|------:|------:|----:|-----:|------:|------:|--------:|\n",
       "|discount    | 3204505|   0.08|   0.03| 0.05|  0.05|   0.10|   0.10|     0.15|\n",
       "|quantity    | 3204505|  50.52|  28.87| 1.00| 26.00|  51.00|  76.00|   100.00|\n",
       "|total_price | 3204505| 281.36| 810.75| 0.30| 31.35|  77.20| 167.58| 14295.30|\n",
       "|unit_price  | 3204505|   5.63|  13.21| 0.32|  1.03|   1.81|   3.04|   169.53|"
      ]
     },
     "metadata": {},
     "output_type": "display_data"
    },
    {
     "data": {
      "text/plain": [
       "\n",
       "\n",
       "Table: Line-wise summary statistics of B2C numeric variables\n",
       "\n",
       "|variable    |   count|  mean|     sd|  min|  q25| median|   q75|     max|\n",
       "|:-----------|-------:|-----:|------:|----:|----:|------:|-----:|-------:|\n",
       "|discount    | 5795405|  0.00|   0.00| 0.00| 0.00|   0.00|  0.00|    0.00|\n",
       "|quantity    | 5795405|  8.00|   4.32| 1.00| 4.00|   8.00| 12.00|   15.00|\n",
       "|total_price | 5795405| 47.46| 143.17| 0.46| 6.20|  13.02| 26.28| 1686.90|\n",
       "|unit_price  | 5795405|  5.92|  15.46| 0.46| 1.07|   1.75|  3.21|  112.46|"
      ]
     },
     "metadata": {},
     "output_type": "display_data"
    },
    {
     "data": {
      "text/plain": [
       "\n",
       "\n",
       "Table: Invoice-level summary statistics of B2B orders\n",
       "\n",
       "|variable    |  count|   mean|      sd|  min|    q25| median|    q75|      max|\n",
       "|:-----------|------:|------:|-------:|----:|------:|------:|------:|--------:|\n",
       "|discount    | 935300|   0.08|    0.02| 0.05|   0.07|   0.08|   0.10|     0.15|\n",
       "|quantity    | 935300| 173.08|  110.04| 1.00|  89.00| 159.00| 237.00|  1166.00|\n",
       "|total_price | 935300| 963.99| 1582.90| 0.30| 161.36| 365.37| 945.58| 23490.22|\n",
       "|unit_price  | 935300|   5.63|    8.55| 0.32|   1.55|   2.30|   6.12|   154.50|"
      ]
     },
     "metadata": {},
     "output_type": "display_data"
    },
    {
     "data": {
      "text/plain": [
       "\n",
       "\n",
       "Table: Invoice-level summary statistics of B2C orders\n",
       "\n",
       "|variable    |   count|   mean|     sd|  min|   q25| median|    q75|     max|\n",
       "|:-----------|-------:|------:|------:|----:|-----:|------:|------:|-------:|\n",
       "|discount    | 1689025|   0.00|   0.00| 0.00|  0.00|   0.00|   0.00|    0.00|\n",
       "|quantity    | 1689025|  27.45|  17.22| 1.00| 14.00|  25.00|  38.00|  199.00|\n",
       "|total_price | 1689025| 162.85| 277.79| 0.46| 27.51|  59.74| 142.02| 4067.90|\n",
       "|unit_price  | 1689025|   5.92|   9.94| 0.46|  1.57|   2.24|   4.81|  112.46|"
      ]
     },
     "metadata": {},
     "output_type": "display_data"
    }
   ],
   "source": [
    "# ------------------------------ Print summary tables ------------------------------\n",
    "kable(line_wise_summary_b2b, caption = \"Line-wise summary statistics of B2B numeric variables\", digits = 2)\n",
    "kable(line_wise_summary_b2c, caption = \"Line-wise summary statistics of B2C numeric variables\", digits = 2)\n",
    "kable(invoice_wise_summary_b2b, caption = \"Invoice-level summary statistics of B2B orders\", digits = 2)\n",
    "kable(invoice_wise_summary_b2c, caption = \"Invoice-level summary statistics of B2C orders\", digits = 2)\n"
   ]
  },
  {
   "cell_type": "markdown",
   "metadata": {},
   "source": [
    "# RFM Analysis"
   ]
  },
  {
   "cell_type": "code",
   "execution_count": 8,
   "metadata": {
    "vscode": {
     "languageId": "r"
    }
   },
   "outputs": [],
   "source": [
    "analysis_date <- as.Date(\"2023-12-31\") # Analysis date for RFM:last day of year\n",
    "# B2B orders\n",
    "rfm_result_b2b <- rfm_table_order(\n",
    "  data = rfm_base_b2b,\n",
    "  customer_id = customer_id, # Column identifying each customer\n",
    "  order_date = order_date, # Column with the date of each order\n",
    "  revenue = total_price, # Column with the monetary value of the order\n",
    "  analysis_date = analysis_date # Reference point for recency calculation\n",
    ")\n",
    "# B2C orders\n",
    "rfm_result_b2c <- rfm_table_order(\n",
    "  data = rfm_base_b2c,\n",
    "  customer_id = customer_id,\n",
    "  order_date = order_date,\n",
    "  revenue = total_price,\n",
    "  analysis_date = analysis_date\n",
    ")"
   ]
  },
  {
   "cell_type": "markdown",
   "metadata": {},
   "source": [
    "### RFM results & visualizations"
   ]
  },
  {
   "cell_type": "code",
   "execution_count": 9,
   "metadata": {
    "vscode": {
     "languageId": "r"
    }
   },
   "outputs": [
    {
     "name": "stdout",
     "output_type": "stream",
     "text": [
      "Rows: 3,563\n",
      "Columns: 8\n",
      "$ customer_id       \u001b[3m\u001b[90m<chr>\u001b[39m\u001b[23m \"CUS1000\", \"CUS10000\", \"CUS1002\", \"CUS1005\", \"CUS100…\n",
      "$ recency_days      \u001b[3m\u001b[90m<dbl>\u001b[39m\u001b[23m 2, 8, 5, 2, 6, 6, 5, 6, 2, 1, 8, 2, 1, 6, 4, 3, 1, 1…\n",
      "$ transaction_count \u001b[3m\u001b[90m<int>\u001b[39m\u001b[23m 258, 259, 241, 258, 266, 247, 262, 249, 267, 267, 26…\n",
      "$ amount            \u001b[3m\u001b[90m<dbl>\u001b[39m\u001b[23m 271186.9, 253436.7, 247201.9, 259063.1, 277493.9, 26…\n",
      "$ recency_score     \u001b[3m\u001b[90m<int>\u001b[39m\u001b[23m 4, 1, 2, 4, 2, 2, 2, 2, 4, 5, 1, 4, 5, 2, 3, 3, 5, 5…\n",
      "$ frequency_score   \u001b[3m\u001b[90m<int>\u001b[39m\u001b[23m 2, 2, 1, 2, 3, 1, 3, 1, 4, 4, 3, 2, 1, 1, 1, 2, 5, 3…\n",
      "$ monetary_score    \u001b[3m\u001b[90m<int>\u001b[39m\u001b[23m 4, 3, 3, 3, 4, 4, 1, 1, 1, 3, 3, 4, 1, 1, 3, 1, 3, 2…\n",
      "$ rfm_score         \u001b[3m\u001b[90m<dbl>\u001b[39m\u001b[23m 424, 123, 213, 423, 234, 214, 231, 211, 441, 543, 13…\n"
     ]
    }
   ],
   "source": [
    "glimpse(rfm_result_b2b$rfm)"
   ]
  },
  {
   "cell_type": "code",
   "execution_count": 10,
   "metadata": {
    "vscode": {
     "languageId": "r"
    }
   },
   "outputs": [
    {
     "data": {
      "image/png": "[encoded data removed]",
      "text/plain": [
       "plot without title"
      ]
     },
     "metadata": {
      "image/png": {
       "height": 420,
       "width": 420
      }
     },
     "output_type": "display_data"
    },
    {
     "data": {
      "image/png": "[encoded data removed]",
      "text/plain": [
       "plot without title"
      ]
     },
     "metadata": {
      "image/png": {
       "height": 420,
       "width": 420
      }
     },
     "output_type": "display_data"
    },
    {
     "data": {
      "image/png": "[encoded data removed]",
      "text/plain": [
       "plot without title"
      ]
     },
     "metadata": {
      "image/png": {
       "height": 420,
       "width": 420
      }
     },
     "output_type": "display_data"
    },
    {
     "data": {
      "image/png": "[encoded data removed]",
      "text/plain": [
       "plot without title"
      ]
     },
     "metadata": {
      "image/png": {
       "height": 420,
       "width": 420
      }
     },
     "output_type": "display_data"
    },
    {
     "data": {
      "image/png": "[encoded data removed]",
      "text/plain": [
       "plot without title"
      ]
     },
     "metadata": {
      "image/png": {
       "height": 420,
       "width": 420
      }
     },
     "output_type": "display_data"
    },
    {
     "data": {
      "image/png": "[encoded data removed]",
      "text/plain": [
       "plot without title"
      ]
     },
     "metadata": {
      "image/png": {
       "height": 420,
       "width": 420
      }
     },
     "output_type": "display_data"
    }
   ],
   "source": [
    "# B2B customers\n",
    "# Visualize distribution of RFM scores (count of customers per total RFM score)\n",
    "rfm_plot_bar_chart(rfm_result_b2b)\n",
    "# Distribution of recency scores (how recently customers made a purchase)\n",
    "rfm_plot_histogram(rfm_result_b2b, metric = \"recency\")\n",
    "# Distribution of frequency scores (how often customers purchased)\n",
    "rfm_plot_histogram(rfm_result_b2b, metric = \"frequency\")\n",
    "# Distribution of monetary scores (how much customers spent)\n",
    "rfm_plot_histogram(rfm_result_b2b, metric = \"monetary\")\n",
    "# Frequency of RFM score combinations (e.g., RFM = 555, 444, etc.)\n",
    "rfm_plot_order_dist(rfm_result_b2b)\n",
    "# Heatmap of average monetary value by Recency and Frequency segments\n",
    "rfm_plot_heatmap(rfm_result_b2b)"
   ]
  },
  {
   "cell_type": "code",
   "execution_count": 11,
   "metadata": {
    "vscode": {
     "languageId": "r"
    }
   },
   "outputs": [
    {
     "data": {
      "image/png": "[encoded data removed]",
      "text/plain": [
       "plot without title"
      ]
     },
     "metadata": {
      "image/png": {
       "height": 420,
       "width": 420
      }
     },
     "output_type": "display_data"
    },
    {
     "data": {
      "image/png": "[encoded data removed]",
      "text/plain": [
       "plot without title"
      ]
     },
     "metadata": {
      "image/png": {
       "height": 420,
       "width": 420
      }
     },
     "output_type": "display_data"
    },
    {
     "data": {
      "image/png": "[encoded data removed]",
      "text/plain": [
       "plot without title"
      ]
     },
     "metadata": {
      "image/png": {
       "height": 420,
       "width": 420
      }
     },
     "output_type": "display_data"
    },
    {
     "data": {
      "image/png": "[encoded data removed]",
      "text/plain": [
       "plot without title"
      ]
     },
     "metadata": {
      "image/png": {
       "height": 420,
       "width": 420
      }
     },
     "output_type": "display_data"
    },
    {
     "data": {
      "image/png": "[encoded data removed]",
      "text/plain": [
       "plot without title"
      ]
     },
     "metadata": {
      "image/png": {
       "height": 420,
       "width": 420
      }
     },
     "output_type": "display_data"
    },
    {
     "data": {
      "image/png": "[encoded data removed]",
      "text/plain": [
       "plot without title"
      ]
     },
     "metadata": {
      "image/png": {
       "height": 420,
       "width": 420
      }
     },
     "output_type": "display_data"
    }
   ],
   "source": [
    "# B2C customers\n",
    "# Same set of RFM visualizations applied to B2C segment\n",
    "rfm_plot_bar_chart(rfm_result_b2c)\n",
    "rfm_plot_histogram(rfm_result_b2c, metric = \"recency\")\n",
    "rfm_plot_histogram(rfm_result_b2c, metric = \"frequency\")\n",
    "rfm_plot_histogram(rfm_result_b2c, metric = \"monetary\")\n",
    "rfm_plot_order_dist(rfm_result_b2c)\n",
    "rfm_plot_heatmap(rfm_result_b2c)"
   ]
  },
  {
   "cell_type": "markdown",
   "metadata": {},
   "source": [
    "### RFM Segmentation"
   ]
  },
  {
   "cell_type": "code",
   "execution_count": 12,
   "metadata": {
    "vscode": {
     "languageId": "r"
    }
   },
   "outputs": [],
   "source": [
    "# Manually assign RFM-based customer segments based on score combinations\n",
    "# These rules are based on the RFM segmentation taught in the lecture\n",
    "# B2B customers\n",
    "rfm_segmented_b2b <- rfm_result_b2b$rfm %>%\n",
    "  mutate(\n",
    "    segment = case_when(\n",
    "      recency_score %in% 4:5 & frequency_score %in% 4:5 & monetary_score %in% 4:5 ~ \"Champions\",\n",
    "      recency_score %in% 2:5 & frequency_score %in% 3:5 & monetary_score %in% 3:5 ~ \"Loyal Customers\",\n",
    "      recency_score %in% 3:5 & frequency_score %in% 1:3 & monetary_score %in% 1:3 ~ \"Potential Loyalist\",\n",
    "      recency_score %in% 4:5 & frequency_score <= 1 & monetary_score <= 1 ~ \"New Customers\",\n",
    "      recency_score %in% 3:4 & frequency_score <= 1 & monetary_score <= 1 ~ \"Promising\",\n",
    "      recency_score %in% 2:3 & frequency_score %in% 2:3 & monetary_score %in% 2:3 ~ \"Need Attention\",\n",
    "      recency_score %in% 2:3 & frequency_score <= 2 & monetary_score <= 2 ~ \"About To Sleep\",\n",
    "      recency_score <= 2 & frequency_score %in% 2:5 & monetary_score %in% 2:5 ~ \"At Risk\",\n",
    "      recency_score <= 1 & frequency_score %in% 4:5 & monetary_score %in% 4:5 ~ \"Can’t Lose Them\",\n",
    "      recency_score %in% 1:2 & frequency_score %in% 1:2 & monetary_score %in% 1:2 ~ \"Hibernating\",\n",
    "      recency_score <= 2 & frequency_score <= 2 & monetary_score <= 2 ~ \"Lost\",\n",
    "      TRUE ~ \"Uncategorized\"\n",
    "    )\n",
    "  )\n",
    "# B2C customers\n",
    "rfm_segmented_b2c <- rfm_result_b2c$rfm %>%\n",
    "  mutate(\n",
    "    segment = case_when(\n",
    "      recency_score %in% 4:5 & frequency_score %in% 4:5 & monetary_score %in% 4:5 ~ \"Champions\",\n",
    "      recency_score %in% 2:5 & frequency_score %in% 3:5 & monetary_score %in% 3:5 ~ \"Loyal Customers\",\n",
    "      recency_score %in% 3:5 & frequency_score %in% 1:3 & monetary_score %in% 1:3 ~ \"Potential Loyalist\",\n",
    "      recency_score %in% 4:5 & frequency_score <= 1 & monetary_score <= 1 ~ \"New Customers\",\n",
    "      recency_score %in% 3:4 & frequency_score <= 1 & monetary_score <= 1 ~ \"Promising\",\n",
    "      recency_score %in% 2:3 & frequency_score %in% 2:3 & monetary_score %in% 2:3 ~ \"Need Attention\",\n",
    "      recency_score %in% 2:3 & frequency_score <= 2 & monetary_score <= 2 ~ \"About To Sleep\",\n",
    "      recency_score <= 2 & frequency_score %in% 2:5 & monetary_score %in% 2:5 ~ \"At Risk\",\n",
    "      recency_score <= 1 & frequency_score %in% 4:5 & monetary_score %in% 4:5 ~ \"Can’t Lose Them\",\n",
    "      recency_score %in% 1:2 & frequency_score %in% 1:2 & monetary_score %in% 1:2 ~ \"Hibernating\",\n",
    "      recency_score <= 2 & frequency_score <= 2 & monetary_score <= 2 ~ \"Lost\",\n",
    "      TRUE ~ \"Uncategorized\"\n",
    "    )\n",
    "  )"
   ]
  },
  {
   "cell_type": "code",
   "execution_count": 13,
   "metadata": {
    "vscode": {
     "languageId": "r"
    }
   },
   "outputs": [],
   "source": [
    "# ------------------------------ Segment Summary ------------------------------\n",
    "# Calculate total number of customers for B2B\n",
    "total_customers <- nrow(rfm_segmented_b2b)\n",
    "# Define all possible segments to ensure complete reporting\n",
    "all_segments <- c(\n",
    "  \"Champions\", \"Loyal Customers\", \"Potential Loyalist\", \"New Customers\",\n",
    "  \"Promising\", \"Need Attention\", \"About To Sleep\", \"At Risk\",\n",
    "  \"Can’t Lose Them\", \"Hibernating\", \"Lost\", \"Uncategorized\"\n",
    ")\n",
    "# Aggregate segment metrics for B2B: size, avg. spending, transactions, recency\n",
    "segment_analysis_b2b <- rfm_segmented_b2b %>%\n",
    "  group_by(segment) %>%\n",
    "  summarise(\n",
    "    no_customers = n(),\n",
    "    avg_spending = round(mean(amount, na.rm = TRUE), 2),\n",
    "    avg_transactions = round(mean(transaction_count, na.rm = TRUE), 2),\n",
    "    avg_recency_days = round(mean(recency_days, na.rm = TRUE), 1),\n",
    "    .groups = \"drop\"\n",
    "  ) %>%\n",
    "  mutate(\n",
    "    total_customers = total_customers,\n",
    "    percentage = round(100 * no_customers / total_customers, 1)\n",
    "  ) %>%\n",
    "  right_join(tibble(segment = all_segments), by = \"segment\") %>%\n",
    "  replace_na(list(\n",
    "    no_customers = 0,\n",
    "    avg_spending = 0,\n",
    "    avg_transactions = 0,\n",
    "    avg_recency_days = 0,\n",
    "    percentage = 0,\n",
    "    total_customers = total_customers\n",
    "  )) %>%\n",
    "  arrange(factor(segment, levels = all_segments))"
   ]
  },
  {
   "cell_type": "code",
   "execution_count": 14,
   "metadata": {
    "vscode": {
     "languageId": "r"
    }
   },
   "outputs": [],
   "source": [
    "# Repeat the same steps for B2C\n",
    "total_customers <- nrow(rfm_segmented_b2c)\n",
    "\n",
    "segment_analysis_b2c <- rfm_segmented_b2c %>%\n",
    "  group_by(segment) %>%\n",
    "  summarise(\n",
    "    no_customers = n(),\n",
    "    avg_spending = round(mean(amount, na.rm = TRUE), 2),\n",
    "    avg_transactions = round(mean(transaction_count, na.rm = TRUE), 2),\n",
    "    avg_recency_days = round(mean(recency_days, na.rm = TRUE), 1),\n",
    "    .groups = \"drop\"\n",
    "  ) %>%\n",
    "  mutate(\n",
    "    total_customers = total_customers,\n",
    "    percentage = round(100 * no_customers / total_customers, 1)\n",
    "  ) %>%\n",
    "  right_join(tibble(segment = all_segments), by = \"segment\") %>%\n",
    "  replace_na(list(\n",
    "    no_customers = 0,\n",
    "    avg_spending = 0,\n",
    "    avg_transactions = 0,\n",
    "    avg_recency_days = 0,\n",
    "    percentage = 0,\n",
    "    total_customers = total_customers\n",
    "  )) %>%\n",
    "  arrange(factor(segment, levels = all_segments))"
   ]
  },
  {
   "cell_type": "code",
   "execution_count": 15,
   "metadata": {
    "vscode": {
     "languageId": "r"
    }
   },
   "outputs": [
    {
     "data": {
      "text/plain": [
       "\n",
       "\n",
       "Table: RFM Segment Summary – B2B\n",
       "\n",
       "|segment            | no_customers| avg_spending| avg_transactions| avg_recency_days| total_customers| percentage|\n",
       "|:------------------|------------:|------------:|----------------:|----------------:|---------------:|----------:|\n",
       "|Champions          |          346|     286637.7|           278.65|              1.4|            3563|        9.7|\n",
       "|Loyal Customers    |          861|     270568.3|           270.97|              3.2|            3563|       24.2|\n",
       "|Potential Loyalist |          923|     230295.2|           252.08|              2.2|            3563|       25.9|\n",
       "|New Customers      |            0|          0.0|             0.00|              0.0|            3563|        0.0|\n",
       "|Promising          |            0|          0.0|             0.00|              0.0|            3563|        0.0|\n",
       "|Need Attention     |           69|     241827.5|           258.45|              5.4|            3563|        1.9|\n",
       "|About To Sleep     |           96|     218367.9|           246.46|              5.4|            3563|        2.7|\n",
       "|At Risk            |          505|     264282.5|           267.70|              9.5|            3563|       14.2|\n",
       "|Can’t Lose Them    |            0|          0.0|             0.00|              0.0|            3563|        0.0|\n",
       "|Hibernating        |          152|     217886.3|           244.72|             10.3|            3563|        4.3|\n",
       "|Lost               |            0|          0.0|             0.00|              0.0|            3563|        0.0|\n",
       "|Uncategorized      |          611|     249902.5|           260.27|              3.9|            3563|       17.1|"
      ]
     },
     "metadata": {},
     "output_type": "display_data"
    },
    {
     "data": {
      "text/plain": [
       "\n",
       "\n",
       "Table: RFM Segment Summary – B2C\n",
       "\n",
       "|segment            | no_customers| avg_spending| avg_transactions| avg_recency_days| total_customers| percentage|\n",
       "|:------------------|------------:|------------:|----------------:|----------------:|---------------:|----------:|\n",
       "|Champions          |          652|     48376.31|           277.98|              1.4|            6437|       10.1|\n",
       "|Loyal Customers    |         1589|     45834.36|           271.18|              3.3|            6437|       24.7|\n",
       "|Potential Loyalist |         1646|     38665.34|           251.68|              2.2|            6437|       25.6|\n",
       "|New Customers      |            0|         0.00|             0.00|              0.0|            6437|        0.0|\n",
       "|Promising          |            0|         0.00|             0.00|              0.0|            6437|        0.0|\n",
       "|Need Attention     |          127|     40608.60|           258.06|              5.4|            6437|        2.0|\n",
       "|About To Sleep     |          187|     36348.92|           245.88|              5.5|            6437|        2.9|\n",
       "|At Risk            |          844|     44800.99|           267.18|              9.4|            6437|       13.1|\n",
       "|Can’t Lose Them    |            0|         0.00|             0.00|              0.0|            6437|        0.0|\n",
       "|Hibernating        |          257|     36537.57|           244.69|             10.5|            6437|        4.0|\n",
       "|Lost               |            0|         0.00|             0.00|              0.0|            6437|        0.0|\n",
       "|Uncategorized      |         1135|     42193.40|           260.33|              3.9|            6437|       17.6|"
      ]
     },
     "metadata": {},
     "output_type": "display_data"
    },
    {
     "data": {
      "text/html": [
       "<table class=\"dataframe\">\n",
       "<caption>A tibble: 10 × 7</caption>\n",
       "<thead>\n",
       "\t<tr><th scope=col>customer_id</th><th scope=col>recency_score</th><th scope=col>frequency_score</th><th scope=col>monetary_score</th><th scope=col>amount</th><th scope=col>transaction_count</th><th scope=col>recency_days</th></tr>\n",
       "\t<tr><th scope=col>&lt;chr&gt;</th><th scope=col>&lt;int&gt;</th><th scope=col>&lt;int&gt;</th><th scope=col>&lt;int&gt;</th><th scope=col>&lt;dbl&gt;</th><th scope=col>&lt;int&gt;</th><th scope=col>&lt;dbl&gt;</th></tr>\n",
       "</thead>\n",
       "<tbody>\n",
       "\t<tr><td>CUS1001</td><td>5</td><td>4</td><td>1</td><td>35749.85</td><td>268</td><td>1</td></tr>\n",
       "\t<tr><td>CUS1003</td><td>5</td><td>2</td><td>4</td><td>45890.74</td><td>254</td><td>1</td></tr>\n",
       "\t<tr><td>CUS1015</td><td>4</td><td>4</td><td>2</td><td>41273.83</td><td>268</td><td>2</td></tr>\n",
       "\t<tr><td>CUS1039</td><td>5</td><td>5</td><td>1</td><td>34475.56</td><td>275</td><td>1</td></tr>\n",
       "\t<tr><td>CUS1040</td><td>4</td><td>4</td><td>1</td><td>32852.74</td><td>273</td><td>2</td></tr>\n",
       "\t<tr><td>CUS1041</td><td>4</td><td>4</td><td>2</td><td>40552.85</td><td>270</td><td>2</td></tr>\n",
       "\t<tr><td>CUS1050</td><td>4</td><td>5</td><td>1</td><td>35897.40</td><td>283</td><td>2</td></tr>\n",
       "\t<tr><td>CUS1056</td><td>2</td><td>4</td><td>1</td><td>37257.30</td><td>268</td><td>5</td></tr>\n",
       "\t<tr><td>CUS1087</td><td>1</td><td>3</td><td>1</td><td>36951.99</td><td>261</td><td>7</td></tr>\n",
       "\t<tr><td>CUS1107</td><td>4</td><td>4</td><td>1</td><td>29230.56</td><td>267</td><td>2</td></tr>\n",
       "</tbody>\n",
       "</table>\n"
      ],
      "text/latex": [
       "A tibble: 10 × 7\n",
       "\\begin{tabular}{lllllll}\n",
       " customer\\_id & recency\\_score & frequency\\_score & monetary\\_score & amount & transaction\\_count & recency\\_days\\\\\n",
       " <chr> & <int> & <int> & <int> & <dbl> & <int> & <dbl>\\\\\n",
       "\\hline\n",
       "\t CUS1001 & 5 & 4 & 1 & 35749.85 & 268 & 1\\\\\n",
       "\t CUS1003 & 5 & 2 & 4 & 45890.74 & 254 & 1\\\\\n",
       "\t CUS1015 & 4 & 4 & 2 & 41273.83 & 268 & 2\\\\\n",
       "\t CUS1039 & 5 & 5 & 1 & 34475.56 & 275 & 1\\\\\n",
       "\t CUS1040 & 4 & 4 & 1 & 32852.74 & 273 & 2\\\\\n",
       "\t CUS1041 & 4 & 4 & 2 & 40552.85 & 270 & 2\\\\\n",
       "\t CUS1050 & 4 & 5 & 1 & 35897.40 & 283 & 2\\\\\n",
       "\t CUS1056 & 2 & 4 & 1 & 37257.30 & 268 & 5\\\\\n",
       "\t CUS1087 & 1 & 3 & 1 & 36951.99 & 261 & 7\\\\\n",
       "\t CUS1107 & 4 & 4 & 1 & 29230.56 & 267 & 2\\\\\n",
       "\\end{tabular}\n"
      ],
      "text/markdown": [
       "\n",
       "A tibble: 10 × 7\n",
       "\n",
       "| customer_id &lt;chr&gt; | recency_score &lt;int&gt; | frequency_score &lt;int&gt; | monetary_score &lt;int&gt; | amount &lt;dbl&gt; | transaction_count &lt;int&gt; | recency_days &lt;dbl&gt; |\n",
       "|---|---|---|---|---|---|---|\n",
       "| CUS1001 | 5 | 4 | 1 | 35749.85 | 268 | 1 |\n",
       "| CUS1003 | 5 | 2 | 4 | 45890.74 | 254 | 1 |\n",
       "| CUS1015 | 4 | 4 | 2 | 41273.83 | 268 | 2 |\n",
       "| CUS1039 | 5 | 5 | 1 | 34475.56 | 275 | 1 |\n",
       "| CUS1040 | 4 | 4 | 1 | 32852.74 | 273 | 2 |\n",
       "| CUS1041 | 4 | 4 | 2 | 40552.85 | 270 | 2 |\n",
       "| CUS1050 | 4 | 5 | 1 | 35897.40 | 283 | 2 |\n",
       "| CUS1056 | 2 | 4 | 1 | 37257.30 | 268 | 5 |\n",
       "| CUS1087 | 1 | 3 | 1 | 36951.99 | 261 | 7 |\n",
       "| CUS1107 | 4 | 4 | 1 | 29230.56 | 267 | 2 |\n",
       "\n"
      ],
      "text/plain": [
       "   customer_id recency_score frequency_score monetary_score amount  \n",
       "1  CUS1001     5             4               1              35749.85\n",
       "2  CUS1003     5             2               4              45890.74\n",
       "3  CUS1015     4             4               2              41273.83\n",
       "4  CUS1039     5             5               1              34475.56\n",
       "5  CUS1040     4             4               1              32852.74\n",
       "6  CUS1041     4             4               2              40552.85\n",
       "7  CUS1050     4             5               1              35897.40\n",
       "8  CUS1056     2             4               1              37257.30\n",
       "9  CUS1087     1             3               1              36951.99\n",
       "10 CUS1107     4             4               1              29230.56\n",
       "   transaction_count recency_days\n",
       "1  268               1           \n",
       "2  254               1           \n",
       "3  268               2           \n",
       "4  275               1           \n",
       "5  273               2           \n",
       "6  270               2           \n",
       "7  283               2           \n",
       "8  268               5           \n",
       "9  261               7           \n",
       "10 267               2           "
      ]
     },
     "metadata": {},
     "output_type": "display_data"
    }
   ],
   "source": [
    "# ------------------------------ Output Tables ------------------------------\n",
    "# Summary tables per segment for reporting\n",
    "kable(segment_analysis_b2b, caption = \"RFM Segment Summary – B2B\", digits = 2)\n",
    "kable(segment_analysis_b2c, caption = \"RFM Segment Summary – B2C\", digits = 2)\n",
    "\n",
    "# Display a few examples of customers that could not be assigned to a segment\n",
    "rfm_segmented_b2c %>%\n",
    "  filter(segment == \"Uncategorized\") %>%\n",
    "  select(customer_id, recency_score, frequency_score, monetary_score, amount, transaction_count, recency_days) %>%\n",
    "  head(10)\n"
   ]
  },
  {
   "cell_type": "markdown",
   "metadata": {},
   "source": [
    "### Custom RFM Segmentation"
   ]
  },
  {
   "cell_type": "code",
   "execution_count": 16,
   "metadata": {
    "vscode": {
     "languageId": "r"
    }
   },
   "outputs": [],
   "source": [
    "# Define extended set of RFM segments (custom categories)\n",
    "# This includes standard segments and new ones like:\n",
    "# \"Dormant High Value\", \"Occasional Shoppers\", etc.\n",
    "all_segments <- c(\n",
    "  \"Champions\", \"Loyal Customers\", \"Potential Loyalist\",\n",
    "  \"New Customers\", \"Need Attention\", \"Promising\",\n",
    "  \"About To Sleep\", \"At Risk\", \"Can’t Lose Them\",\n",
    "  \"Hibernating\", \"Lost\", \"Dormant High Value\",\n",
    "  \"Occasional Shoppers\"\n",
    ")\n",
    "\n",
    "# B2C Segmentation\n",
    "\n",
    "# Assign each B2C customer to a segment based on detailed RFM scoring logic\n",
    "rfm_segmented_b2c <- rfm_result_b2c$rfm %>%\n",
    "  mutate(\n",
    "    segment = case_when(\n",
    "      recency_score >= 5 & frequency_score >= 5 & monetary_score >= 5 ~ \"Champions\",\n",
    "      recency_score >= 4 & frequency_score >= 4 & monetary_score >= 4 ~ \"Loyal Customers\",\n",
    "      recency_score >= 4 & frequency_score >= 3 & monetary_score >= 3 ~ \"Potential Loyalist\",\n",
    "      recency_score >= 4 & frequency_score >= 2 & monetary_score >= 2 ~ \"New Customers\",\n",
    "      recency_score >= 3 & frequency_score == 2 ~ \"Occasional Shoppers\",\n",
    "      recency_score >= 3 & frequency_score >= 3 & monetary_score >= 3 ~ \"Need Attention\",\n",
    "      recency_score >= 3 & frequency_score == 1 ~ \"Promising\",\n",
    "      recency_score >= 2 & frequency_score >= 3 ~ \"At Risk\",\n",
    "      recency_score >= 2 & frequency_score == 2 ~ \"About To Sleep\",\n",
    "      recency_score >= 1 & frequency_score >= 3 ~ \"Can’t Lose Them\",\n",
    "      recency_score >= 1 & frequency_score <= 2 & monetary_score <= 3 ~ \"Hibernating\",\n",
    "      recency_score >= 3 & monetary_score >= 3 ~ \"Active High Value\",\n",
    "      recency_score >= 3 & monetary_score >= 2 ~ \"Active Medium Value\",\n",
    "      recency_score < 3 & monetary_score >= 2 ~ \"Dormant High Value\",\n",
    "      recency_score <= 1 & frequency_score <= 1 & monetary_score <= 1 ~ \"Lost\",\n",
    "      TRUE ~ \"Uncategorized\"\n",
    "    )\n",
    "  )\n",
    "\n",
    "# Calculate total number of B2C customers (needed for percentage computation)\n",
    "total_customers <- nrow(rfm_segmented_b2c)\n",
    "\n",
    "# Aggregate statistics per segment for B2C\n",
    "segment_analysis_b2c <- rfm_segmented_b2c %>%\n",
    "  group_by(segment) %>%\n",
    "  summarise(\n",
    "    no_customers = n(),\n",
    "    avg_spending = round(mean(amount, na.rm = TRUE), 2),\n",
    "    avg_transactions = round(mean(transaction_count, na.rm = TRUE), 2),\n",
    "    avg_recency_days = round(mean(recency_days, na.rm = TRUE), 1),\n",
    "    .groups = \"drop\"\n",
    "  ) %>%\n",
    "  mutate(\n",
    "    total_customers = total_customers,\n",
    "    percentage = round(100 * no_customers / total_customers, 1)\n",
    "  ) %>%\n",
    "  right_join(tibble(segment = all_segments), by = \"segment\") %>%\n",
    "  replace_na(list(\n",
    "    no_customers = 0,\n",
    "    avg_spending = 0,\n",
    "    avg_transactions = 0,\n",
    "    avg_recency_days = 0,\n",
    "    percentage = 0,\n",
    "    total_customers = total_customers\n",
    "  )) %>%\n",
    "  arrange(factor(segment, levels = all_segments))"
   ]
  },
  {
   "cell_type": "code",
   "execution_count": 17,
   "metadata": {
    "vscode": {
     "languageId": "r"
    }
   },
   "outputs": [],
   "source": [
    "# B2B Segmentation\n",
    "# Apply same custom logic to B2B customers\n",
    "rfm_segmented_b2b <- rfm_result_b2b$rfm %>%\n",
    "  mutate(\n",
    "    segment = case_when(\n",
    "      recency_score >= 5 & frequency_score >= 5 & monetary_score >= 5 ~ \"Champions\",\n",
    "      recency_score >= 4 & frequency_score >= 4 & monetary_score >= 4 ~ \"Loyal Customers\",\n",
    "      recency_score >= 4 & frequency_score >= 3 & monetary_score >= 3 ~ \"Potential Loyalist\",\n",
    "      recency_score >= 4 & frequency_score >= 2 & monetary_score >= 2 ~ \"New Customers\",\n",
    "      recency_score >= 3 & frequency_score == 2 ~ \"Occasional Shoppers\",\n",
    "      recency_score >= 3 & frequency_score >= 3 & monetary_score >= 3 ~ \"Need Attention\",\n",
    "      recency_score >= 3 & frequency_score == 1 ~ \"Promising\",\n",
    "      recency_score >= 2 & frequency_score >= 3 ~ \"At Risk\",\n",
    "      recency_score >= 2 & frequency_score == 2 ~ \"About To Sleep\",\n",
    "      recency_score >= 1 & frequency_score >= 3 ~ \"Can’t Lose Them\",\n",
    "      recency_score >= 1 & frequency_score <= 2 & monetary_score <= 3 ~ \"Hibernating\",\n",
    "      recency_score >= 3 & monetary_score >= 3 ~ \"Active High Value\",\n",
    "      recency_score >= 3 & monetary_score >= 2 ~ \"Active Medium Value\",\n",
    "      recency_score < 3 & monetary_score >= 2 ~ \"Dormant High Value\",\n",
    "      recency_score <= 1 & frequency_score <= 1 & monetary_score <= 1 ~ \"Lost\",\n",
    "      TRUE ~ \"Uncategorized\"\n",
    "    )\n",
    "  )\n",
    "\n",
    "# Calculate total number of B2B customers\n",
    "total_customers <- nrow(rfm_segmented_b2b)\n",
    "\n",
    "# Aggregate statistics per segment for B2B\n",
    "segment_analysis_b2b <- rfm_segmented_b2b %>%\n",
    "  group_by(segment) %>%\n",
    "  summarise(\n",
    "    no_customers = n(),\n",
    "    avg_spending = round(mean(amount, na.rm = TRUE), 2),\n",
    "    avg_transactions = round(mean(transaction_count, na.rm = TRUE), 2),\n",
    "    avg_recency_days = round(mean(recency_days, na.rm = TRUE), 1),\n",
    "    .groups = \"drop\"\n",
    "  ) %>%\n",
    "  mutate(\n",
    "    total_customers = total_customers,\n",
    "    percentage = round(100 * no_customers / total_customers, 1)\n",
    "  ) %>%\n",
    "  right_join(tibble(segment = all_segments), by = \"segment\") %>%\n",
    "  replace_na(list(\n",
    "    no_customers = 0,\n",
    "    avg_spending = 0,\n",
    "    avg_transactions = 0,\n",
    "    avg_recency_days = 0,\n",
    "    percentage = 0,\n",
    "    total_customers = total_customers\n",
    "  )) %>%\n",
    "  arrange(factor(segment, levels = all_segments))"
   ]
  },
  {
   "cell_type": "code",
   "execution_count": 18,
   "metadata": {
    "vscode": {
     "languageId": "r"
    }
   },
   "outputs": [
    {
     "data": {
      "text/plain": [
       "\n",
       "\n",
       "Table: RFM Analysis – B2B\n",
       "\n",
       "|segment             | no_customers| avg_spending| avg_transactions| avg_recency_days| total_customers| percentage|\n",
       "|:-------------------|------------:|------------:|----------------:|----------------:|---------------:|----------:|\n",
       "|Champions           |           74|     298748.1|           284.18|              1.0|            3563|        2.1|\n",
       "|Loyal Customers     |          272|     283342.9|           277.15|              1.5|            3563|        7.6|\n",
       "|Potential Loyalist  |          299|     263104.2|           267.87|              1.4|            3563|        8.4|\n",
       "|New Customers       |          361|     248663.4|           261.05|              1.5|            3563|       10.1|\n",
       "|Need Attention      |          369|     273916.7|           272.87|              3.4|            3563|       10.4|\n",
       "|Promising           |          493|     236679.6|           244.05|              2.1|            3563|       13.8|\n",
       "|About To Sleep      |           91|     244986.9|           255.12|              5.4|            3563|        2.6|\n",
       "|At Risk             |          545|     242683.4|           269.68|              4.2|            3563|       15.3|\n",
       "|Can’t Lose Them     |          384|     262006.2|           271.51|             10.1|            3563|       10.8|\n",
       "|Hibernating         |          334|     228209.3|           246.63|              9.0|            3563|        9.4|\n",
       "|Lost                |            0|          0.0|             0.00|              0.0|            3563|        0.0|\n",
       "|Dormant High Value  |           93|     274826.7|           250.49|              9.0|            3563|        2.6|\n",
       "|Occasional Shoppers |          248|     239119.5|           255.75|              2.8|            3563|        7.0|"
      ]
     },
     "metadata": {},
     "output_type": "display_data"
    },
    {
     "data": {
      "text/plain": [
       "\n",
       "\n",
       "Table: RFM Analysis – B2C\n",
       "\n",
       "|segment             | no_customers| avg_spending| avg_transactions| avg_recency_days| total_customers| percentage|\n",
       "|:-------------------|------------:|------------:|----------------:|----------------:|---------------:|----------:|\n",
       "|Champions           |          132|     50804.62|           283.86|              1.0|            6437|        2.1|\n",
       "|Loyal Customers     |          520|     47759.89|           276.48|              1.5|            6437|        8.1|\n",
       "|Potential Loyalist  |          527|     44447.95|           267.71|              1.4|            6437|        8.2|\n",
       "|New Customers       |          709|     42069.03|           261.40|              1.4|            6437|       11.0|\n",
       "|Need Attention      |          679|     46423.69|           272.65|              3.4|            6437|       10.5|\n",
       "|Promising           |          877|     39725.04|           243.83|              2.2|            6437|       13.6|\n",
       "|About To Sleep      |          186|     41095.01|           255.69|              5.4|            6437|        2.9|\n",
       "|At Risk             |          958|     41183.06|           270.35|              4.1|            6437|       14.9|\n",
       "|Can’t Lose Them     |          646|     44344.23|           270.96|              9.8|            6437|       10.0|\n",
       "|Hibernating         |          612|     38367.77|           246.15|              8.9|            6437|        9.5|\n",
       "|Lost                |            0|         0.00|             0.00|              0.0|            6437|        0.0|\n",
       "|Dormant High Value  |          151|     46831.07|           249.87|              9.1|            6437|        2.3|\n",
       "|Occasional Shoppers |          440|     40028.77|           255.54|              2.9|            6437|        6.8|"
      ]
     },
     "metadata": {},
     "output_type": "display_data"
    }
   ],
   "source": [
    "# --------------------------- Display Tables ------------------------------------\n",
    "# Output final segment analysis tables\n",
    "kable(segment_analysis_b2b, caption = \"RFM Analysis – B2B\")\n",
    "kable(segment_analysis_b2c, caption = \"RFM Analysis – B2C\")"
   ]
  },
  {
   "cell_type": "markdown",
   "metadata": {},
   "source": [
    "### Plots"
   ]
  },
  {
   "cell_type": "code",
   "execution_count": 19,
   "metadata": {
    "vscode": {
     "languageId": "r"
    }
   },
   "outputs": [
    {
     "data": {
      "image/png": "[encoded data removed]",
      "text/plain": [
       "plot without title"
      ]
     },
     "metadata": {
      "image/png": {
       "height": 420,
       "width": 420
      }
     },
     "output_type": "display_data"
    },
    {
     "data": {
      "image/png": "[encoded data removed]",
      "text/plain": [
       "plot without title"
      ]
     },
     "metadata": {
      "image/png": {
       "height": 420,
       "width": 420
      }
     },
     "output_type": "display_data"
    },
    {
     "data": {
      "image/png": "[encoded data removed]",
      "text/plain": [
       "plot without title"
      ]
     },
     "metadata": {
      "image/png": {
       "height": 420,
       "width": 420
      }
     },
     "output_type": "display_data"
    },
    {
     "data": {
      "image/png": "[encoded data removed]",
      "text/plain": [
       "plot without title"
      ]
     },
     "metadata": {
      "image/png": {
       "height": 420,
       "width": 420
      }
     },
     "output_type": "display_data"
    }
   ],
   "source": [
    "# ---- B2B: Kundenanzahl pro Segment ----\n",
    "ggplot(segment_analysis_b2b, aes(x = reorder(segment, no_customers), y = no_customers)) +\n",
    "  geom_bar(stat = \"identity\", fill = \"#377eb8\") +\n",
    "  coord_flip() +\n",
    "  labs(\n",
    "    title = \"Customer Count by Segment (B2B)\",\n",
    "    x = \"Segment\",\n",
    "    y = \"Number of Customers\"\n",
    "  ) +\n",
    "  theme_minimal()\n",
    "\n",
    "# ---- B2B: Durchschnittlicher Umsatz pro Segment ----\n",
    "ggplot(segment_analysis_b2b, aes(x = reorder(segment, avg_spending), y = avg_spending)) +\n",
    "  geom_bar(stat = \"identity\", fill = \"#4daf4a\") +\n",
    "  coord_flip() +\n",
    "  labs(\n",
    "    title = \"Average Revenue by Segment (B2B)\",\n",
    "    x = \"Segment\",\n",
    "    y = \"Average Revenue (€)\"\n",
    "  ) +\n",
    "  scale_y_continuous(labels = comma) +\n",
    "  theme_minimal()\n",
    "\n",
    "# ---- B2C: Kundenanzahl pro Segment ----\n",
    "ggplot(segment_analysis_b2c, aes(x = reorder(segment, no_customers), y = no_customers)) +\n",
    "  geom_bar(stat = \"identity\", fill = \"#984ea3\") +\n",
    "  coord_flip() +\n",
    "  labs(\n",
    "    title = \"Customer Count by Segment (B2C)\",\n",
    "    x = \"Segment\",\n",
    "    y = \"Number of Customers\"\n",
    "  ) +\n",
    "  theme_minimal()\n",
    "\n",
    "# ---- B2C: Durchschnittlicher Umsatz pro Segment ----\n",
    "ggplot(segment_analysis_b2c, aes(x = reorder(segment, avg_spending), y = avg_spending)) +\n",
    "  geom_bar(stat = \"identity\", fill = \"#ff7f00\") +\n",
    "  coord_flip() +\n",
    "  labs(\n",
    "    title = \"Average Revenue by Segment (B2C)\",\n",
    "    x = \"Segment\",\n",
    "    y = \"Average Revenue (€)\"\n",
    "  ) +\n",
    "  scale_y_continuous(labels = comma) +\n",
    "  theme_minimal()"
   ]
  },
  {
   "cell_type": "markdown",
   "metadata": {},
   "source": [
    "# Multiple Linear Regression"
   ]
  },
  {
   "cell_type": "code",
   "execution_count": 20,
   "metadata": {
    "vscode": {
     "languageId": "r"
    }
   },
   "outputs": [
    {
     "data": {
      "text/plain": [
       "\n",
       "\n",
       "Table: Top 10 Products by Revenue – B2B\n",
       "\n",
       "|product         | total_revenue|\n",
       "|:---------------|-------------:|\n",
       "|Moët & Chandon  |     139543793|\n",
       "|Veuve Clicquot  |     137528584|\n",
       "|Johnnie Walker  |      75422676|\n",
       "|Jack Daniels    |      66066217|\n",
       "|Tanqueray       |      65537046|\n",
       "|Havana Club     |      50321112|\n",
       "|Bacardi         |      50282108|\n",
       "|Riesling        |      19929136|\n",
       "|Chardonnay      |      18193599|\n",
       "|Sauvignon Blanc |      18080395|"
      ]
     },
     "metadata": {},
     "output_type": "display_data"
    },
    {
     "data": {
      "text/plain": [
       "\n",
       "\n",
       "Table: Top 10 Products by Revenue – B2C\n",
       "\n",
       "|product          | total_revenue|\n",
       "|:----------------|-------------:|\n",
       "|Veuve Clicquot   |      65053315|\n",
       "|Moët & Chandon   |      35544293|\n",
       "|Jack Daniels     |      29814786|\n",
       "|Johnnie Walker   |      21839125|\n",
       "|Tanqueray        |      20606609|\n",
       "|Bacardi          |       8185396|\n",
       "|Havana Club      |       7725853|\n",
       "|Cranberry Juice  |       5860585|\n",
       "|Tomato Juice     |       5448523|\n",
       "|Rotkäppchen Sekt |       5401697|"
      ]
     },
     "metadata": {},
     "output_type": "display_data"
    }
   ],
   "source": [
    "\n",
    "# -------------------- Top 10 Products by Revenue (B2B and B2C) --------------------\n",
    "# B2B: Calculate total revenue per product and return the top 10\n",
    "top_revenue_b2b <- line_wise_b2b %>%\n",
    "  group_by(product) %>%\n",
    "  summarise(\n",
    "    total_revenue = sum(total_price, na.rm = TRUE),\n",
    "    .groups = \"drop\"\n",
    "  ) %>%\n",
    "  arrange(desc(total_revenue)) %>%\n",
    "  slice_head(n = 10)\n",
    "# B2C: Same logic applied to B2C customers\n",
    "top_revenue_b2c <- line_wise_b2c %>%\n",
    "  group_by(product) %>%\n",
    "  summarise(\n",
    "    total_revenue = sum(total_price, na.rm = TRUE),\n",
    "    .groups = \"drop\"\n",
    "  ) %>%\n",
    "  arrange(desc(total_revenue)) %>%\n",
    "  slice_head(n = 10)\n",
    "kable(top_revenue_b2b, caption = \"Top 10 Products by Revenue – B2B\", digits = 2)\n",
    "kable(top_revenue_b2c, caption = \"Top 10 Products by Revenue – B2C\", digits = 2)"
   ]
  },
  {
   "cell_type": "markdown",
   "metadata": {},
   "source": [
    "### MLR per Product\n",
    "To identify the impact of discount, region, and month on quantity sold"
   ]
  },
  {
   "cell_type": "code",
   "execution_count": 21,
   "metadata": {
    "vscode": {
     "languageId": "r"
    }
   },
   "outputs": [
    {
     "name": "stdout",
     "output_type": "stream",
     "text": [
      "\n",
      "==========================================\n",
      " B2B Regression Summary for: Moët & Chandon \n",
      "==========================================\n",
      "\n",
      "Call:\n",
      "lm(formula = quantity ~ discount + region + month, data = df_product)\n",
      "\n",
      "Residuals:\n",
      "    Min      1Q  Median      3Q     Max \n",
      "-79.162 -18.488   0.308  18.681  65.819 \n",
      "\n",
      "Coefficients:\n",
      "                               Estimate Std. Error t value Pr(>|t|)    \n",
      "(Intercept)                   14.093005   0.722052  19.518   <2e-16 ***\n",
      "discount                     428.153693   3.650070 117.300   <2e-16 ***\n",
      "regionBayern                   0.236709   0.714150   0.331   0.7403    \n",
      "regionBerlin                   1.595406   0.701322   2.275   0.0229 *  \n",
      "regionBrandenburg              0.487704   0.706469   0.690   0.4900    \n",
      "regionBremen                  -0.179946   0.736223  -0.244   0.8069    \n",
      "regionHamburg                  0.783017   0.689596   1.135   0.2562    \n",
      "regionHessen                  -1.083263   0.686308  -1.578   0.1145    \n",
      "regionMecklenburg-Vorpommern   1.304782   0.698827   1.867   0.0619 .  \n",
      "regionNiedersachsen           -0.167752   0.718700  -0.233   0.8154    \n",
      "regionNordrhein-Westfalen     -0.464631   0.718517  -0.647   0.5179    \n",
      "regionRheinland-Pfalz          0.681972   0.713432   0.956   0.3391    \n",
      "regionSaarland                 0.211781   0.697368   0.304   0.7614    \n",
      "regionSachsen                  0.518367   0.719127   0.721   0.4710    \n",
      "regionSachsen-Anhalt           0.006386   0.724012   0.009   0.9930    \n",
      "regionSchleswig-Holstein      -0.056651   0.721917  -0.078   0.9375    \n",
      "regionThüringen                0.693046   0.709794   0.976   0.3289    \n",
      "month02                        0.205582   0.616196   0.334   0.7387    \n",
      "month03                        0.250845   0.597759   0.420   0.6747    \n",
      "month04                       -0.314866   0.604910  -0.521   0.6027    \n",
      "month05                       -0.374115   0.607883  -0.615   0.5383    \n",
      "month06                       -0.236064   0.607229  -0.389   0.6975    \n",
      "month07                        0.847617   0.602988   1.406   0.1598    \n",
      "month08                        0.909860   0.598558   1.520   0.1285    \n",
      "month09                        0.220568   0.602847   0.366   0.7145    \n",
      "month10                        0.656214   0.598503   1.096   0.2729    \n",
      "month11                        0.842569   0.603847   1.395   0.1629    \n",
      "month12                        0.391583   0.602892   0.650   0.5160    \n",
      "---\n",
      "Signif. codes:  0 '***' 0.001 '**' 0.01 '*' 0.05 '.' 0.1 ' ' 1\n",
      "\n",
      "Residual standard error: 24.94 on 40743 degrees of freedom\n",
      "Multiple R-squared:  0.2531,\tAdjusted R-squared:  0.2526 \n",
      "F-statistic: 511.3 on 27 and 40743 DF,  p-value: < 2.2e-16\n",
      "\n",
      "\n",
      "==========================================\n",
      " B2B Regression Summary for: Veuve Clicquot \n",
      "==========================================\n",
      "\n",
      "Call:\n",
      "lm(formula = quantity ~ discount + region + month, data = df_product)\n",
      "\n",
      "Residuals:\n",
      "    Min      1Q  Median      3Q     Max \n",
      "-79.519 -18.697   0.363  18.710  64.927 \n",
      "\n",
      "Coefficients:\n",
      "                               Estimate Std. Error t value Pr(>|t|)    \n",
      "(Intercept)                   14.902694   0.724241  20.577   <2e-16 ***\n",
      "discount                     426.249745   3.657041 116.556   <2e-16 ***\n",
      "regionBayern                  -0.612039   0.710719  -0.861   0.3892    \n",
      "regionBerlin                  -0.343230   0.704118  -0.487   0.6259    \n",
      "regionBrandenburg              0.481918   0.716938   0.672   0.5015    \n",
      "regionBremen                  -0.590547   0.735311  -0.803   0.4219    \n",
      "regionHamburg                  0.055797   0.686863   0.081   0.9353    \n",
      "regionHessen                   0.825016   0.690192   1.195   0.2320    \n",
      "regionMecklenburg-Vorpommern   1.170118   0.703308   1.664   0.0962 .  \n",
      "regionNiedersachsen           -0.529106   0.722475  -0.732   0.4640    \n",
      "regionNordrhein-Westfalen     -0.357786   0.719985  -0.497   0.6192    \n",
      "regionRheinland-Pfalz          0.681774   0.705774   0.966   0.3341    \n",
      "regionSaarland                 0.314694   0.697013   0.451   0.6516    \n",
      "regionSachsen                 -0.733701   0.721691  -1.017   0.3093    \n",
      "regionSachsen-Anhalt          -0.107426   0.725557  -0.148   0.8823    \n",
      "regionSchleswig-Holstein      -0.320071   0.718801  -0.445   0.6561    \n",
      "regionThüringen               -0.189339   0.698289  -0.271   0.7863    \n",
      "month02                        0.508834   0.611711   0.832   0.4055    \n",
      "month03                        0.191535   0.597758   0.320   0.7487    \n",
      "month04                        0.207505   0.610536   0.340   0.7340    \n",
      "month05                       -0.408282   0.600773  -0.680   0.4968    \n",
      "month06                        0.109215   0.609527   0.179   0.8578    \n",
      "month07                       -0.286021   0.602905  -0.474   0.6352    \n",
      "month08                        0.001226   0.603973   0.002   0.9984    \n",
      "month09                        0.200634   0.606196   0.331   0.7407    \n",
      "month10                       -0.141442   0.605240  -0.234   0.8152    \n",
      "month11                       -0.237890   0.605380  -0.393   0.6944    \n",
      "month12                       -0.107716   0.600329  -0.179   0.8576    \n",
      "---\n",
      "Signif. codes:  0 '***' 0.001 '**' 0.01 '*' 0.05 '.' 0.1 ' ' 1\n",
      "\n",
      "Residual standard error: 24.99 on 40693 degrees of freedom\n",
      "Multiple R-squared:  0.2508,\tAdjusted R-squared:  0.2503 \n",
      "F-statistic: 504.5 on 27 and 40693 DF,  p-value: < 2.2e-16\n",
      "\n",
      "\n",
      "==========================================\n",
      " B2B Regression Summary for: Johnnie Walker \n",
      "==========================================\n",
      "\n",
      "Call:\n",
      "lm(formula = quantity ~ discount + region + month, data = df_product)\n",
      "\n",
      "Residuals:\n",
      "    Min      1Q  Median      3Q     Max \n",
      "-80.019 -18.278   0.256  18.480  65.365 \n",
      "\n",
      "Coefficients:\n",
      "                             Estimate Std. Error t value Pr(>|t|)    \n",
      "(Intercept)                   13.2360     0.7052  18.770   <2e-16 ***\n",
      "discount                     439.3066     3.6173 121.446   <2e-16 ***\n",
      "regionBayern                   0.1618     0.6997   0.231   0.8172    \n",
      "regionBerlin                   0.9694     0.6947   1.395   0.1629    \n",
      "regionBrandenburg              0.6164     0.6987   0.882   0.3777    \n",
      "regionBremen                   0.0113     0.7304   0.015   0.9877    \n",
      "regionHamburg                 -0.3788     0.6743  -0.562   0.5743    \n",
      "regionHessen                   0.1570     0.6782   0.231   0.8170    \n",
      "regionMecklenburg-Vorpommern   0.5553     0.6936   0.801   0.4234    \n",
      "regionNiedersachsen            1.3382     0.7012   1.909   0.0563 .  \n",
      "regionNordrhein-Westfalen      1.0365     0.6979   1.485   0.1375    \n",
      "regionRheinland-Pfalz          0.3005     0.6970   0.431   0.6664    \n",
      "regionSaarland                 0.5376     0.6783   0.792   0.4281    \n",
      "regionSachsen                  0.3220     0.7031   0.458   0.6470    \n",
      "regionSachsen-Anhalt           0.6204     0.7146   0.868   0.3853    \n",
      "regionSchleswig-Holstein       0.9744     0.7077   1.377   0.1686    \n",
      "regionThüringen               -0.5608     0.6860  -0.817   0.4137    \n",
      "month02                        0.5490     0.6128   0.896   0.3704    \n",
      "month03                        0.4907     0.5964   0.823   0.4106    \n",
      "month04                        0.3522     0.5998   0.587   0.5571    \n",
      "month05                        1.1356     0.6007   1.890   0.0587 .  \n",
      "month06                       -0.1876     0.6023  -0.311   0.7554    \n",
      "month07                        0.6369     0.5970   1.067   0.2861    \n",
      "month08                       -0.5042     0.5994  -0.841   0.4003    \n",
      "month09                       -0.3051     0.6021  -0.507   0.6124    \n",
      "month10                        0.5294     0.5949   0.890   0.3735    \n",
      "month11                        0.1675     0.5983   0.280   0.7795    \n",
      "month12                        0.4215     0.5983   0.705   0.4811    \n",
      "---\n",
      "Signif. codes:  0 '***' 0.001 '**' 0.01 '*' 0.05 '.' 0.1 ' ' 1\n",
      "\n",
      "Residual standard error: 24.77 on 40598 degrees of freedom\n",
      "Multiple R-squared:  0.267,\tAdjusted R-squared:  0.2665 \n",
      "F-statistic: 547.6 on 27 and 40598 DF,  p-value: < 2.2e-16\n",
      "\n",
      "\n",
      "==========================================\n",
      " B2B Regression Summary for: Jack Daniels \n",
      "==========================================\n",
      "\n",
      "Call:\n",
      "lm(formula = quantity ~ discount + region + month, data = df_product)\n",
      "\n",
      "Residuals:\n",
      "   Min     1Q Median     3Q    Max \n",
      "-79.49 -18.67   0.45  18.83  65.09 \n",
      "\n",
      "Coefficients:\n",
      "                              Estimate Std. Error t value Pr(>|t|)    \n",
      "(Intercept)                   14.86522    0.70318  21.140   <2e-16 ***\n",
      "discount                     429.89957    3.62783 118.500   <2e-16 ***\n",
      "regionBayern                  -0.48863    0.69663  -0.701    0.483    \n",
      "regionBerlin                  -0.47936    0.69066  -0.694    0.488    \n",
      "regionBrandenburg              0.14438    0.70311   0.205    0.837    \n",
      "regionBremen                  -0.89719    0.73041  -1.228    0.219    \n",
      "regionHamburg                 -0.27313    0.68095  -0.401    0.688    \n",
      "regionHessen                  -1.04903    0.68319  -1.535    0.125    \n",
      "regionMecklenburg-Vorpommern   0.05150    0.69095   0.075    0.941    \n",
      "regionNiedersachsen           -0.24736    0.70673  -0.350    0.726    \n",
      "regionNordrhein-Westfalen     -0.77188    0.70457  -1.096    0.273    \n",
      "regionRheinland-Pfalz         -0.30891    0.70372  -0.439    0.661    \n",
      "regionSaarland                -0.52571    0.68676  -0.765    0.444    \n",
      "regionSachsen                  0.64178    0.70414   0.911    0.362    \n",
      "regionSachsen-Anhalt          -0.14867    0.71014  -0.209    0.834    \n",
      "regionSchleswig-Holstein       0.14315    0.71935   0.199    0.842    \n",
      "regionThüringen               -0.71189    0.69064  -1.031    0.303    \n",
      "month02                       -0.67473    0.60676  -1.112    0.266    \n",
      "month03                        0.19818    0.59636   0.332    0.740    \n",
      "month04                       -0.24509    0.59678  -0.411    0.681    \n",
      "month05                       -0.67785    0.59243  -1.144    0.253    \n",
      "month06                        0.31223    0.60025   0.520    0.603    \n",
      "month07                        0.49873    0.59694   0.835    0.403    \n",
      "month08                        0.07801    0.59701   0.131    0.896    \n",
      "month09                        0.12812    0.59681   0.215    0.830    \n",
      "month10                       -0.06361    0.59196  -0.107    0.914    \n",
      "month11                        0.20958    0.59969   0.349    0.727    \n",
      "month12                        0.04837    0.59198   0.082    0.935    \n",
      "---\n",
      "Signif. codes:  0 '***' 0.001 '**' 0.01 '*' 0.05 '.' 0.1 ' ' 1\n",
      "\n",
      "Residual standard error: 24.97 on 41193 degrees of freedom\n",
      "Multiple R-squared:  0.2546,\tAdjusted R-squared:  0.2541 \n",
      "F-statistic: 521.1 on 27 and 41193 DF,  p-value: < 2.2e-16\n",
      "\n",
      "\n",
      "==========================================\n",
      " B2B Regression Summary for: Tanqueray \n",
      "==========================================\n",
      "\n",
      "Call:\n",
      "lm(formula = quantity ~ discount + region + month, data = df_product)\n",
      "\n",
      "Residuals:\n",
      "    Min      1Q  Median      3Q     Max \n",
      "-79.095 -18.541   0.371  18.681  65.070 \n",
      "\n",
      "Coefficients:\n",
      "                             Estimate Std. Error t value Pr(>|t|)    \n",
      "(Intercept)                   14.6512     0.7111  20.604   <2e-16 ***\n",
      "discount                     432.1756     3.6511 118.369   <2e-16 ***\n",
      "regionBayern                  -0.7713     0.7072  -1.091   0.2754    \n",
      "regionBerlin                   0.3874     0.6943   0.558   0.5768    \n",
      "regionBrandenburg              0.3288     0.7089   0.464   0.6428    \n",
      "regionBremen                  -0.6421     0.7309  -0.879   0.3797    \n",
      "regionHamburg                 -1.2015     0.6859  -1.752   0.0798 .  \n",
      "regionHessen                   0.5206     0.6831   0.762   0.4460    \n",
      "regionMecklenburg-Vorpommern  -1.1130     0.6944  -1.603   0.1090    \n",
      "regionNiedersachsen           -0.9654     0.7005  -1.378   0.1681    \n",
      "regionNordrhein-Westfalen     -0.4172     0.7177  -0.581   0.5610    \n",
      "regionRheinland-Pfalz         -1.3303     0.6972  -1.908   0.0564 .  \n",
      "regionSaarland                 0.3098     0.6840   0.453   0.6506    \n",
      "regionSachsen                 -0.7985     0.7049  -1.133   0.2573    \n",
      "regionSachsen-Anhalt          -0.6988     0.7246  -0.964   0.3349    \n",
      "regionSchleswig-Holstein      -1.4620     0.7096  -2.060   0.0394 *  \n",
      "regionThüringen                0.1897     0.6930   0.274   0.7843    \n",
      "month02                        0.7413     0.6093   1.217   0.2237    \n",
      "month03                       -0.5480     0.5978  -0.917   0.3593    \n",
      "month04                        0.1350     0.6029   0.224   0.8228    \n",
      "month05                       -0.9417     0.5972  -1.577   0.1149    \n",
      "month06                        0.3071     0.5963   0.515   0.6066    \n",
      "month07                       -0.5093     0.5970  -0.853   0.3936    \n",
      "month08                        0.1823     0.5980   0.305   0.7605    \n",
      "month09                        0.1260     0.6015   0.209   0.8341    \n",
      "month10                        0.2023     0.5949   0.340   0.7339    \n",
      "month11                        0.4385     0.6032   0.727   0.4673    \n",
      "month12                       -0.4545     0.6021  -0.755   0.4503    \n",
      "---\n",
      "Signif. codes:  0 '***' 0.001 '**' 0.01 '*' 0.05 '.' 0.1 ' ' 1\n",
      "\n",
      "Residual standard error: 24.89 on 40832 degrees of freedom\n",
      "Multiple R-squared:  0.2562,\tAdjusted R-squared:  0.2557 \n",
      "F-statistic: 520.9 on 27 and 40832 DF,  p-value: < 2.2e-16\n",
      "\n",
      "\n",
      "==========================================\n",
      " B2B Regression Summary for: Havana Club \n",
      "==========================================\n",
      "\n",
      "Call:\n",
      "lm(formula = quantity ~ discount + region + month, data = df_product)\n",
      "\n",
      "Residuals:\n",
      "    Min      1Q  Median      3Q     Max \n",
      "-79.398 -18.553   0.295  18.429  65.675 \n",
      "\n",
      "Coefficients:\n",
      "                              Estimate Std. Error t value Pr(>|t|)    \n",
      "(Intercept)                   13.96251    0.70651  19.763   <2e-16 ***\n",
      "discount                     440.87127    3.61643 121.908   <2e-16 ***\n",
      "regionBayern                   0.66441    0.69736   0.953   0.3407    \n",
      "regionBerlin                  -0.05188    0.69680  -0.074   0.9407    \n",
      "regionBrandenburg              0.62239    0.70851   0.878   0.3797    \n",
      "regionBremen                  -0.55416    0.72864  -0.761   0.4469    \n",
      "regionHamburg                 -0.15826    0.67489  -0.235   0.8146    \n",
      "regionHessen                   0.15648    0.68151   0.230   0.8184    \n",
      "regionMecklenburg-Vorpommern   0.18250    0.68909   0.265   0.7911    \n",
      "regionNiedersachsen           -0.06123    0.70141  -0.087   0.9304    \n",
      "regionNordrhein-Westfalen      0.28261    0.70104   0.403   0.6869    \n",
      "regionRheinland-Pfalz         -0.02817    0.69988  -0.040   0.9679    \n",
      "regionSaarland                 0.07602    0.68585   0.111   0.9117    \n",
      "regionSachsen                  0.13655    0.70651   0.193   0.8467    \n",
      "regionSachsen-Anhalt           0.29123    0.71512   0.407   0.6838    \n",
      "regionSchleswig-Holstein       0.23107    0.71138   0.325   0.7453    \n",
      "regionThüringen                0.27213    0.69391   0.392   0.6949    \n",
      "month02                       -0.34955    0.61429  -0.569   0.5693    \n",
      "month03                       -0.55451    0.59222  -0.936   0.3491    \n",
      "month04                       -0.42011    0.59994  -0.700   0.4838    \n",
      "month05                       -0.31722    0.59671  -0.532   0.5950    \n",
      "month06                       -0.38151    0.59924  -0.637   0.5243    \n",
      "month07                        0.15600    0.59147   0.264   0.7920    \n",
      "month08                       -0.68649    0.59658  -1.151   0.2499    \n",
      "month09                       -0.35271    0.60195  -0.586   0.5579    \n",
      "month10                       -1.12686    0.59560  -1.892   0.0585 .  \n",
      "month11                       -1.03827    0.60371  -1.720   0.0855 .  \n",
      "month12                       -0.57588    0.59976  -0.960   0.3370    \n",
      "---\n",
      "Signif. codes:  0 '***' 0.001 '**' 0.01 '*' 0.05 '.' 0.1 ' ' 1\n",
      "\n",
      "Residual standard error: 24.78 on 40969 degrees of freedom\n",
      "Multiple R-squared:  0.2664,\tAdjusted R-squared:  0.2659 \n",
      "F-statistic: 551.1 on 27 and 40969 DF,  p-value: < 2.2e-16\n",
      "\n",
      "\n",
      "==========================================\n",
      " B2B Regression Summary for: Bacardi \n",
      "==========================================\n",
      "\n",
      "Call:\n",
      "lm(formula = quantity ~ discount + region + month, data = df_product)\n",
      "\n",
      "Residuals:\n",
      "   Min     1Q Median     3Q    Max \n",
      "-79.52 -18.38   0.32  18.48  65.69 \n",
      "\n",
      "Coefficients:\n",
      "                              Estimate Std. Error t value Pr(>|t|)    \n",
      "(Intercept)                   13.46152    0.71097  18.934   <2e-16 ***\n",
      "discount                     434.02983    3.63683 119.343   <2e-16 ***\n",
      "regionBayern                   0.38213    0.70433   0.543   0.5874    \n",
      "regionBerlin                  -0.23138    0.69965  -0.331   0.7409    \n",
      "regionBrandenburg             -0.35688    0.69837  -0.511   0.6093    \n",
      "regionBremen                  -0.94638    0.73016  -1.296   0.1949    \n",
      "regionHamburg                 -0.05188    0.67507  -0.077   0.9387    \n",
      "regionHessen                   0.32431    0.68460   0.474   0.6357    \n",
      "regionMecklenburg-Vorpommern  -0.27746    0.69087  -0.402   0.6880    \n",
      "regionNiedersachsen           -0.36965    0.70949  -0.521   0.6024    \n",
      "regionNordrhein-Westfalen      0.23990    0.70853   0.339   0.7349    \n",
      "regionRheinland-Pfalz         -0.40542    0.69550  -0.583   0.5600    \n",
      "regionSaarland                 0.02110    0.68467   0.031   0.9754    \n",
      "regionSachsen                  1.34297    0.70270   1.911   0.0560 .  \n",
      "regionSachsen-Anhalt           0.09062    0.71252   0.127   0.8988    \n",
      "regionSchleswig-Holstein       0.10159    0.71413   0.142   0.8869    \n",
      "regionThüringen                1.26311    0.69219   1.825   0.0680 .  \n",
      "month02                        0.94995    0.61519   1.544   0.1226    \n",
      "month03                        0.79471    0.59501   1.336   0.1817    \n",
      "month04                        0.09616    0.60641   0.159   0.8740    \n",
      "month05                        0.01008    0.60464   0.017   0.9867    \n",
      "month06                        1.56352    0.60532   2.583   0.0098 ** \n",
      "month07                        1.12457    0.60010   1.874   0.0609 .  \n",
      "month08                        1.09457    0.59950   1.826   0.0679 .  \n",
      "month09                        1.10688    0.60460   1.831   0.0671 .  \n",
      "month10                        0.61251    0.60556   1.011   0.3118    \n",
      "month11                        0.66606    0.60326   1.104   0.2696    \n",
      "month12                        0.46972    0.60030   0.782   0.4339    \n",
      "---\n",
      "Signif. codes:  0 '***' 0.001 '**' 0.01 '*' 0.05 '.' 0.1 ' ' 1\n",
      "\n",
      "Residual standard error: 24.85 on 40895 degrees of freedom\n",
      "Multiple R-squared:  0.2591,\tAdjusted R-squared:  0.2586 \n",
      "F-statistic: 529.6 on 27 and 40895 DF,  p-value: < 2.2e-16\n",
      "\n",
      "\n",
      "==========================================\n",
      " B2B Regression Summary for: Riesling \n",
      "==========================================\n",
      "\n",
      "Call:\n",
      "lm(formula = quantity ~ discount + region + month, data = df_product)\n",
      "\n",
      "Residuals:\n",
      "    Min      1Q  Median      3Q     Max \n",
      "-79.583 -18.644   0.297  18.598  65.039 \n",
      "\n",
      "Coefficients:\n",
      "                              Estimate Std. Error t value Pr(>|t|)    \n",
      "(Intercept)                   13.68155    0.69568  19.666  < 2e-16 ***\n",
      "discount                     427.46482    3.49367 122.354  < 2e-16 ***\n",
      "regionBayern                   1.81314    0.69953   2.592  0.00955 ** \n",
      "regionBerlin                   0.37086    0.69717   0.532  0.59476    \n",
      "regionBrandenburg             -0.02086    0.70132  -0.030  0.97627    \n",
      "regionBremen                   0.14751    0.72846   0.203  0.83953    \n",
      "regionHamburg                 -0.29125    0.67576  -0.431  0.66647    \n",
      "regionHessen                   1.25443    0.67594   1.856  0.06349 .  \n",
      "regionMecklenburg-Vorpommern   0.90032    0.69359   1.298  0.19427    \n",
      "regionNiedersachsen            0.69342    0.70635   0.982  0.32625    \n",
      "regionNordrhein-Westfalen     -0.49277    0.71111  -0.693  0.48834    \n",
      "regionRheinland-Pfalz          0.86721    0.58803   1.475  0.14028    \n",
      "regionSaarland                 0.62355    0.68150   0.915  0.36021    \n",
      "regionSachsen                  0.01766    0.69985   0.025  0.97987    \n",
      "regionSachsen-Anhalt           0.83995    0.71675   1.172  0.24125    \n",
      "regionSchleswig-Holstein       0.24036    0.71100   0.338  0.73532    \n",
      "regionThüringen                0.49864    0.69470   0.718  0.47289    \n",
      "month02                        0.96829    0.59366   1.631  0.10289    \n",
      "month03                        1.20553    0.57322   2.103  0.03546 *  \n",
      "month04                       -0.02248    0.58071  -0.039  0.96912    \n",
      "month05                       -0.01709    0.57238  -0.030  0.97618    \n",
      "month06                        0.65137    0.57900   1.125  0.26060    \n",
      "month07                        0.62787    0.57245   1.097  0.27273    \n",
      "month08                        0.59468    0.57568   1.033  0.30161    \n",
      "month09                        0.83118    0.58119   1.430  0.15269    \n",
      "month10                        1.00168    0.57388   1.745  0.08091 .  \n",
      "month11                        0.19789    0.58191   0.340  0.73381    \n",
      "month12                        0.78132    0.57659   1.355  0.17540    \n",
      "---\n",
      "Signif. codes:  0 '***' 0.001 '**' 0.01 '*' 0.05 '.' 0.1 ' ' 1\n",
      "\n",
      "Residual standard error: 24.9 on 44416 degrees of freedom\n",
      "Multiple R-squared:  0.2527,\tAdjusted R-squared:  0.2522 \n",
      "F-statistic: 556.1 on 27 and 44416 DF,  p-value: < 2.2e-16\n",
      "\n",
      "\n",
      "==========================================\n",
      " B2B Regression Summary for: Chardonnay \n",
      "==========================================\n",
      "\n",
      "Call:\n",
      "lm(formula = quantity ~ discount + region + month, data = df_product)\n",
      "\n",
      "Residuals:\n",
      "    Min      1Q  Median      3Q     Max \n",
      "-79.236 -18.788   0.379  19.006  64.300 \n",
      "\n",
      "Coefficients:\n",
      "                               Estimate Std. Error t value Pr(>|t|)    \n",
      "(Intercept)                   15.896211   0.714918  22.235   <2e-16 ***\n",
      "discount                     425.450845   3.657883 116.311   <2e-16 ***\n",
      "regionBayern                  -0.800657   0.698860  -1.146   0.2519    \n",
      "regionBerlin                  -0.994445   0.699520  -1.422   0.1551    \n",
      "regionBrandenburg             -0.978562   0.714935  -1.369   0.1711    \n",
      "regionBremen                  -0.806889   0.733671  -1.100   0.2714    \n",
      "regionHamburg                 -1.064598   0.681405  -1.562   0.1182    \n",
      "regionHessen                  -0.868586   0.687875  -1.263   0.2067    \n",
      "regionMecklenburg-Vorpommern  -0.498077   0.689303  -0.723   0.4699    \n",
      "regionNiedersachsen           -0.819826   0.710743  -1.153   0.2487    \n",
      "regionNordrhein-Westfalen     -0.229060   0.719043  -0.319   0.7501    \n",
      "regionRheinland-Pfalz         -0.337338   0.709281  -0.476   0.6344    \n",
      "regionSaarland                -0.239647   0.687260  -0.349   0.7273    \n",
      "regionSachsen                 -0.482231   0.714329  -0.675   0.4996    \n",
      "regionSachsen-Anhalt          -0.679207   0.718432  -0.945   0.3445    \n",
      "regionSchleswig-Holstein      -1.239889   0.710443  -1.745   0.0810 .  \n",
      "regionThüringen               -1.163909   0.699981  -1.663   0.0964 .  \n",
      "month02                        0.138219   0.615121   0.225   0.8222    \n",
      "month03                        0.003331   0.600835   0.006   0.9956    \n",
      "month04                        0.271656   0.607083   0.447   0.6545    \n",
      "month05                        0.751286   0.601665   1.249   0.2118    \n",
      "month06                        0.092614   0.600589   0.154   0.8774    \n",
      "month07                       -0.178672   0.599890  -0.298   0.7658    \n",
      "month08                        0.053951   0.598148   0.090   0.9281    \n",
      "month09                       -0.184228   0.606527  -0.304   0.7613    \n",
      "month10                       -0.141196   0.597890  -0.236   0.8133    \n",
      "month11                       -0.228630   0.598017  -0.382   0.7022    \n",
      "month12                       -0.212030   0.600397  -0.353   0.7240    \n",
      "---\n",
      "Signif. codes:  0 '***' 0.001 '**' 0.01 '*' 0.05 '.' 0.1 ' ' 1\n",
      "\n",
      "Residual standard error: 25.09 on 41069 degrees of freedom\n",
      "Multiple R-squared:  0.2482,\tAdjusted R-squared:  0.2477 \n",
      "F-statistic: 502.1 on 27 and 41069 DF,  p-value: < 2.2e-16\n",
      "\n",
      "\n",
      "==========================================\n",
      " B2B Regression Summary for: Sauvignon Blanc \n",
      "==========================================\n",
      "\n",
      "Call:\n",
      "lm(formula = quantity ~ discount + region + month, data = df_product)\n",
      "\n",
      "Residuals:\n",
      "    Min      1Q  Median      3Q     Max \n",
      "-79.778 -18.756   0.507  18.665  65.410 \n",
      "\n",
      "Coefficients:\n",
      "                              Estimate Std. Error t value Pr(>|t|)    \n",
      "(Intercept)                   14.18112    0.71315  19.885   <2e-16 ***\n",
      "discount                     432.26388    3.64928 118.452   <2e-16 ***\n",
      "regionBayern                   0.44026    0.71149   0.619   0.5361    \n",
      "regionBerlin                  -0.34055    0.69722  -0.488   0.6252    \n",
      "regionBrandenburg             -0.48919    0.71260  -0.686   0.4924    \n",
      "regionBremen                  -0.06533    0.74413  -0.088   0.9300    \n",
      "regionHamburg                 -0.17635    0.67919  -0.260   0.7951    \n",
      "regionHessen                  -0.20172    0.68404  -0.295   0.7681    \n",
      "regionMecklenburg-Vorpommern   0.48857    0.69266   0.705   0.4806    \n",
      "regionNiedersachsen            0.83048    0.71433   1.163   0.2450    \n",
      "regionNordrhein-Westfalen      0.96836    0.71150   1.361   0.1735    \n",
      "regionRheinland-Pfalz         -0.52415    0.70855  -0.740   0.4595    \n",
      "regionSaarland                 0.35323    0.69365   0.509   0.6106    \n",
      "regionSachsen                  0.04445    0.70517   0.063   0.9497    \n",
      "regionSachsen-Anhalt          -0.52943    0.72271  -0.733   0.4638    \n",
      "regionSchleswig-Holstein       0.59825    0.72095   0.830   0.4067    \n",
      "regionThüringen               -0.38796    0.69741  -0.556   0.5780    \n",
      "month02                        0.29945    0.61816   0.484   0.6281    \n",
      "month03                        0.92689    0.60110   1.542   0.1231    \n",
      "month04                        0.37668    0.61081   0.617   0.5374    \n",
      "month05                       -0.19017    0.60405  -0.315   0.7529    \n",
      "month06                        0.26185    0.60794   0.431   0.6667    \n",
      "month07                        0.09822    0.60471   0.162   0.8710    \n",
      "month08                       -1.13939    0.60267  -1.891   0.0587 .  \n",
      "month09                       -0.07212    0.61256  -0.118   0.9063    \n",
      "month10                        0.46484    0.60153   0.773   0.4397    \n",
      "month11                       -0.01477    0.60819  -0.024   0.9806    \n",
      "month12                       -0.38663    0.60658  -0.637   0.5239    \n",
      "---\n",
      "Signif. codes:  0 '***' 0.001 '**' 0.01 '*' 0.05 '.' 0.1 ' ' 1\n",
      "\n",
      "Residual standard error: 25.05 on 41050 degrees of freedom\n",
      "Multiple R-squared:  0.2555,\tAdjusted R-squared:  0.255 \n",
      "F-statistic: 521.9 on 27 and 41050 DF,  p-value: < 2.2e-16\n",
      "\n"
     ]
    }
   ],
   "source": [
    "# Prepare B2B data: define region, discount, and month as predictors\n",
    "b2b_prepped <- line_wise_b2b %>%\n",
    "  mutate(\n",
    "    region   = as.factor(region),\n",
    "    product  = as.factor(product),\n",
    "    discount = as.numeric(discount),\n",
    "    month    = factor(format(order_date, \"%m\")) # adds seasonal effect\n",
    "  ) %>%\n",
    "  select(product, quantity, discount, region, month)\n",
    "\n",
    "# Define a list of top-selling products for B2B\n",
    "top_products_b2b <- c(\n",
    "  \"Moët & Chandon\", \"Veuve Clicquot\", \"Johnnie Walker\", \"Jack Daniels\",\n",
    "  \"Tanqueray\", \"Havana Club\", \"Bacardi\", \"Riesling\", \"Chardonnay\",\n",
    "  \"Sauvignon Blanc\"\n",
    ")\n",
    "\n",
    "# Store regression summaries for each product\n",
    "model_summaries_b2b <- list()\n",
    "\n",
    "for (prod in top_products_b2b) {\n",
    "  df_product <- b2b_prepped %>% filter(product == prod)\n",
    "\n",
    "  if (nrow(df_product) >= 50) { # Ensure sufficient sample size\n",
    "    model_b2b <- lm(quantity ~ discount + region + month, data = df_product)\n",
    "    model_summaries_b2b[[prod]] <- summary(model_b2b)\n",
    "  }\n",
    "}\n",
    "\n",
    "# Output regression results per product\n",
    "for (prod in names(model_summaries_b2b)) {\n",
    "  cat(\"\\n==========================================\\n\")\n",
    "  cat(\" B2B Regression Summary for:\", prod, \"\\n\")\n",
    "  cat(\"==========================================\\n\")\n",
    "  print(model_summaries_b2b[[prod]])\n",
    "}"
   ]
  },
  {
   "cell_type": "code",
   "execution_count": 22,
   "metadata": {
    "vscode": {
     "languageId": "r"
    }
   },
   "outputs": [
    {
     "name": "stdout",
     "output_type": "stream",
     "text": [
      "\n",
      "==========================================\n",
      "B2C Regression Summary for: Veuve Clicquot \n",
      "==========================================\n",
      "\n",
      "Call:\n",
      "lm(formula = quantity ~ region + month, data = df_product)\n",
      "\n",
      "Residuals:\n",
      "    Min      1Q  Median      3Q     Max \n",
      "-7.2691 -3.9539 -0.0261  3.9051  7.2657 \n",
      "\n",
      "Coefficients:\n",
      "                              Estimate Std. Error t value Pr(>|t|)    \n",
      "(Intercept)                   8.032687   0.081428  98.648   <2e-16 ***\n",
      "regionBayern                  0.030239   0.088819   0.340   0.7335    \n",
      "regionBerlin                 -0.096100   0.089943  -1.068   0.2853    \n",
      "regionBrandenburg            -0.186910   0.090368  -2.068   0.0386 *  \n",
      "regionBremen                  0.106696   0.093107   1.146   0.2518    \n",
      "regionHamburg                -0.077091   0.087599  -0.880   0.3788    \n",
      "regionHessen                 -0.014950   0.091097  -0.164   0.8696    \n",
      "regionMecklenburg-Vorpommern -0.041695   0.090414  -0.461   0.6447    \n",
      "regionNiedersachsen          -0.015802   0.087066  -0.181   0.8560    \n",
      "regionNordrhein-Westfalen    -0.028012   0.088795  -0.315   0.7524    \n",
      "regionRheinland-Pfalz         0.115740   0.090125   1.284   0.1991    \n",
      "regionSaarland                0.046225   0.088906   0.520   0.6031    \n",
      "regionSachsen                -0.031922   0.087914  -0.363   0.7165    \n",
      "regionSachsen-Anhalt         -0.009142   0.090208  -0.101   0.9193    \n",
      "regionSchleswig-Holstein     -0.131531   0.087736  -1.499   0.1338    \n",
      "regionThüringen              -0.090528   0.088965  -1.018   0.3089    \n",
      "month02                      -0.006574   0.078851  -0.083   0.9336    \n",
      "month03                      -0.111499   0.077216  -1.444   0.1487    \n",
      "month04                       0.025926   0.077813   0.333   0.7390    \n",
      "month05                      -0.009589   0.076868  -0.125   0.9007    \n",
      "month06                       0.032006   0.077408   0.413   0.6793    \n",
      "month07                       0.120655   0.077286   1.561   0.1185    \n",
      "month08                       0.017308   0.077068   0.225   0.8223    \n",
      "month09                       0.105893   0.077443   1.367   0.1715    \n",
      "month10                       0.120080   0.077328   1.553   0.1205    \n",
      "month11                       0.020248   0.077240   0.262   0.7932    \n",
      "month12                       0.055161   0.077634   0.711   0.4774    \n",
      "---\n",
      "Signif. codes:  0 '***' 0.001 '**' 0.01 '*' 0.05 '.' 0.1 ' ' 1\n",
      "\n",
      "Residual standard error: 4.317 on 74116 degrees of freedom\n",
      "Multiple R-squared:  0.0005227,\tAdjusted R-squared:  0.0001721 \n",
      "F-statistic: 1.491 on 26 and 74116 DF,  p-value: 0.05139\n",
      "\n",
      "\n",
      "==========================================\n",
      "B2C Regression Summary for: Moët & Chandon \n",
      "==========================================\n",
      "\n",
      "Call:\n",
      "lm(formula = quantity ~ region + month, data = df_product)\n",
      "\n",
      "Residuals:\n",
      "    Min      1Q  Median      3Q     Max \n",
      "-7.1658 -3.9615 -0.0028  3.9257  7.1398 \n",
      "\n",
      "Coefficients:\n",
      "                               Estimate Std. Error t value Pr(>|t|)    \n",
      "(Intercept)                   7.9731484  0.0813260  98.039   <2e-16 ***\n",
      "regionBayern                  0.1786718  0.0883453   2.022   0.0431 *  \n",
      "regionBerlin                  0.0996393  0.0889774   1.120   0.2628    \n",
      "regionBrandenburg             0.0723883  0.0900572   0.804   0.4215    \n",
      "regionBremen                  0.1341516  0.0936339   1.433   0.1519    \n",
      "regionHamburg                 0.1790726  0.0873683   2.050   0.0404 *  \n",
      "regionHessen                 -0.0070771  0.0902877  -0.078   0.9375    \n",
      "regionMecklenburg-Vorpommern  0.0287511  0.0912507   0.315   0.7527    \n",
      "regionNiedersachsen           0.0314070  0.0867322   0.362   0.7173    \n",
      "regionNordrhein-Westfalen    -0.0131678  0.0880922  -0.149   0.8812    \n",
      "regionRheinland-Pfalz         0.1089061  0.0893715   1.219   0.2230    \n",
      "regionSaarland                0.1403371  0.0887065   1.582   0.1136    \n",
      "regionSachsen                 0.0419417  0.0876295   0.479   0.6322    \n",
      "regionSachsen-Anhalt          0.1112342  0.0905975   1.228   0.2195    \n",
      "regionSchleswig-Holstein     -0.0008748  0.0874226  -0.010   0.9920    \n",
      "regionThüringen               0.0657567  0.0889028   0.740   0.4595    \n",
      "month02                      -0.0360793  0.0788310  -0.458   0.6472    \n",
      "month03                      -0.0094499  0.0769242  -0.123   0.9022    \n",
      "month04                      -0.0434324  0.0777733  -0.558   0.5765    \n",
      "month05                      -0.0602515  0.0762862  -0.790   0.4296    \n",
      "month06                      -0.0048435  0.0775802  -0.062   0.9502    \n",
      "month07                       0.0064297  0.0762560   0.084   0.9328    \n",
      "month08                       0.0014981  0.0764842   0.020   0.9844    \n",
      "month09                      -0.0613098  0.0775865  -0.790   0.4294    \n",
      "month10                      -0.0745587  0.0766184  -0.973   0.3305    \n",
      "month11                       0.0136181  0.0770972   0.177   0.8598    \n",
      "month12                      -0.0998155  0.0768362  -1.299   0.1939    \n",
      "---\n",
      "Signif. codes:  0 '***' 0.001 '**' 0.01 '*' 0.05 '.' 0.1 ' ' 1\n",
      "\n",
      "Residual standard error: 4.314 on 74109 degrees of freedom\n",
      "Multiple R-squared:  0.0002843,\tAdjusted R-squared:  -6.644e-05 \n",
      "F-statistic: 0.8106 on 26 and 74109 DF,  p-value: 0.7381\n",
      "\n",
      "\n",
      "==========================================\n",
      "B2C Regression Summary for: Jack Daniels \n",
      "==========================================\n",
      "\n",
      "Call:\n",
      "lm(formula = quantity ~ region + month, data = df_product)\n",
      "\n",
      "Residuals:\n",
      "    Min      1Q  Median      3Q     Max \n",
      "-7.2215 -3.9324 -0.0009  3.9315  7.2379 \n",
      "\n",
      "Coefficients:\n",
      "                              Estimate Std. Error t value Pr(>|t|)    \n",
      "(Intercept)                   7.923548   0.081999  96.630   <2e-16 ***\n",
      "regionBayern                  0.110239   0.089536   1.231   0.2182    \n",
      "regionBerlin                 -0.004368   0.090072  -0.048   0.9613    \n",
      "regionBrandenburg             0.044963   0.089967   0.500   0.6172    \n",
      "regionBremen                 -0.105209   0.093757  -1.122   0.2618    \n",
      "regionHamburg                -0.011899   0.087666  -0.136   0.8920    \n",
      "regionHessen                  0.117950   0.091441   1.290   0.1971    \n",
      "regionMecklenburg-Vorpommern  0.030901   0.090779   0.340   0.7336    \n",
      "regionNiedersachsen           0.040725   0.087475   0.466   0.6415    \n",
      "regionNordrhein-Westfalen     0.130680   0.089129   1.466   0.1426    \n",
      "regionRheinland-Pfalz         0.110887   0.090511   1.225   0.2205    \n",
      "regionSaarland                0.020515   0.089681   0.229   0.8191    \n",
      "regionSachsen                 0.024856   0.087574   0.284   0.7765    \n",
      "regionSachsen-Anhalt          0.046805   0.090417   0.518   0.6047    \n",
      "regionSchleswig-Holstein      0.015357   0.088389   0.174   0.8621    \n",
      "regionThüringen               0.032607   0.088478   0.369   0.7125    \n",
      "month02                       0.043470   0.078547   0.553   0.5800    \n",
      "month03                       0.049523   0.077065   0.643   0.5205    \n",
      "month04                       0.095847   0.077355   1.239   0.2153    \n",
      "month05                       0.030537   0.076729   0.398   0.6906    \n",
      "month06                       0.167254   0.077652   2.154   0.0313 *  \n",
      "month07                      -0.031223   0.077200  -0.404   0.6859    \n",
      "month08                      -0.023767   0.076816  -0.309   0.7570    \n",
      "month09                       0.044330   0.078042   0.568   0.5700    \n",
      "month10                      -0.056250   0.076837  -0.732   0.4641    \n",
      "month11                       0.100021   0.077304   1.294   0.1957    \n",
      "month12                       0.072384   0.077313   0.936   0.3492    \n",
      "---\n",
      "Signif. codes:  0 '***' 0.001 '**' 0.01 '*' 0.05 '.' 0.1 ' ' 1\n",
      "\n",
      "Residual standard error: 4.308 on 74095 degrees of freedom\n",
      "Multiple R-squared:  0.0003645,\tAdjusted R-squared:  1.371e-05 \n",
      "F-statistic: 1.039 on 26 and 74095 DF,  p-value: 0.4085\n",
      "\n",
      "\n",
      "==========================================\n",
      "B2C Regression Summary for: Johnnie Walker \n",
      "==========================================\n",
      "\n",
      "Call:\n",
      "lm(formula = quantity ~ region + month, data = df_product)\n",
      "\n",
      "Residuals:\n",
      "    Min      1Q  Median      3Q     Max \n",
      "-7.1982 -3.9610 -0.0163  3.9365  7.2451 \n",
      "\n",
      "Coefficients:\n",
      "                               Estimate Std. Error t value Pr(>|t|)    \n",
      "(Intercept)                   8.0609798  0.0814852  98.926   <2e-16 ***\n",
      "regionBayern                 -0.1389064  0.0886544  -1.567   0.1172    \n",
      "regionBerlin                 -0.0547705  0.0893954  -0.613   0.5401    \n",
      "regionBrandenburg             0.0154222  0.0904826   0.170   0.8647    \n",
      "regionBremen                 -0.0339433  0.0935154  -0.363   0.7166    \n",
      "regionHamburg                -0.0406306  0.0876804  -0.463   0.6431    \n",
      "regionHessen                 -0.0748253  0.0906399  -0.826   0.4091    \n",
      "regionMecklenburg-Vorpommern  0.0018211  0.0906322   0.020   0.9840    \n",
      "regionNiedersachsen          -0.1963471  0.0868952  -2.260   0.0238 *  \n",
      "regionNordrhein-Westfalen    -0.0297348  0.0887097  -0.335   0.7375    \n",
      "regionRheinland-Pfalz        -0.0460527  0.0902236  -0.510   0.6098    \n",
      "regionSaarland               -0.0152922  0.0892710  -0.171   0.8640    \n",
      "regionSachsen                -0.0013768  0.0875215  -0.016   0.9874    \n",
      "regionSachsen-Anhalt         -0.0244157  0.0909456  -0.268   0.7883    \n",
      "regionSchleswig-Holstein     -0.0292391  0.0883260  -0.331   0.7406    \n",
      "regionThüringen              -0.0451285  0.0889471  -0.507   0.6119    \n",
      "month02                       0.0322235  0.0791370   0.407   0.6839    \n",
      "month03                      -0.0154834  0.0770039  -0.201   0.8406    \n",
      "month04                       0.0694693  0.0772626   0.899   0.3686    \n",
      "month05                      -0.0948997  0.0769190  -1.234   0.2173    \n",
      "month06                      -0.0539523  0.0772054  -0.699   0.4847    \n",
      "month07                       0.0375105  0.0763372   0.491   0.6232    \n",
      "month08                       0.0380878  0.0763253   0.499   0.6178    \n",
      "month09                      -0.0236719  0.0776523  -0.305   0.7605    \n",
      "month10                      -0.1097597  0.0771338  -1.423   0.1547    \n",
      "month11                       0.0007305  0.0770270   0.009   0.9924    \n",
      "month12                       0.1218145  0.0767022   1.588   0.1123    \n",
      "---\n",
      "Signif. codes:  0 '***' 0.001 '**' 0.01 '*' 0.05 '.' 0.1 ' ' 1\n",
      "\n",
      "Residual standard error: 4.325 on 74432 degrees of freedom\n",
      "Multiple R-squared:  0.0003753,\tAdjusted R-squared:  2.613e-05 \n",
      "F-statistic: 1.075 on 26 and 74432 DF,  p-value: 0.3612\n",
      "\n",
      "\n",
      "==========================================\n",
      "B2C Regression Summary for: Tanqueray \n",
      "==========================================\n",
      "\n",
      "Call:\n",
      "lm(formula = quantity ~ region + month, data = df_product)\n",
      "\n",
      "Residuals:\n",
      "    Min      1Q  Median      3Q     Max \n",
      "-7.2049 -3.9481 -0.0025  3.9240  7.1843 \n",
      "\n",
      "Coefficients:\n",
      "                             Estimate Std. Error t value Pr(>|t|)    \n",
      "(Intercept)                   7.87688    0.08112  97.101  < 2e-16 ***\n",
      "regionBayern                 -0.01242    0.08836  -0.141  0.88825    \n",
      "regionBerlin                  0.02637    0.08851   0.298  0.76575    \n",
      "regionBrandenburg             0.04596    0.09035   0.509  0.61099    \n",
      "regionBremen                  0.02666    0.09239   0.289  0.77290    \n",
      "regionHamburg                -0.02462    0.08701  -0.283  0.77716    \n",
      "regionHessen                 -0.02840    0.09022  -0.315  0.75296    \n",
      "regionMecklenburg-Vorpommern -0.02141    0.09084  -0.236  0.81367    \n",
      "regionNiedersachsen          -0.04704    0.08721  -0.539  0.58959    \n",
      "regionNordrhein-Westfalen     0.03609    0.08852   0.408  0.68353    \n",
      "regionRheinland-Pfalz         0.09128    0.08983   1.016  0.30953    \n",
      "regionSaarland                0.09373    0.08929   1.050  0.29388    \n",
      "regionSachsen                 0.05441    0.08692   0.626  0.53132    \n",
      "regionSachsen-Anhalt         -0.02360    0.09041  -0.261  0.79411    \n",
      "regionSchleswig-Holstein      0.10112    0.08718   1.160  0.24610    \n",
      "regionThüringen               0.01598    0.08822   0.181  0.85628    \n",
      "month02                      -0.01414    0.07896  -0.179  0.85786    \n",
      "month03                       0.04918    0.07661   0.642  0.52095    \n",
      "month04                       0.11893    0.07704   1.544  0.12267    \n",
      "month05                       0.09800    0.07615   1.287  0.19813    \n",
      "month06                       0.09585    0.07721   1.241  0.21447    \n",
      "month07                       0.13694    0.07659   1.788  0.07377 .  \n",
      "month08                       0.22694    0.07680   2.955  0.00313 ** \n",
      "month09                       0.20411    0.07713   2.646  0.00814 ** \n",
      "month10                       0.12352    0.07664   1.612  0.10705    \n",
      "month11                       0.15406    0.07704   2.000  0.04553 *  \n",
      "month12                       0.12022    0.07706   1.560  0.11873    \n",
      "---\n",
      "Signif. codes:  0 '***' 0.001 '**' 0.01 '*' 0.05 '.' 0.1 ' ' 1\n",
      "\n",
      "Residual standard error: 4.304 on 74302 degrees of freedom\n",
      "Multiple R-squared:  0.0003659,\tAdjusted R-squared:  1.614e-05 \n",
      "F-statistic: 1.046 on 26 and 74302 DF,  p-value: 0.3989\n",
      "\n",
      "\n",
      "==========================================\n",
      "B2C Regression Summary for: Bacardi \n",
      "==========================================\n",
      "\n",
      "Call:\n",
      "lm(formula = quantity ~ region + month, data = df_product)\n",
      "\n",
      "Residuals:\n",
      "    Min      1Q  Median      3Q     Max \n",
      "-7.1633 -3.9254 -0.0017  3.9584  7.1704 \n",
      "\n",
      "Coefficients:\n",
      "                              Estimate Std. Error t value Pr(>|t|)    \n",
      "(Intercept)                   8.070728   0.081950  98.483   <2e-16 ***\n",
      "regionBayern                 -0.159969   0.089340  -1.791   0.0734 .  \n",
      "regionBerlin                 -0.069044   0.090210  -0.765   0.4441    \n",
      "regionBrandenburg            -0.030390   0.090121  -0.337   0.7360    \n",
      "regionBremen                 -0.058927   0.093428  -0.631   0.5282    \n",
      "regionHamburg                -0.030148   0.087735  -0.344   0.7311    \n",
      "regionHessen                 -0.030348   0.091041  -0.333   0.7389    \n",
      "regionMecklenburg-Vorpommern -0.037505   0.090757  -0.413   0.6794    \n",
      "regionNiedersachsen          -0.150258   0.087077  -1.726   0.0844 .  \n",
      "regionNordrhein-Westfalen     0.005997   0.088849   0.067   0.9462    \n",
      "regionRheinland-Pfalz        -0.059913   0.089723  -0.668   0.5043    \n",
      "regionSaarland               -0.125203   0.089344  -1.401   0.1611    \n",
      "regionSachsen                -0.177200   0.087290  -2.030   0.0424 *  \n",
      "regionSachsen-Anhalt         -0.156866   0.091497  -1.714   0.0865 .  \n",
      "regionSchleswig-Holstein     -0.018021   0.088190  -0.204   0.8381    \n",
      "regionThüringen              -0.076654   0.088488  -0.866   0.3863    \n",
      "month02                       0.004119   0.079017   0.052   0.9584    \n",
      "month03                      -0.030924   0.077589  -0.399   0.6902    \n",
      "month04                      -0.024122   0.077746  -0.310   0.7564    \n",
      "month05                      -0.006566   0.077275  -0.085   0.9323    \n",
      "month06                      -0.057505   0.077913  -0.738   0.4605    \n",
      "month07                       0.001232   0.077182   0.016   0.9873    \n",
      "month08                       0.086596   0.077311   1.120   0.2627    \n",
      "month09                      -0.053478   0.077811  -0.687   0.4919    \n",
      "month10                      -0.063902   0.077224  -0.827   0.4080    \n",
      "month11                       0.011562   0.077775   0.149   0.8818    \n",
      "month12                      -0.014804   0.077231  -0.192   0.8480    \n",
      "---\n",
      "Signif. codes:  0 '***' 0.001 '**' 0.01 '*' 0.05 '.' 0.1 ' ' 1\n",
      "\n",
      "Residual standard error: 4.316 on 74018 degrees of freedom\n",
      "Multiple R-squared:  0.0002731,\tAdjusted R-squared:  -7.809e-05 \n",
      "F-statistic: 0.7776 on 26 and 74018 DF,  p-value: 0.7811\n",
      "\n",
      "\n",
      "==========================================\n",
      "B2C Regression Summary for: Havana Club \n",
      "==========================================\n",
      "\n",
      "Call:\n",
      "lm(formula = quantity ~ region + month, data = df_product)\n",
      "\n",
      "Residuals:\n",
      "    Min      1Q  Median      3Q     Max \n",
      "-7.1843 -3.9451 -0.0087  3.9405  7.2000 \n",
      "\n",
      "Coefficients:\n",
      "                               Estimate Std. Error t value Pr(>|t|)    \n",
      "(Intercept)                   7.9879992  0.0816468  97.836   <2e-16 ***\n",
      "regionBayern                 -0.0558154  0.0893062  -0.625    0.532    \n",
      "regionBerlin                  0.0459995  0.0896781   0.513    0.608    \n",
      "regionBrandenburg             0.0808468  0.0903907   0.894    0.371    \n",
      "regionBremen                  0.0638827  0.0940010   0.680    0.497    \n",
      "regionHamburg                -0.0612688  0.0870518  -0.704    0.482    \n",
      "regionHessen                  0.0694729  0.0904893   0.768    0.443    \n",
      "regionMecklenburg-Vorpommern  0.0235366  0.0907191   0.259    0.795    \n",
      "regionNiedersachsen           0.1399598  0.0869408   1.610    0.107    \n",
      "regionNordrhein-Westfalen    -0.0137159  0.0894774  -0.153    0.878    \n",
      "regionRheinland-Pfalz        -0.0034727  0.0903029  -0.038    0.969    \n",
      "regionSaarland                0.0880005  0.0894655   0.984    0.325    \n",
      "regionSachsen                 0.0169219  0.0876121   0.193    0.847    \n",
      "regionSachsen-Anhalt          0.0556129  0.0908211   0.612    0.540    \n",
      "regionSchleswig-Holstein      0.0275938  0.0877861   0.314    0.753    \n",
      "regionThüringen              -0.0812300  0.0889479  -0.913    0.361    \n",
      "month02                      -0.0013445  0.0785052  -0.017    0.986    \n",
      "month03                       0.0159043  0.0762838   0.208    0.835    \n",
      "month04                      -0.0069267  0.0773354  -0.090    0.929    \n",
      "month05                      -0.0312545  0.0764091  -0.409    0.683    \n",
      "month06                      -0.0515542  0.0770588  -0.669    0.503    \n",
      "month07                       0.0244307  0.0768859   0.318    0.751    \n",
      "month08                       0.0100586  0.0763525   0.132    0.895    \n",
      "month09                       0.0563879  0.0772497   0.730    0.465    \n",
      "month10                      -0.0006927  0.0762627  -0.009    0.993    \n",
      "month11                      -0.1067688  0.0770196  -1.386    0.166    \n",
      "month12                       0.0141164  0.0769692   0.183    0.854    \n",
      "---\n",
      "Signif. codes:  0 '***' 0.001 '**' 0.01 '*' 0.05 '.' 0.1 ' ' 1\n",
      "\n",
      "Residual standard error: 4.315 on 74408 degrees of freedom\n",
      "Multiple R-squared:  0.000271,\tAdjusted R-squared:  -7.835e-05 \n",
      "F-statistic: 0.7757 on 26 and 74408 DF,  p-value: 0.7835\n",
      "\n",
      "\n",
      "==========================================\n",
      "B2C Regression Summary for: Cranberry Juice \n",
      "==========================================\n",
      "\n",
      "Call:\n",
      "lm(formula = quantity ~ region + month, data = df_product)\n",
      "\n",
      "Residuals:\n",
      "    Min      1Q  Median      3Q     Max \n",
      "-7.1028 -3.9688  0.0009  3.9758  7.1132 \n",
      "\n",
      "Coefficients:\n",
      "                              Estimate Std. Error t value Pr(>|t|)    \n",
      "(Intercept)                   7.939174   0.049045 161.875  < 2e-16 ***\n",
      "regionBayern                 -0.007795   0.053584  -0.145  0.88434    \n",
      "regionBerlin                  0.026652   0.054256   0.491  0.62326    \n",
      "regionBrandenburg            -0.036653   0.054349  -0.674  0.50006    \n",
      "regionBremen                 -0.009085   0.053782  -0.169  0.86586    \n",
      "regionHamburg                 0.042061   0.053073   0.793  0.42806    \n",
      "regionHessen                  0.013523   0.055520   0.244  0.80756    \n",
      "regionMecklenburg-Vorpommern -0.023835   0.054837  -0.435  0.66382    \n",
      "regionNiedersachsen           0.005046   0.053222   0.095  0.92447    \n",
      "regionNordrhein-Westfalen    -0.036069   0.053069  -0.680  0.49671    \n",
      "regionRheinland-Pfalz        -0.024156   0.053638  -0.450  0.65245    \n",
      "regionSaarland                0.017117   0.053998   0.317  0.75125    \n",
      "regionSachsen                 0.004813   0.052879   0.091  0.92747    \n",
      "regionSachsen-Anhalt         -0.003501   0.054117  -0.065  0.94842    \n",
      "regionSchleswig-Holstein     -0.052420   0.052990  -0.989  0.32255    \n",
      "regionThüringen               0.020557   0.054439   0.378  0.70571    \n",
      "month02                       0.079765   0.047413   1.682  0.09250 .  \n",
      "month03                       0.045394   0.046139   0.984  0.32519    \n",
      "month04                       0.080102   0.046641   1.717  0.08591 .  \n",
      "month05                       0.090697   0.046069   1.969  0.04899 *  \n",
      "month06                       0.042786   0.046515   0.920  0.35767    \n",
      "month07                       0.068996   0.046081   1.497  0.13433    \n",
      "month08                       0.060793   0.046222   1.315  0.18844    \n",
      "month09                       0.084859   0.046460   1.826  0.06778 .  \n",
      "month10                       0.024597   0.046114   0.533  0.59377    \n",
      "month11                       0.045926   0.046571   0.986  0.32406    \n",
      "month12                       0.121607   0.046454   2.618  0.00885 ** \n",
      "---\n",
      "Signif. codes:  0 '***' 0.001 '**' 0.01 '*' 0.05 '.' 0.1 ' ' 1\n",
      "\n",
      "Residual standard error: 4.323 on 205632 degrees of freedom\n",
      "Multiple R-squared:  8.62e-05,\tAdjusted R-squared:  -4.023e-05 \n",
      "F-statistic: 0.6818 on 26 and 205632 DF,  p-value: 0.8855\n",
      "\n",
      "\n",
      "==========================================\n",
      "B2C Regression Summary for: Tomato Juice \n",
      "==========================================\n",
      "\n",
      "Call:\n",
      "lm(formula = quantity ~ region + month, data = df_product)\n",
      "\n",
      "Residuals:\n",
      "    Min      1Q  Median      3Q     Max \n",
      "-7.1013 -3.9549  0.0062  3.9674  7.2154 \n",
      "\n",
      "Coefficients:\n",
      "                              Estimate Std. Error t value Pr(>|t|)    \n",
      "(Intercept)                   7.893962   0.049266 160.232  < 2e-16 ***\n",
      "regionBayern                  0.114200   0.053764   2.124  0.03366 *  \n",
      "regionBerlin                  0.108095   0.054323   1.990  0.04661 *  \n",
      "regionBrandenburg             0.160252   0.054557   2.937  0.00331 ** \n",
      "regionBremen                  0.160437   0.053716   2.987  0.00282 ** \n",
      "regionHamburg                 0.140798   0.053052   2.654  0.00796 ** \n",
      "regionHessen                  0.138868   0.055920   2.483  0.01302 *  \n",
      "regionMecklenburg-Vorpommern  0.101359   0.054964   1.844  0.06517 .  \n",
      "regionNiedersachsen           0.164047   0.053439   3.070  0.00214 ** \n",
      "regionNordrhein-Westfalen     0.107567   0.053293   2.018  0.04355 *  \n",
      "regionRheinland-Pfalz         0.119713   0.053676   2.230  0.02573 *  \n",
      "regionSaarland                0.161010   0.054061   2.978  0.00290 ** \n",
      "regionSachsen                 0.143454   0.052824   2.716  0.00661 ** \n",
      "regionSachsen-Anhalt          0.088448   0.054282   1.629  0.10322    \n",
      "regionSchleswig-Holstein      0.104176   0.053154   1.960  0.05001 .  \n",
      "regionThüringen               0.099641   0.054380   1.832  0.06690 .  \n",
      "month02                      -0.017217   0.047667  -0.361  0.71795    \n",
      "month03                      -0.043660   0.046253  -0.944  0.34520    \n",
      "month04                       0.043309   0.046706   0.927  0.35378    \n",
      "month05                      -0.009973   0.046485  -0.215  0.83013    \n",
      "month06                      -0.025353   0.046719  -0.543  0.58736    \n",
      "month07                      -0.079816   0.046482  -1.717  0.08595 .  \n",
      "month08                       0.018932   0.046182   0.410  0.68185    \n",
      "month09                       0.027283   0.046665   0.585  0.55878    \n",
      "month10                      -0.075050   0.046337  -1.620  0.10531    \n",
      "month11                      -0.109354   0.046843  -2.334  0.01957 *  \n",
      "month12                      -0.038681   0.046671  -0.829  0.40722    \n",
      "---\n",
      "Signif. codes:  0 '***' 0.001 '**' 0.01 '*' 0.05 '.' 0.1 ' ' 1\n",
      "\n",
      "Residual standard error: 4.322 on 204799 degrees of freedom\n",
      "Multiple R-squared:  0.0001877,\tAdjusted R-squared:  6.08e-05 \n",
      "F-statistic: 1.479 on 26 and 204799 DF,  p-value: 0.05493\n",
      "\n",
      "\n",
      "==========================================\n",
      "B2C Regression Summary for: Rotkäppchen Sekt \n",
      "==========================================\n",
      "\n",
      "Call:\n",
      "lm(formula = quantity ~ region + month, data = df_product)\n",
      "\n",
      "Residuals:\n",
      "    Min      1Q  Median      3Q     Max \n",
      "-7.1117 -3.9667  0.0021  3.9664  7.1183 \n",
      "\n",
      "Coefficients:\n",
      "                              Estimate Std. Error t value Pr(>|t|)    \n",
      "(Intercept)                   7.918330   0.074253 106.640   <2e-16 ***\n",
      "regionBayern                  0.075698   0.084698   0.894    0.371    \n",
      "regionBerlin                  0.108197   0.084940   1.274    0.203    \n",
      "regionBrandenburg             0.067515   0.086060   0.785    0.433    \n",
      "regionBremen                  0.013656   0.088489   0.154    0.877    \n",
      "regionHamburg                 0.029547   0.082407   0.359    0.720    \n",
      "regionHessen                 -0.024849   0.086272  -0.288    0.773    \n",
      "regionMecklenburg-Vorpommern  0.038724   0.086315   0.449    0.654    \n",
      "regionNiedersachsen           0.086230   0.082120   1.050    0.294    \n",
      "regionNordrhein-Westfalen     0.080344   0.083500   0.962    0.336    \n",
      "regionRheinland-Pfalz         0.047866   0.084873   0.564    0.573    \n",
      "regionSaarland                0.040155   0.083820   0.479    0.632    \n",
      "regionSachsen                -0.014115   0.082231  -0.172    0.864    \n",
      "regionSachsen-Anhalt          0.053928   0.069523   0.776    0.438    \n",
      "regionSchleswig-Holstein      0.099596   0.083274   1.196    0.232    \n",
      "regionThüringen               0.089624   0.084177   1.065    0.287    \n",
      "month02                       0.021375   0.075178   0.284    0.776    \n",
      "month03                       0.069227   0.073415   0.943    0.346    \n",
      "month04                      -0.011732   0.074152  -0.158    0.874    \n",
      "month05                       0.019863   0.073247   0.271    0.786    \n",
      "month06                       0.048651   0.074165   0.656    0.512    \n",
      "month07                       0.073631   0.073631   1.000    0.317    \n",
      "month08                       0.027328   0.073465   0.372    0.710    \n",
      "month09                       0.085213   0.073945   1.152    0.249    \n",
      "month10                       0.025642   0.073420   0.349    0.727    \n",
      "month11                      -0.005587   0.074056  -0.075    0.940    \n",
      "month12                       0.005638   0.073777   0.076    0.939    \n",
      "---\n",
      "Signif. codes:  0 '***' 0.001 '**' 0.01 '*' 0.05 '.' 0.1 ' ' 1\n",
      "\n",
      "Residual standard error: 4.327 on 81411 degrees of freedom\n",
      "Multiple R-squared:  0.0001292,\tAdjusted R-squared:  -0.0001901 \n",
      "F-statistic: 0.4047 on 26 and 81411 DF,  p-value: 0.9969\n",
      "\n"
     ]
    }
   ],
   "source": [
    "b2c_prepped <- line_wise_b2c %>%\n",
    "  mutate(\n",
    "    region   = as.factor(region),\n",
    "    product  = as.factor(product),\n",
    "    month    = factor(format(order_date, \"%m\"))\n",
    "  ) %>%\n",
    "  select(product, quantity, region, month)\n",
    "\n",
    "# Define a list of top-selling products for B2C\n",
    "top_products_b2c <- c(\n",
    "  \"Veuve Clicquot\", \"Moët & Chandon\", \"Jack Daniels\", \"Johnnie Walker\",\n",
    "  \"Tanqueray\", \"Bacardi\", \"Havana Club\", \"Cranberry Juice\", \"Tomato Juice\",\n",
    "  \"Rotkäppchen Sekt\"\n",
    ")\n",
    "\n",
    "# Store regression summaries for each product\n",
    "model_summaries_b2c <- list()\n",
    "\n",
    "for (prod in top_products_b2c) {\n",
    "  df_product <- b2c_prepped %>% filter(product == prod)\n",
    "\n",
    "  if (nrow(df_product) >= 50) {\n",
    "    model_b2c <- lm(quantity ~ region + month, data = df_product)\n",
    "    model_summaries_b2c[[prod]] <- summary(model_b2c)\n",
    "  }\n",
    "}\n",
    "\n",
    "# Output regression results per product\n",
    "for (prod in names(model_summaries_b2c)) {\n",
    "  cat(\"\\n==========================================\\n\")\n",
    "  cat(\"B2C Regression Summary for:\", prod, \"\\n\")\n",
    "  cat(\"==========================================\\n\")\n",
    "  print(model_summaries_b2c[[prod]])\n",
    "}"
   ]
  },
  {
   "cell_type": "markdown",
   "metadata": {},
   "source": [
    "### Model Evaluation"
   ]
  },
  {
   "cell_type": "code",
   "execution_count": 23,
   "metadata": {
    "vscode": {
     "languageId": "r"
    }
   },
   "outputs": [
    {
     "data": {
      "text/plain": [
       "\n",
       "\n",
       "Table: Model Performance on Test Set – B2B\n",
       "\n",
       "|product         | train_r2| train_adj_r2| test_r2| rmse_test| n_train| n_test|\n",
       "|:---------------|--------:|------------:|-------:|---------:|-------:|------:|\n",
       "|Moët & Chandon  |    0.252|        0.252|   0.255|    24.948|   32619|   8152|\n",
       "|Veuve Clicquot  |    0.257|        0.256|   0.226|    25.375|   32578|   8143|\n",
       "|Johnnie Walker  |    0.268|        0.267|   0.263|    24.783|   32502|   8124|\n",
       "|Jack Daniels    |    0.257|        0.256|   0.246|    25.145|   32979|   8242|\n",
       "|Tanqueray       |    0.255|        0.254|   0.261|    24.931|   32689|   8171|\n",
       "|Havana Club     |    0.270|        0.269|   0.252|    24.916|   32799|   8198|\n",
       "|Bacardi         |    0.261|        0.261|   0.249|    25.028|   32740|   8183|\n",
       "|Riesling        |    0.253|        0.252|   0.251|    24.987|   35556|   8888|\n",
       "|Chardonnay      |    0.251|        0.250|   0.238|    25.166|   32879|   8218|\n",
       "|Sauvignon Blanc |    0.254|        0.254|   0.260|    25.065|   32865|   8213|"
      ]
     },
     "metadata": {},
     "output_type": "display_data"
    }
   ],
   "source": [
    "# Store evaluation metrics\n",
    "model_metrics_b2b <- tibble(\n",
    "  product       = character(),\n",
    "  train_r2      = numeric(),\n",
    "  train_adj_r2  = numeric(),\n",
    "  test_r2       = numeric(),\n",
    "  rmse_test     = numeric(),\n",
    "  n_train       = integer(),\n",
    "  n_test        = integer()\n",
    ")\n",
    "\n",
    "for (prod in top_products_b2b) {\n",
    "  df_product <- b2b_prepped %>% filter(product == prod)\n",
    "\n",
    "  if (nrow(df_product) >= 50) {\n",
    "    set.seed(123) # reproducibility\n",
    "\n",
    "    # Create training (80%) and test (20%) split\n",
    "    train_index_b2b <- createDataPartition(df_product$quantity, p = 0.8, list = FALSE)\n",
    "    train_data_b2b <- df_product[train_index_b2b, ]\n",
    "    test_data_b2b <- df_product[-train_index_b2b, ]\n",
    "\n",
    "    # Fit model on training set\n",
    "    model_b2b <- lm(quantity ~ discount + region + month, data = train_data_b2b)\n",
    "\n",
    "    # Predict on test set\n",
    "    predictions_b2b <- predict(model_b2b, newdata = test_data_b2b)\n",
    "\n",
    "    # Calculate evaluation metrics\n",
    "    rmse_val_b2b <- rmse(actual = test_data_b2b$quantity, predicted = predictions_b2b)\n",
    "    r2_val_b2b <- summary(model_b2b)$r.squared # training R²\n",
    "    adj_r2_b2b <- summary(model_b2b)$adj.r.squared\n",
    "\n",
    "    # Compute R² on test set\n",
    "    ss_total_b2b <- sum((test_data_b2b$quantity - mean(test_data_b2b$quantity))^2)\n",
    "    ss_res_b2b <- sum((test_data_b2b$quantity - predictions_b2b)^2)\n",
    "    test_r2_b2b <- 1 - (ss_res_b2b / ss_total_b2b)\n",
    "\n",
    "    # Store metrics\n",
    "    model_metrics_b2b <- model_metrics_b2b %>%\n",
    "      add_row(\n",
    "        product       = prod,\n",
    "        train_r2      = round(r2_val_b2b, 3),\n",
    "        train_adj_r2  = round(adj_r2_b2b, 3),\n",
    "        test_r2       = round(test_r2_b2b, 3),\n",
    "        rmse_test     = round(rmse_val_b2b, 3),\n",
    "        n_train       = nrow(train_data_b2b),\n",
    "        n_test        = nrow(test_data_b2b)\n",
    "      )\n",
    "  }\n",
    "}\n",
    "\n",
    "# Display evaluation results\n",
    "kable(model_metrics_b2b, caption = \"Model Performance on Test Set – B2B\")"
   ]
  },
  {
   "cell_type": "code",
   "execution_count": 24,
   "metadata": {
    "vscode": {
     "languageId": "r"
    }
   },
   "outputs": [
    {
     "data": {
      "text/plain": [
       "\n",
       "\n",
       "Table: Model Performance on Test Set – B2B\n",
       "\n",
       "|product          | train_r2| train_adj_r2| test_r2| rmse_test| n_train| n_test|\n",
       "|:----------------|--------:|------------:|-------:|---------:|-------:|------:|\n",
       "|Veuve Clicquot   |    0.001|            0|  -0.001|     4.323|   59316|  14827|\n",
       "|Moët & Chandon   |    0.000|            0|   0.000|     4.315|   59311|  14825|\n",
       "|Jack Daniels     |    0.000|            0|   0.000|     4.315|   59300|  14822|\n",
       "|Johnnie Walker   |    0.001|            0|  -0.001|     4.318|   59569|  14890|\n",
       "|Tanqueray        |    0.000|            0|   0.000|     4.289|   59465|  14864|\n",
       "|Bacardi          |    0.001|            0|  -0.001|     4.320|   59238|  14807|\n",
       "|Havana Club      |    0.000|            0|   0.000|     4.325|   59550|  14885|\n",
       "|Cranberry Juice  |    0.000|            0|   0.000|     4.328|  164529|  41130|\n",
       "|Tomato Juice     |    0.000|            0|   0.000|     4.324|  163863|  40963|\n",
       "|Rotkäppchen Sekt |    0.000|            0|   0.000|     4.331|   65151|  16287|"
      ]
     },
     "metadata": {},
     "output_type": "display_data"
    }
   ],
   "source": [
    "#------------------- Model evaluation -------------------\n",
    "# Store evaluation metrics\n",
    "model_metrics_b2c <- tibble(\n",
    "  product       = character(),\n",
    "  train_r2      = numeric(),\n",
    "  train_adj_r2  = numeric(),\n",
    "  test_r2       = numeric(),\n",
    "  rmse_test     = numeric(),\n",
    "  n_train       = integer(),\n",
    "  n_test        = integer()\n",
    ")\n",
    "\n",
    "for (prod in top_products_b2c) {\n",
    "  df_product <- b2c_prepped %>% filter(product == prod)\n",
    "\n",
    "  if (nrow(df_product) >= 50) {\n",
    "    set.seed(123) # reproducibility\n",
    "\n",
    "    # Create training (80%) and test (20%) split\n",
    "    train_index <- createDataPartition(df_product$quantity, p = 0.8, list = FALSE)\n",
    "    train_data <- df_product[train_index, ]\n",
    "    test_data <- df_product[-train_index, ]\n",
    "\n",
    "    # Fit model on training set\n",
    "    model <- lm(quantity ~ region + month, data = train_data)\n",
    "\n",
    "    # Predict on test set\n",
    "    predictions <- predict(model, newdata = test_data)\n",
    "\n",
    "    # Calculate evaluation metrics\n",
    "    rmse_val <- rmse(actual = test_data$quantity, predicted = predictions)\n",
    "    r2_val <- summary(model)$r.squared # training R²\n",
    "    adj_r2 <- summary(model)$adj.r.squared\n",
    "\n",
    "    # Compute R² on test set\n",
    "    ss_total <- sum((test_data$quantity - mean(test_data$quantity))^2)\n",
    "    ss_res <- sum((test_data$quantity - predictions)^2)\n",
    "    test_r2 <- 1 - (ss_res / ss_total)\n",
    "\n",
    "    # Store metrics\n",
    "    model_metrics_b2c <- model_metrics_b2c %>%\n",
    "      add_row(\n",
    "        product       = prod,\n",
    "        train_r2      = round(r2_val, 3),\n",
    "        train_adj_r2  = round(adj_r2, 3),\n",
    "        test_r2       = round(test_r2, 3),\n",
    "        rmse_test     = round(rmse_val, 3),\n",
    "        n_train       = nrow(train_data),\n",
    "        n_test        = nrow(test_data)\n",
    "      )\n",
    "  }\n",
    "}\n",
    "\n",
    "# Display evaluation results\n",
    "kable(model_metrics_b2c, caption = \"Model Performance on Test Set – B2B\")"
   ]
  },
  {
   "cell_type": "markdown",
   "metadata": {},
   "source": [
    "### Weekday vs Weekend analysis"
   ]
  },
  {
   "cell_type": "code",
   "execution_count": null,
   "metadata": {
    "vscode": {
     "languageId": "r"
    }
   },
   "outputs": [
    {
     "data": {
      "text/plain": [
       "\n",
       "Call:\n",
       "lm(formula = quantity ~ unit_price + region + month + is_weekend, \n",
       "    data = train)\n",
       "\n",
       "Residuals:\n",
       "    Min      1Q  Median      3Q     Max \n",
       "-7.2259 -3.9227 -0.0069  3.9203  7.2822 \n",
       "\n",
       "Coefficients:\n",
       "                              Estimate Std. Error t value Pr(>|t|)    \n",
       "(Intercept)                   8.401287   0.738606  11.375   <2e-16 ***\n",
       "unit_price                   -0.009493   0.014588  -0.651   0.5152    \n",
       "regionBayern                  0.006630   0.100175   0.066   0.9472    \n",
       "regionBerlin                 -0.026115   0.100749  -0.259   0.7955    \n",
       "regionBrandenburg             0.082576   0.100157   0.824   0.4097    \n",
       "regionBremen                 -0.125364   0.104630  -1.198   0.2309    \n",
       "regionHamburg                -0.015420   0.098253  -0.157   0.8753    \n",
       "regionHessen                  0.109414   0.102059   1.072   0.2837    \n",
       "regionMecklenburg-Vorpommern  0.026462   0.101528   0.261   0.7944    \n",
       "regionNiedersachsen           0.072084   0.097926   0.736   0.4617    \n",
       "regionNordrhein-Westfalen     0.135519   0.100008   1.355   0.1754    \n",
       "regionRheinland-Pfalz         0.125751   0.101392   1.240   0.2149    \n",
       "regionSaarland                0.061534   0.099855   0.616   0.5377    \n",
       "regionSachsen                 0.029847   0.097776   0.305   0.7602    \n",
       "regionSachsen-Anhalt          0.060980   0.101153   0.603   0.5466    \n",
       "regionSchleswig-Holstein      0.012295   0.098843   0.124   0.9010    \n",
       "regionThüringen               0.054957   0.099014   0.555   0.5789    \n",
       "month2                       -0.007860   0.087828  -0.089   0.9287    \n",
       "month3                        0.073314   0.086347   0.849   0.3959    \n",
       "month4                        0.123468   0.086505   1.427   0.1535    \n",
       "month5                        0.041514   0.085806   0.484   0.6285    \n",
       "month6                        0.149765   0.087032   1.721   0.0853 .  \n",
       "month7                       -0.066778   0.086403  -0.773   0.4396    \n",
       "month8                       -0.033893   0.086068  -0.394   0.6937    \n",
       "month9                        0.064680   0.087507   0.739   0.4598    \n",
       "month10                      -0.062488   0.085928  -0.727   0.4671    \n",
       "month11                       0.129143   0.086570   1.492   0.1358    \n",
       "month12                       0.068941   0.086550   0.797   0.4257    \n",
       "is_weekend                    0.002459   0.039215   0.063   0.9500    \n",
       "---\n",
       "Signif. codes:  0 '***' 0.001 '**' 0.01 '*' 0.05 '.' 0.1 ' ' 1\n",
       "\n",
       "Residual standard error: 4.306 on 59271 degrees of freedom\n",
       "Multiple R-squared:  0.000478,\tAdjusted R-squared:  5.814e-06 \n",
       "F-statistic: 1.012 on 28 and 59271 DF,  p-value: 0.4463\n"
      ]
     },
     "metadata": {},
     "output_type": "display_data"
    },
    {
     "name": "stdout",
     "output_type": "stream",
     "text": [
      "RMSE (is_weekend): 4.32 \n",
      "R² (is_weekend): -5e-04 \n"
     ]
    }
   ],
   "source": [
    "#------------------- Seeing if theres a difference in weekdays vs weekends -------------------\n",
    "# Only one product is selected for this analysis\n",
    "df_jack_weekend <- line_wise_b2c %>%\n",
    "  filter(product == \"Jack Daniels\") %>%\n",
    "  mutate(\n",
    "    region      = as.factor(region),\n",
    "    unit_price  = as.numeric(unit_price),\n",
    "    month       = factor(month(order_date)),\n",
    "    is_weekend  = ifelse(wday(order_date) %in% c(1, 7), 1, 0) # Sunday (1) und Saturday (7)\n",
    "  ) %>%\n",
    "  select(quantity, discount, unit_price, region, month, is_weekend) %>%\n",
    "  na.omit()\n",
    "\n",
    "# Split & Modell\n",
    "set.seed(123)\n",
    "idx <- createDataPartition(df_jack_weekend$quantity, p = 0.8, list = FALSE)\n",
    "train <- df_jack_weekend[idx, ]\n",
    "test <- df_jack_weekend[-idx, ]\n",
    "\n",
    "model_weekend <- lm(quantity ~ unit_price + region + month + is_weekend, data = train)\n",
    "summary(model_weekend)\n",
    "\n",
    "# Evaluation\n",
    "pred <- predict(model_weekend, newdata = test)\n",
    "rmse <- sqrt(mean((test$quantity - pred)^2))\n",
    "r2 <- 1 - sum((test$quantity - pred)^2) / sum((test$quantity - mean(test$quantity))^2)\n",
    "\n",
    "cat(\"RMSE (is_weekend):\", round(rmse, 2), \"\\n\")\n",
    "cat(\"R² (is_weekend):\", round(r2, 4), \"\\n\")"
   ]
  }
 ],
 "metadata": {
  "kernelspec": {
   "display_name": "R",
   "language": "R",
   "name": "ir"
  },
  "language_info": {
   "codemirror_mode": "r",
   "file_extension": ".r",
   "mimetype": "text/x-r-source",
   "name": "R",
   "pygments_lexer": "r",
   "version": "4.4.2"
  }
 },
 "nbformat": 4,
 "nbformat_minor": 2
}
