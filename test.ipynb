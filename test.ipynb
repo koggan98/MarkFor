{
 "cells": [
  {
   "cell_type": "code",
   "execution_count": 1,
   "metadata": {
    "vscode": {
     "languageId": "r"
    }
   },
   "outputs": [
    {
     "name": "stderr",
     "output_type": "stream",
     "text": [
      "Installiere Pakete nach 'C:/Users/Nutzer/AppData/Local/R/win-library/4.4'\n",
      "(da 'lib' nicht spezifiziert)\n",
      "\n"
     ]
    },
    {
     "name": "stdout",
     "output_type": "stream",
     "text": [
      "Paket 'tidyverse' erfolgreich ausgepackt und MD5 Summen abgeglichen\n",
      "Paket 'lubridate' erfolgreich ausgepackt und MD5 Summen abgeglichen\n"
     ]
    },
    {
     "name": "stderr",
     "output_type": "stream",
     "text": [
      "Warning message:\n",
      "\"kann alte Installation von Paket 'lubridate' nicht entfernen\"\n",
      "Warning message in file.copy(savedcopy, lib, recursive = TRUE):\n",
      "\"Problem C:\\Users\\Nutzer\\AppData\\Local\\R\\win-library\\4.4\\00LOCK\\lubridate\\libs\\x64\\lubridate.dll nach C:\\Users\\Nutzer\\AppData\\Local\\R\\win-library\\4.4\\lubridate\\libs\\x64\\lubridate.dll zu kopieren: Permission denied\"\n",
      "Warning message:\n",
      "\"'lubridate' wiederhergestellt\"\n"
     ]
    },
    {
     "name": "stdout",
     "output_type": "stream",
     "text": [
      "Paket 'skimr' erfolgreich ausgepackt und MD5 Summen abgeglichen\n",
      "Paket 'janitor' erfolgreich ausgepackt und MD5 Summen abgeglichen\n",
      "Paket 'rfm' erfolgreich ausgepackt und MD5 Summen abgeglichen\n",
      "\n",
      "Die heruntergeladenen Binärpakete sind in \n",
      "\tC:\\Users\\Nutzer\\AppData\\Local\\Temp\\RtmpAtazss\\downloaded_packages\n"
     ]
    },
    {
     "name": "stderr",
     "output_type": "stream",
     "text": [
      "Warning message:\n",
      "\"Paket 'tidyverse' wurde unter R Version 4.4.3 erstellt\"\n",
      "Warning message:\n",
      "\"Paket 'tidyr' wurde unter R Version 4.4.3 erstellt\"\n",
      "Warning message:\n",
      "\"Paket 'readr' wurde unter R Version 4.4.3 erstellt\"\n",
      "Warning message:\n",
      "\"Paket 'dplyr' wurde unter R Version 4.4.3 erstellt\"\n",
      "Warning message:\n",
      "\"Paket 'forcats' wurde unter R Version 4.4.3 erstellt\"\n",
      "Warning message:\n",
      "\"Paket 'lubridate' wurde unter R Version 4.4.3 erstellt\"\n",
      "── \u001b[1mAttaching core tidyverse packages\u001b[22m ──────────────────────── tidyverse 2.0.0 ──\n",
      "\u001b[32m✔\u001b[39m \u001b[34mdplyr    \u001b[39m 1.1.4     \u001b[32m✔\u001b[39m \u001b[34mreadr    \u001b[39m 2.1.5\n",
      "\u001b[32m✔\u001b[39m \u001b[34mforcats  \u001b[39m 1.0.0     \u001b[32m✔\u001b[39m \u001b[34mstringr  \u001b[39m 1.5.1\n",
      "\u001b[32m✔\u001b[39m \u001b[34mggplot2  \u001b[39m 3.5.1     \u001b[32m✔\u001b[39m \u001b[34mtibble   \u001b[39m 3.2.1\n",
      "\u001b[32m✔\u001b[39m \u001b[34mlubridate\u001b[39m 1.9.4     \u001b[32m✔\u001b[39m \u001b[34mtidyr    \u001b[39m 1.3.1\n",
      "\u001b[32m✔\u001b[39m \u001b[34mpurrr    \u001b[39m 1.0.4     \n",
      "── \u001b[1mConflicts\u001b[22m ────────────────────────────────────────── tidyverse_conflicts() ──\n",
      "\u001b[31m✖\u001b[39m \u001b[34mdplyr\u001b[39m::\u001b[32mfilter()\u001b[39m masks \u001b[34mstats\u001b[39m::filter()\n",
      "\u001b[31m✖\u001b[39m \u001b[34mdplyr\u001b[39m::\u001b[32mlag()\u001b[39m    masks \u001b[34mstats\u001b[39m::lag()\n",
      "\u001b[36mℹ\u001b[39m Use the conflicted package (\u001b[3m\u001b[34m<http://conflicted.r-lib.org/>\u001b[39m\u001b[23m) to force all conflicts to become errors\n",
      "Warning message:\n",
      "\"Paket 'skimr' wurde unter R Version 4.4.3 erstellt\"\n",
      "Warning message:\n",
      "\"Paket 'janitor' wurde unter R Version 4.4.3 erstellt\"\n",
      "\n",
      "Attache Paket: 'janitor'\n",
      "\n",
      "\n",
      "Die folgenden Objekte sind maskiert von 'package:stats':\n",
      "\n",
      "    chisq.test, fisher.test\n",
      "\n",
      "\n",
      "Warning message:\n",
      "\"Paket 'rfm' wurde unter R Version 4.4.3 erstellt\"\n"
     ]
    }
   ],
   "source": [
    "install.packages(c(\"tidyverse\", \"lubridate\", \"skimr\", \"janitor\", \"rfm\"))\n",
    "\n",
    "# Notwendige Pakete laden\n",
    "library(tidyverse)    # für Datenmanipulation und Visualisierung\n",
    "library(lubridate)    # für Datumsfunktionen\n",
    "library(skimr)        # für schnellen Datenüberblick\n",
    "library(janitor)      # zur Säuberung der Spaltennamen\n",
    "library(knitr)        # für die Erstellung von Tabellen\n",
    "library(rfm)          # für RFM-Analyse\n",
    "library(dplyr)        # für Datenmanipulation\n",
    "library(tidyr)        # für Datenumformung\n",
    "library(purrr)        # für funktionale Programmierung\n"
   ]
  },
  {
   "cell_type": "code",
   "execution_count": null,
   "metadata": {
    "vscode": {
     "languageId": "r"
    }
   },
   "outputs": [
    {
     "ename": "ERROR",
     "evalue": "Error: 'synthetic_beverage_sales_data.csv' does not exist in current working directory ('c:/Users/Nutzer/OneDrive - Hochschule Luzern/Master/3. Semester/TSM_MarkFor/Report/Dateien von Träger Sven TA.MSE_T_H24.2401 - MARKFOR/Code/R_code').\n",
     "output_type": "error",
     "traceback": [
      "Error: 'synthetic_beverage_sales_data.csv' does not exist in current working directory ('c:/Users/Nutzer/OneDrive - Hochschule Luzern/Master/3. Semester/TSM_MarkFor/Report/Dateien von Träger Sven TA.MSE_T_H24.2401 - MARKFOR/Code/R_code').\nTraceback:\n",
      "1. clean_names(.)",
      "2. read_csv(\"synthetic_beverage_sales_data.csv\")",
      "3. vroom::vroom(file, delim = \",\", col_names = col_names, col_types = col_types, \n .     col_select = {\n .         {\n .             col_select\n .         }\n .     }, id = id, .name_repair = name_repair, skip = skip, n_max = n_max, \n .     na = na, quote = quote, comment = comment, skip_empty_rows = skip_empty_rows, \n .     trim_ws = trim_ws, escape_double = TRUE, escape_backslash = FALSE, \n .     locale = locale, guess_max = guess_max, show_col_types = show_col_types, \n .     progress = progress, altrep = lazy, num_threads = num_threads)",
      "4. vroom_(file, delim = delim %||% col_types$delim, col_names = col_names, \n .     col_types = col_types, id = id, skip = skip, col_select = col_select, \n .     name_repair = .name_repair, na = na, quote = quote, trim_ws = trim_ws, \n .     escape_double = escape_double, escape_backslash = escape_backslash, \n .     comment = comment, skip_empty_rows = skip_empty_rows, locale = locale, \n .     guess_max = guess_max, n_max = n_max, altrep = vroom_altrep(altrep), \n .     num_threads = num_threads, progress = progress)",
      "5. (function (path, write = FALSE) \n . {\n .     if (is.raw(path)) {\n .         return(rawConnection(path, \"rb\"))\n .     }\n .     if (!is.character(path)) {\n .         return(path)\n .     }\n .     if (is_url(path)) {\n .         if (requireNamespace(\"curl\", quietly = TRUE)) {\n .             con <- curl::curl(path)\n .         }\n .         else {\n .             inform(\"`curl` package not installed, falling back to using `url()`\")\n .             con <- url(path)\n .         }\n .         ext <- tolower(tools::file_ext(path))\n .         return(switch(ext, zip = , bz2 = , xz = {\n .             close(con)\n .             stop(\"Reading from remote `\", ext, \"` compressed files is not supported,\\n\", \n .                 \"  download the files locally first.\", call. = FALSE)\n .         }, gz = gzcon(con), con))\n .     }\n .     path <- enc2utf8(path)\n .     p <- split_path_ext(basename_utf8(path))\n .     if (write) {\n .         path <- normalizePath_utf8(path, mustWork = FALSE)\n .     }\n .     else {\n .         path <- check_path(path)\n .     }\n .     if (is_installed(\"archive\")) {\n .         formats <- archive_formats(p$extension)\n .         extension <- p$extension\n .         while (is.null(formats) && nzchar(extension)) {\n .             extension <- split_path_ext(extension)$extension\n .             formats <- archive_formats(extension)\n .         }\n .         if (!is.null(formats)) {\n .             p$extension <- extension\n .             if (write) {\n .                 if (is.null(formats[[1]])) {\n .                   return(archive::file_write(path, filter = formats[[2]]))\n .                 }\n .                 return(archive::archive_write(path, p$path, format = formats[[1]], \n .                   filter = formats[[2]]))\n .             }\n .             if (is.null(formats[[1]])) {\n .                 return(archive::file_read(path, filter = formats[[2]]))\n .             }\n .             return(archive::archive_read(path, format = formats[[1]], \n .                 filter = formats[[2]]))\n .         }\n .     }\n .     if (!write) {\n .         compression <- detect_compression(path)\n .     }\n .     else {\n .         compression <- NA\n .     }\n .     if (is.na(compression)) {\n .         compression <- tools::file_ext(path)\n .     }\n .     if (write && compression == \"zip\") {\n .         stop(\"Can only read from, not write to, .zip\", call. = FALSE)\n .     }\n .     switch(compression, gz = gzfile(path, \"\"), bz2 = bzfile(path, \n .         \"\"), xz = xzfile(path, \"\"), zip = zipfile(path, \"\"), \n .         if (!has_trailing_newline(path)) {\n .             file(path)\n .         } else {\n .             path\n .         })\n . })(\"synthetic_beverage_sales_data.csv\")",
      "6. check_path(path)",
      "7. stop(\"'\", path, \"' does not exist\", if (!is_absolute_path(path)) {\n .     paste0(\" in current working directory ('\", getwd(), \"')\")\n . }, \".\", call. = FALSE)",
      "8. .handleSimpleError(function (cnd) \n . {\n .     watcher$capture_plot_and_output()\n .     cnd <- sanitize_call(cnd)\n .     watcher$push(cnd)\n .     switch(on_error, continue = invokeRestart(\"eval_continue\"), \n .         stop = invokeRestart(\"eval_stop\"), error = NULL)\n . }, \"'synthetic_beverage_sales_data.csv' does not exist in current working directory ('c:/Users/Nutzer/OneDrive - Hochschule Luzern/Master/3. Semester/TSM_MarkFor/Report/Dateien von Träger Sven TA.MSE_T_H24.2401 - MARKFOR/Code/R_code').\", \n .     base::quote(NULL))"
     ]
    }
   ],
   "source": [
    "# CSV-Datei einlesen\n",
    "df <- read_csv(\"../synthetic_beverage_sales_data.csv\") %>%\n",
    "  clean_names()"
   ]
  },
  {
   "cell_type": "code",
   "execution_count": 91,
   "metadata": {
    "vscode": {
     "languageId": "r"
    }
   },
   "outputs": [
    {
     "data": {
      "text/html": [
       "<table class=\"dataframe\">\n",
       "<caption>A tibble: 4 × 11</caption>\n",
       "<thead>\n",
       "\t<tr><th scope=col>order_id</th><th scope=col>customer_id</th><th scope=col>customer_type</th><th scope=col>product</th><th scope=col>category</th><th scope=col>unit_price</th><th scope=col>quantity</th><th scope=col>discount</th><th scope=col>total_price</th><th scope=col>region</th><th scope=col>order_date</th></tr>\n",
       "\t<tr><th scope=col>&lt;chr&gt;</th><th scope=col>&lt;chr&gt;</th><th scope=col>&lt;chr&gt;</th><th scope=col>&lt;chr&gt;</th><th scope=col>&lt;chr&gt;</th><th scope=col>&lt;dbl&gt;</th><th scope=col>&lt;dbl&gt;</th><th scope=col>&lt;dbl&gt;</th><th scope=col>&lt;dbl&gt;</th><th scope=col>&lt;chr&gt;</th><th scope=col>&lt;date&gt;</th></tr>\n",
       "</thead>\n",
       "<tbody>\n",
       "\t<tr><td>ORD1</td><td>CUS1496</td><td>B2B</td><td>Vio Wasser        </td><td>Water      </td><td>1.66</td><td>53</td><td>0.10</td><td> 79.18</td><td>Baden-Württemberg</td><td>2023-08-23</td></tr>\n",
       "\t<tr><td>ORD1</td><td>CUS1496</td><td>B2B</td><td>Evian             </td><td>Water      </td><td>1.56</td><td>90</td><td>0.10</td><td>126.36</td><td>Baden-Württemberg</td><td>2023-08-23</td></tr>\n",
       "\t<tr><td>ORD1</td><td>CUS1496</td><td>B2B</td><td>Sprite            </td><td>Soft Drinks</td><td>1.17</td><td>73</td><td>0.05</td><td> 81.14</td><td>Baden-Württemberg</td><td>2023-08-23</td></tr>\n",
       "\t<tr><td>ORD1</td><td>CUS1496</td><td>B2B</td><td>Rauch Multivitamin</td><td>Juices     </td><td>3.22</td><td>59</td><td>0.10</td><td>170.98</td><td>Baden-Württemberg</td><td>2023-08-23</td></tr>\n",
       "</tbody>\n",
       "</table>\n"
      ],
      "text/latex": [
       "A tibble: 4 × 11\n",
       "\\begin{tabular}{lllllllllll}\n",
       " order\\_id & customer\\_id & customer\\_type & product & category & unit\\_price & quantity & discount & total\\_price & region & order\\_date\\\\\n",
       " <chr> & <chr> & <chr> & <chr> & <chr> & <dbl> & <dbl> & <dbl> & <dbl> & <chr> & <date>\\\\\n",
       "\\hline\n",
       "\t ORD1 & CUS1496 & B2B & Vio Wasser         & Water       & 1.66 & 53 & 0.10 &  79.18 & Baden-Württemberg & 2023-08-23\\\\\n",
       "\t ORD1 & CUS1496 & B2B & Evian              & Water       & 1.56 & 90 & 0.10 & 126.36 & Baden-Württemberg & 2023-08-23\\\\\n",
       "\t ORD1 & CUS1496 & B2B & Sprite             & Soft Drinks & 1.17 & 73 & 0.05 &  81.14 & Baden-Württemberg & 2023-08-23\\\\\n",
       "\t ORD1 & CUS1496 & B2B & Rauch Multivitamin & Juices      & 3.22 & 59 & 0.10 & 170.98 & Baden-Württemberg & 2023-08-23\\\\\n",
       "\\end{tabular}\n"
      ],
      "text/markdown": [
       "\n",
       "A tibble: 4 × 11\n",
       "\n",
       "| order_id &lt;chr&gt; | customer_id &lt;chr&gt; | customer_type &lt;chr&gt; | product &lt;chr&gt; | category &lt;chr&gt; | unit_price &lt;dbl&gt; | quantity &lt;dbl&gt; | discount &lt;dbl&gt; | total_price &lt;dbl&gt; | region &lt;chr&gt; | order_date &lt;date&gt; |\n",
       "|---|---|---|---|---|---|---|---|---|---|---|\n",
       "| ORD1 | CUS1496 | B2B | Vio Wasser         | Water       | 1.66 | 53 | 0.10 |  79.18 | Baden-Württemberg | 2023-08-23 |\n",
       "| ORD1 | CUS1496 | B2B | Evian              | Water       | 1.56 | 90 | 0.10 | 126.36 | Baden-Württemberg | 2023-08-23 |\n",
       "| ORD1 | CUS1496 | B2B | Sprite             | Soft Drinks | 1.17 | 73 | 0.05 |  81.14 | Baden-Württemberg | 2023-08-23 |\n",
       "| ORD1 | CUS1496 | B2B | Rauch Multivitamin | Juices      | 3.22 | 59 | 0.10 | 170.98 | Baden-Württemberg | 2023-08-23 |\n",
       "\n"
      ],
      "text/plain": [
       "  order_id customer_id customer_type product            category    unit_price\n",
       "1 ORD1     CUS1496     B2B           Vio Wasser         Water       1.66      \n",
       "2 ORD1     CUS1496     B2B           Evian              Water       1.56      \n",
       "3 ORD1     CUS1496     B2B           Sprite             Soft Drinks 1.17      \n",
       "4 ORD1     CUS1496     B2B           Rauch Multivitamin Juices      3.22      \n",
       "  quantity discount total_price region            order_date\n",
       "1 53       0.10      79.18      Baden-Württemberg 2023-08-23\n",
       "2 90       0.10     126.36      Baden-Württemberg 2023-08-23\n",
       "3 73       0.05      81.14      Baden-Württemberg 2023-08-23\n",
       "4 59       0.10     170.98      Baden-Württemberg 2023-08-23"
      ]
     },
     "metadata": {},
     "output_type": "display_data"
    },
    {
     "name": "stdout",
     "output_type": "stream",
     "text": [
      "Rows: 8,999,910\n",
      "Columns: 11\n",
      "$ order_id      \u001b[3m\u001b[90m<chr>\u001b[39m\u001b[23m \"ORD1\", \"ORD1\", \"ORD1\", \"ORD1\", \"ORD1\", \"ORD2\", \"ORD3\", …\n",
      "$ customer_id   \u001b[3m\u001b[90m<chr>\u001b[39m\u001b[23m \"CUS1496\", \"CUS1496\", \"CUS1496\", \"CUS1496\", \"CUS1496\", \"…\n",
      "$ customer_type \u001b[3m\u001b[90m<chr>\u001b[39m\u001b[23m \"B2B\", \"B2B\", \"B2B\", \"B2B\", \"B2B\", \"B2C\", \"B2B\", \"B2B\", …\n",
      "$ product       \u001b[3m\u001b[90m<chr>\u001b[39m\u001b[23m \"Vio Wasser\", \"Evian\", \"Sprite\", \"Rauch Multivitamin\", \"…\n",
      "$ category      \u001b[3m\u001b[90m<chr>\u001b[39m\u001b[23m \"Water\", \"Water\", \"Soft Drinks\", \"Juices\", \"Water\", \"Alc…\n",
      "$ unit_price    \u001b[3m\u001b[90m<dbl>\u001b[39m\u001b[23m 1.66, 1.56, 1.17, 3.22, 0.87, 9.09, 2.14, 0.43, 1.21, 1.…\n",
      "$ quantity      \u001b[3m\u001b[90m<dbl>\u001b[39m\u001b[23m 53, 90, 73, 59, 35, 2, 44, 13, 92, 3, 11, 8, 16, 3, 43, …\n",
      "$ discount      \u001b[3m\u001b[90m<dbl>\u001b[39m\u001b[23m 0.10, 0.10, 0.05, 0.10, 0.10, 0.00, 0.10, 0.05, 0.10, 0.…\n",
      "$ total_price   \u001b[3m\u001b[90m<dbl>\u001b[39m\u001b[23m 79.18, 126.36, 81.14, 170.98, 27.40, 18.18, 84.74, 5.31,…\n",
      "$ region        \u001b[3m\u001b[90m<chr>\u001b[39m\u001b[23m \"Baden-Württemberg\", \"Baden-Württemberg\", \"Baden-Württem…\n",
      "$ order_date    \u001b[3m\u001b[90m<date>\u001b[39m\u001b[23m 2023-08-23, 2023-08-23, 2023-08-23, 2023-08-23, 2023-08…\n"
     ]
    }
   ],
   "source": [
    "head(df, 4) # print first 4 rows of data frame\n",
    "\n",
    "glimpse(df) # print summary of data frame"
   ]
  },
  {
   "cell_type": "markdown",
   "metadata": {},
   "source": [
    "# Data preperation"
   ]
  },
  {
   "cell_type": "code",
   "execution_count": 92,
   "metadata": {
    "vscode": {
     "languageId": "r"
    }
   },
   "outputs": [
    {
     "data": {
      "text/html": [
       "<style>\n",
       ".dl-inline {width: auto; margin:0; padding: 0}\n",
       ".dl-inline>dt, .dl-inline>dd {float: none; width: auto; display: inline-block}\n",
       ".dl-inline>dt::after {content: \":\\0020\"; padding-right: .5ex}\n",
       ".dl-inline>dt:not(:first-of-type) {padding-left: .5ex}\n",
       "</style><dl class=dl-inline><dt>order_id</dt><dd>0</dd><dt>customer_id</dt><dd>0</dd><dt>customer_type</dt><dd>0</dd><dt>product</dt><dd>0</dd><dt>category</dt><dd>0</dd><dt>unit_price</dt><dd>0</dd><dt>quantity</dt><dd>0</dd><dt>discount</dt><dd>0</dd><dt>total_price</dt><dd>0</dd><dt>region</dt><dd>0</dd><dt>order_date</dt><dd>0</dd></dl>\n"
      ],
      "text/latex": [
       "\\begin{description*}\n",
       "\\item[order\\textbackslash{}\\_id] 0\n",
       "\\item[customer\\textbackslash{}\\_id] 0\n",
       "\\item[customer\\textbackslash{}\\_type] 0\n",
       "\\item[product] 0\n",
       "\\item[category] 0\n",
       "\\item[unit\\textbackslash{}\\_price] 0\n",
       "\\item[quantity] 0\n",
       "\\item[discount] 0\n",
       "\\item[total\\textbackslash{}\\_price] 0\n",
       "\\item[region] 0\n",
       "\\item[order\\textbackslash{}\\_date] 0\n",
       "\\end{description*}\n"
      ],
      "text/markdown": [
       "order_id\n",
       ":   0customer_id\n",
       ":   0customer_type\n",
       ":   0product\n",
       ":   0category\n",
       ":   0unit_price\n",
       ":   0quantity\n",
       ":   0discount\n",
       ":   0total_price\n",
       ":   0region\n",
       ":   0order_date\n",
       ":   0\n",
       "\n"
      ],
      "text/plain": [
       "     order_id   customer_id customer_type       product      category \n",
       "            0             0             0             0             0 \n",
       "   unit_price      quantity      discount   total_price        region \n",
       "            0             0             0             0             0 \n",
       "   order_date \n",
       "            0 "
      ]
     },
     "metadata": {},
     "output_type": "display_data"
    }
   ],
   "source": [
    "df[df == \"\"] <- NA # Ersetze leere Strings (\"\") durch NA\n",
    "colSums(is.na(df)) # Zeigt dir, wie viele NAs pro Spalte vorhanden sind\n"
   ]
  },
  {
   "cell_type": "code",
   "execution_count": 93,
   "metadata": {
    "vscode": {
     "languageId": "r"
    }
   },
   "outputs": [],
   "source": [
    "# Doppelte Einträge prüfen\n",
    "# sum(duplicated(df))\n",
    "# das dauert länger als 30min, deswegen abgebrochen"
   ]
  },
  {
   "cell_type": "code",
   "execution_count": 94,
   "metadata": {
    "vscode": {
     "languageId": "r"
    }
   },
   "outputs": [
    {
     "data": {
      "text/html": [
       "0"
      ],
      "text/latex": [
       "0"
      ],
      "text/markdown": [
       "0"
      ],
      "text/plain": [
       "[1] 0"
      ]
     },
     "metadata": {},
     "output_type": "display_data"
    }
   ],
   "source": [
    "# Count rows with invalid or implausible values in key numeric columns\n",
    "df %>%\n",
    "  filter(\n",
    "    unit_price <= 0 |         # Unit price should be greater than 0\n",
    "    quantity <= 0 |           # Quantity should be greater than 0\n",
    "    discount < 0 | discount > 1 |  # Discount must be between 0 and 1\n",
    "    total_price < 0           # Total price should not be negative\n",
    "  ) %>%\n",
    "  nrow()  # Count the number of rows that meet any of the above conditions\n"
   ]
  },
  {
   "cell_type": "markdown",
   "metadata": {},
   "source": [
    "# Splitting into B2B and B2C"
   ]
  },
  {
   "cell_type": "code",
   "execution_count": null,
   "metadata": {
    "vscode": {
     "languageId": "r"
    }
   },
   "outputs": [],
   "source": [
    "# Aufteilen in B2B und B2C\n",
    "# Hier ist jede Zeile ein Kauf eines Kunden von einem Produkt (Stückzahl egal), der Kunde kann also mehrere Produkte pro Tag gekauft haben, es sind aber alles verschiedene Zeilen\n",
    "# Wir nennen das line-item level, weil es eine Zeile pro Produkt ist\n",
    "\n",
    "df_b2b <- df %>% filter(customer_type == \"B2B\")\n",
    "df_b2c <- df %>% filter(customer_type == \"B2C\")\n",
    "\n",
    "# Aggregate data to one row per order per customer \n",
    "\n",
    "# Für RFM, übergibt nur customer_id, order_date und revenue\n",
    "# For B2B customers\n",
    "rfm_base_b2b <- df_b2b %>%\n",
    "  group_by(customer_id, order_date) %>%                  # Group by customer and order date \n",
    "  summarise(revenue = sum(total_price, na.rm = TRUE),    # Sum total revenue per order (in case multiple products were ordered)\n",
    "  .groups = \"drop\"\n",
    ")\n",
    "# For B2C customers\n",
    "rfm_base_b2c <- df_b2c %>%\n",
    "  group_by(customer_id, order_date) %>%                  # Same logic for B2C customers\n",
    "  summarise(revenue = sum(total_price, na.rm = TRUE),\n",
    "  .groups = \"drop\"\n",
    ")"
   ]
  },
  {
   "cell_type": "code",
   "execution_count": 132,
   "metadata": {
    "vscode": {
     "languageId": "r"
    }
   },
   "outputs": [
    {
     "data": {
      "text/plain": [
       "\n",
       "\n",
       "Table: Summary statistics of B2B orders (aggregated per invoice)\n",
       "\n",
       "|variable    |  count|   mean|      sd|  min|    q25| median|    q75|      max|\n",
       "|:-----------|------:|------:|-------:|----:|------:|------:|------:|--------:|\n",
       "|discount    | 935300|   0.08|    0.02| 0.05|   0.07|   0.08|   0.10|     0.15|\n",
       "|quantity    | 935300| 173.08|  110.04| 1.00|  89.00| 159.00| 237.00|  1166.00|\n",
       "|total_price | 935300| 963.99| 1582.90| 0.30| 161.36| 365.37| 945.58| 23490.22|\n",
       "|unit_price  | 935300|   5.63|    8.55| 0.32|   1.55|   2.30|   6.12|   154.50|"
      ]
     },
     "metadata": {},
     "output_type": "display_data"
    },
    {
     "data": {
      "text/plain": [
       "\n",
       "\n",
       "Table: Summary statistics of B2C orders (aggregated per invoice)\n",
       "\n",
       "|variable    |   count|   mean|     sd|  min|   q25| median|    q75|     max|\n",
       "|:-----------|-------:|------:|------:|----:|-----:|------:|------:|-------:|\n",
       "|discount    | 1689025|   0.00|   0.00| 0.00|  0.00|   0.00|   0.00|    0.00|\n",
       "|quantity    | 1689025|  27.45|  17.22| 1.00| 14.00|  25.00|  38.00|  199.00|\n",
       "|total_price | 1689025| 162.85| 277.79| 0.46| 27.51|  59.74| 142.02| 4067.90|\n",
       "|unit_price  | 1689025|   5.92|   9.94| 0.46|  1.57|   2.24|   4.81|  112.46|"
      ]
     },
     "metadata": {},
     "output_type": "display_data"
    }
   ],
   "source": [
    "# due to multiple products ordered per customer per day we group orders by date and customer to understand the actual order\n",
    "# wir nennen es order-level oder invoice-level, weil es eine Zeile pro Rechnung ist (Tag+Kunde)\n",
    "\n",
    "# 1. Aggregate all numeric values per invoice (per customer & order_date)\n",
    "orders_b2b <- df_b2b %>%\n",
    "  group_by(customer_id, order_date) %>%\n",
    "  summarise(\n",
    "    quantity = sum(quantity, na.rm = TRUE),\n",
    "    discount = mean(discount, na.rm = TRUE),     # average discount per invoice\n",
    "    unit_price     = mean(unit_price, na.rm = TRUE),   # average unit price per invoice\n",
    "    total_price    = sum(total_price, na.rm = TRUE),   # total invoice value\n",
    "    .groups = \"drop\"\n",
    "  )\n",
    "\n",
    "# 2. Turn columns into list for stat calc\n",
    "summary_b2b <- orders_b2b %>%\n",
    "  summarise(\n",
    "    discount        = list(discount),\n",
    "    quantity        = list(quantity),\n",
    "    total_price     = list(total_price),\n",
    "    unit_price      = list(unit_price)\n",
    "  ) %>%\n",
    "  pivot_longer(everything(), names_to = \"variable\", values_to = \"values\") %>%\n",
    "  mutate(\n",
    "    count  = map_int(values, ~length(.x)),\n",
    "    mean   = map_dbl(values, ~mean(.x, na.rm = TRUE)),\n",
    "    sd     = map_dbl(values, ~sd(.x, na.rm = TRUE)),\n",
    "    min    = map_dbl(values, ~min(.x, na.rm = TRUE)),\n",
    "    q25    = map_dbl(values, ~quantile(.x, 0.25, na.rm = TRUE)),\n",
    "    median = map_dbl(values, ~median(.x, na.rm = TRUE)),\n",
    "    q75    = map_dbl(values, ~quantile(.x, 0.75, na.rm = TRUE)),\n",
    "    max    = map_dbl(values, ~max(.x, na.rm = TRUE))\n",
    "  ) %>%\n",
    "  select(variable, count, mean, sd, min, q25, median, q75, max)\n",
    "\n",
    "\n",
    "# analog für b2c\n",
    "orders_b2c <- df_b2c %>%\n",
    "  group_by(customer_id, order_date) %>%\n",
    "  summarise(\n",
    "    quantity = sum(quantity, na.rm = TRUE),\n",
    "    discount = mean(discount, na.rm = TRUE),     # average discount per invoice\n",
    "    unit_price     = mean(unit_price, na.rm = TRUE),   # average unit price per invoice\n",
    "    total_price    = sum(total_price, na.rm = TRUE),   # total invoice value\n",
    "    .groups = \"drop\"\n",
    "  )\n",
    "\n",
    "# 2. Turn columns into list for stat calc\n",
    "summary_b2c <- orders_b2c %>%\n",
    "  summarise(\n",
    "    discount        = list(discount),\n",
    "    quantity        = list(quantity),\n",
    "    total_price     = list(total_price),\n",
    "    unit_price      = list(unit_price)\n",
    "  ) %>%\n",
    "  pivot_longer(everything(), names_to = \"variable\", values_to = \"values\") %>%\n",
    "  mutate(\n",
    "    count  = map_int(values, ~length(.x)),\n",
    "    mean   = map_dbl(values, ~mean(.x, na.rm = TRUE)),\n",
    "    sd     = map_dbl(values, ~sd(.x, na.rm = TRUE)),\n",
    "    min    = map_dbl(values, ~min(.x, na.rm = TRUE)),\n",
    "    q25    = map_dbl(values, ~quantile(.x, 0.25, na.rm = TRUE)),\n",
    "    median = map_dbl(values, ~median(.x, na.rm = TRUE)),\n",
    "    q75    = map_dbl(values, ~quantile(.x, 0.75, na.rm = TRUE)),\n",
    "    max    = map_dbl(values, ~max(.x, na.rm = TRUE))\n",
    "  ) %>%\n",
    "  select(variable, count, mean, sd, min, q25, median, q75, max)\n",
    "\n",
    "\n",
    "# 3. Show result as table\n",
    "kable(summary_b2b, caption = \"Summary statistics of B2B orders (aggregated per invoice)\", digits = 2)\n",
    "kable(summary_b2c, caption = \"Summary statistics of B2C orders (aggregated per invoice)\", digits = 2)"
   ]
  },
  {
   "cell_type": "code",
   "execution_count": 131,
   "metadata": {
    "vscode": {
     "languageId": "r"
    }
   },
   "outputs": [
    {
     "data": {
      "text/plain": [
       "\n",
       "\n",
       "Table: Product-wise summary statistics of b2b numeric variables\n",
       "\n",
       "|variable    |   count|   mean|     sd|  min|   q25| median|    q75|      max|\n",
       "|:-----------|-------:|------:|------:|----:|-----:|------:|------:|--------:|\n",
       "|discount    | 3204505|   0.08|   0.03| 0.05|  0.05|   0.10|   0.10|     0.15|\n",
       "|quantity    | 3204505|  50.52|  28.87| 1.00| 26.00|  51.00|  76.00|   100.00|\n",
       "|total_price | 3204505| 281.36| 810.75| 0.30| 31.35|  77.20| 167.58| 14295.30|\n",
       "|unit_price  | 3204505|   5.63|  13.21| 0.32|  1.03|   1.81|   3.04|   169.53|"
      ]
     },
     "metadata": {},
     "output_type": "display_data"
    },
    {
     "data": {
      "text/plain": [
       "\n",
       "\n",
       "Table: Product-wise summary statistics of b2c numeric variables\n",
       "\n",
       "|variable    |   count|  mean|     sd|  min|  q25| median|   q75|     max|\n",
       "|:-----------|-------:|-----:|------:|----:|----:|------:|-----:|-------:|\n",
       "|discount    | 5795405|  0.00|   0.00| 0.00| 0.00|   0.00|  0.00|    0.00|\n",
       "|quantity    | 5795405|  8.00|   4.32| 1.00| 4.00|   8.00| 12.00|   15.00|\n",
       "|total_price | 5795405| 47.46| 143.17| 0.46| 6.20|  13.02| 26.28| 1686.90|\n",
       "|unit_price  | 5795405|  5.92|  15.46| 0.46| 1.07|   1.75|  3.21|  112.46|"
      ]
     },
     "metadata": {},
     "output_type": "display_data"
    }
   ],
   "source": [
    "# Das ist die Statistik über alle Zeilen (also Produktkäufe), nicht nur über die aggregierten Rechnungen\n",
    "# also line-item level\n",
    "\n",
    "# Deskriptive Statistik für B2B\n",
    "summary_b2b <- df_b2b %>%\n",
    "  summarise(\n",
    "    discount        = list(discount),\n",
    "    quantity        = list(quantity),\n",
    "    total_price     = list(total_price),\n",
    "    unit_price      = list(unit_price)\n",
    "  ) %>%\n",
    "  pivot_longer(everything(), names_to = \"variable\", values_to = \"values\") %>%\n",
    "  mutate(\n",
    "    count  = map_int(values, ~length(.x)),\n",
    "    mean   = map_dbl(values, ~mean(.x, na.rm = TRUE)),\n",
    "    sd     = map_dbl(values, ~sd(.x, na.rm = TRUE)),\n",
    "    min    = map_dbl(values, ~min(.x, na.rm = TRUE)),\n",
    "    q25    = map_dbl(values, ~quantile(.x, 0.25, na.rm = TRUE)),\n",
    "    median = map_dbl(values, ~median(.x, na.rm = TRUE)),\n",
    "    q75    = map_dbl(values, ~quantile(.x, 0.75, na.rm = TRUE)),\n",
    "    max    = map_dbl(values, ~max(.x, na.rm = TRUE))\n",
    "  ) %>%\n",
    "  select(variable, count, mean, sd, min, q25, median, q75, max)\n",
    "\n",
    "# Ausgabe\n",
    "kable(summary_b2b, caption = \"Product-wise summary statistics of b2b numeric variables\", digits = 2)\n",
    "\n",
    "# Deskriptive Statistik für B2C\n",
    "summary_b2c <- df_b2c %>%\n",
    "  summarise(\n",
    "    discount        = list(discount),\n",
    "    quantity        = list(quantity),\n",
    "    total_price     = list(total_price),\n",
    "    unit_price      = list(unit_price)\n",
    "  ) %>%\n",
    "  pivot_longer(everything(), names_to = \"variable\", values_to = \"values\") %>%\n",
    "  mutate(\n",
    "    count  = map_int(values, ~length(.x)),\n",
    "    mean   = map_dbl(values, ~mean(.x, na.rm = TRUE)),\n",
    "    sd     = map_dbl(values, ~sd(.x, na.rm = TRUE)),\n",
    "    min    = map_dbl(values, ~min(.x, na.rm = TRUE)),\n",
    "    q25    = map_dbl(values, ~quantile(.x, 0.25, na.rm = TRUE)),\n",
    "    median = map_dbl(values, ~median(.x, na.rm = TRUE)),\n",
    "    q75    = map_dbl(values, ~quantile(.x, 0.75, na.rm = TRUE)),\n",
    "    max    = map_dbl(values, ~max(.x, na.rm = TRUE))\n",
    "  ) %>%\n",
    "  select(variable, count, mean, sd, min, q25, median, q75, max)\n",
    "\n",
    "# Ausgabe\n",
    "kable(summary_b2c, caption = \"Product-wise summary statistics of b2c numeric variables\", digits = 2)\n"
   ]
  },
  {
   "cell_type": "markdown",
   "metadata": {},
   "source": [
    "AB HIER WEITERMACHEN!!"
   ]
  },
  {
   "cell_type": "code",
   "execution_count": 123,
   "metadata": {
    "vscode": {
     "languageId": "r"
    }
   },
   "outputs": [],
   "source": [
    "analysis_date <- as.Date(\"2023-12-31\")  # beliebig wählbar\n",
    "\n",
    "rfm_result_b2b <- rfm_table_order(\n",
    "  data = rfm_base_b2b,\n",
    "  customer_id = customer_id,\n",
    "  order_date = order_date,\n",
    "  revenue = revenue,\n",
    "  analysis_date = analysis_date\n",
    ")\n",
    "\n",
    "rfm_result_b2c <- rfm_table_order(\n",
    "  data = rfm_base_b2c,\n",
    "  customer_id = customer_id,\n",
    "  order_date = order_date,\n",
    "  revenue = revenue,\n",
    "  analysis_date = analysis_date\n",
    ")\n"
   ]
  },
  {
   "cell_type": "code",
   "execution_count": 125,
   "metadata": {
    "vscode": {
     "languageId": "r"
    }
   },
   "outputs": [],
   "source": [
    "# Beispiel für B2C – analog für B2B möglich\n",
    "rfm_segmented_b2c <- rfm_result_b2c$rfm %>%\n",
    "  mutate(\n",
    "    segment = case_when(\n",
    "      recency_score >= 4 & frequency_score >= 4 & monetary_score >= 4 ~ \"Champions\",\n",
    "      recency_score >= 2 & frequency_score >= 3 & monetary_score >= 3 ~ \"Loyal Customers\",\n",
    "      recency_score >= 3 & frequency_score >= 1 & frequency_score <= 3 & monetary_score <= 3 ~ \"Potential Loyalist\",\n",
    "      recency_score >= 4 & frequency_score <= 1 & monetary_score <= 1 ~ \"New Customers\",\n",
    "      recency_score >= 3 & recency_score <= 4 & frequency_score <= 1 & monetary_score <= 1 ~ \"Promising\",\n",
    "      recency_score >= 2 & recency_score <= 3 & frequency_score >= 2 & frequency_score <= 3 & monetary_score >= 2 & monetary_score <= 3 ~ \"Need Attention\",\n",
    "      recency_score >= 2 & recency_score <= 3 & frequency_score <= 2 & monetary_score <= 2 ~ \"About To Sleep\",\n",
    "      recency_score <= 2 & frequency_score >= 2 & monetary_score >= 2 ~ \"At Risk\",\n",
    "      recency_score <= 1 & frequency_score >= 4 & monetary_score >= 4 ~ \"Can’t Lose Them\",\n",
    "      recency_score >= 1 & recency_score <= 2 & frequency_score >= 1 & frequency_score <= 2 & monetary_score >= 1 & monetary_score <= 2 ~ \"Hibernating\",\n",
    "      recency_score <= 2 & frequency_score <= 2 & monetary_score <= 2 ~ \"Lost\",\n",
    "      TRUE ~ \"Uncategorized\"\n",
    "    )\n",
    "  )\n"
   ]
  },
  {
   "cell_type": "code",
   "execution_count": 126,
   "metadata": {
    "vscode": {
     "languageId": "r"
    }
   },
   "outputs": [
    {
     "data": {
      "text/plain": [
       "\n",
       "\n",
       "Table: Analyse der RFM-Segmente – B2C (vollständig)\n",
       "\n",
       "|segment            | no_customers| avg_amount| avg_transactions| avg_recency_days| total_customers| percentage|\n",
       "|:------------------|------------:|----------:|----------------:|----------------:|---------------:|----------:|\n",
       "|Champions          |          652|   48376.31|           277.98|              1.4|            6437|       10.1|\n",
       "|Loyal Customers    |         1589|   45834.36|           271.18|              3.3|            6437|       24.7|\n",
       "|Potential Loyalist |         1646|   38665.34|           251.68|              2.2|            6437|       25.6|\n",
       "|New Customers      |            0|       0.00|             0.00|              0.0|            6437|        0.0|\n",
       "|Promising          |            0|       0.00|             0.00|              0.0|            6437|        0.0|\n",
       "|Need Attention     |          127|   40608.60|           258.06|              5.4|            6437|        2.0|\n",
       "|About To Sleep     |          187|   36348.92|           245.88|              5.5|            6437|        2.9|\n",
       "|At Risk            |          844|   44800.99|           267.18|              9.4|            6437|       13.1|\n",
       "|Can’t Lose Them    |            0|       0.00|             0.00|              0.0|            6437|        0.0|\n",
       "|Hibernating        |          257|   36537.57|           244.69|             10.5|            6437|        4.0|\n",
       "|Lost               |            0|       0.00|             0.00|              0.0|            6437|        0.0|\n",
       "|Uncategorized      |         1135|   42193.40|           260.33|              3.9|            6437|       17.6|"
      ]
     },
     "metadata": {},
     "output_type": "display_data"
    }
   ],
   "source": [
    "total_customers <- nrow(rfm_segmented_b2c)\n",
    "\n",
    "all_segments <- c(\n",
    "  \"Champions\", \"Loyal Customers\", \"Potential Loyalist\", \"New Customers\",\n",
    "  \"Promising\", \"Need Attention\", \"About To Sleep\", \"At Risk\",\n",
    "  \"Can’t Lose Them\", \"Hibernating\", \"Lost\", \"Uncategorized\"\n",
    ")\n",
    "\n",
    "segment_analysis_b2c <- rfm_segmented_b2c %>%\n",
    "  group_by(segment) %>%\n",
    "  summarise(\n",
    "    no_customers = n(),\n",
    "    avg_amount = round(mean(amount, na.rm = TRUE), 2),\n",
    "    avg_transactions = round(mean(transaction_count, na.rm = TRUE), 2),\n",
    "    avg_recency_days = round(mean(recency_days, na.rm = TRUE), 1),\n",
    "    .groups = \"drop\"\n",
    "  ) %>%\n",
    "  mutate(\n",
    "    total_customers = total_customers,\n",
    "    percentage = round(100 * no_customers / total_customers, 1)\n",
    "  ) %>%\n",
    "  right_join(tibble(segment = all_segments), by = \"segment\") %>%\n",
    "  replace_na(list(\n",
    "    no_customers = 0, avg_amount = 0, avg_transactions = 0,\n",
    "    avg_recency_days = 0, percentage = 0, total_customers = total_customers\n",
    "  )) %>%\n",
    "  arrange(factor(segment, levels = all_segments))\n",
    "\n",
    "kable(segment_analysis_b2c, caption = \"Analyse der RFM-Segmente – B2C (vollständig)\")\n"
   ]
  },
  {
   "cell_type": "code",
   "execution_count": 102,
   "metadata": {
    "vscode": {
     "languageId": "r"
    }
   },
   "outputs": [
    {
     "data": {
      "image/png": "[encoded data removed]",
      "text/plain": [
       "plot without title"
      ]
     },
     "metadata": {
      "image/png": {
       "height": 420,
       "width": 420
      }
     },
     "output_type": "display_data"
    },
    {
     "data": {
      "image/png": "[encoded data removed]",
      "text/plain": [
       "plot without title"
      ]
     },
     "metadata": {
      "image/png": {
       "height": 420,
       "width": 420
      }
     },
     "output_type": "display_data"
    },
    {
     "data": {
      "image/png": "[encoded data removed]",
      "text/plain": [
       "plot without title"
      ]
     },
     "metadata": {
      "image/png": {
       "height": 420,
       "width": 420
      }
     },
     "output_type": "display_data"
    },
    {
     "data": {
      "image/png": "[encoded data removed]",
      "text/plain": [
       "plot without title"
      ]
     },
     "metadata": {
      "image/png": {
       "height": 420,
       "width": 420
      }
     },
     "output_type": "display_data"
    },
    {
     "data": {
      "image/png": "[encoded data removed]",
      "text/plain": [
       "plot without title"
      ]
     },
     "metadata": {
      "image/png": {
       "height": 420,
       "width": 420
      }
     },
     "output_type": "display_data"
    },
    {
     "ename": "ERROR",
     "evalue": "Error in rfm_plot_scatter(rfm_result_b2c): konnte Funktion \"rfm_plot_scatter\" nicht finden\n",
     "output_type": "error",
     "traceback": [
      "Error in rfm_plot_scatter(rfm_result_b2c): konnte Funktion \"rfm_plot_scatter\" nicht finden\nTraceback:\n"
     ]
    },
    {
     "data": {
      "image/png": "[encoded data removed]",
      "text/plain": [
       "plot without title"
      ]
     },
     "metadata": {
      "image/png": {
       "height": 420,
       "width": 420
      }
     },
     "output_type": "display_data"
    }
   ],
   "source": [
    "# Verteilungen & Heatmaps\n",
    "rfm_plot_bar_chart(rfm_result_b2c)\n",
    "rfm_plot_histogram(rfm_result_b2c, metric = \"frequency\")\n",
    "rfm_plot_histogram(rfm_result_b2c, metric = \"recency\")\n",
    "rfm_plot_histogram(rfm_result_b2c, metric = \"monetary\")\n",
    "rfm_plot_order_dist(rfm_result_b2c)\n",
    "rfm_plot_heatmap(rfm_result_b2c)\n",
    "rfm_plot_scatter(rfm_result_b2c)\n"
   ]
  }
 ],
 "metadata": {
  "kernelspec": {
   "display_name": "R",
   "language": "R",
   "name": "ir"
  },
  "language_info": {
   "codemirror_mode": "r",
   "file_extension": ".r",
   "mimetype": "text/x-r-source",
   "name": "R",
   "pygments_lexer": "r",
   "version": "4.4.2"
  }
 },
 "nbformat": 4,
 "nbformat_minor": 2
}
