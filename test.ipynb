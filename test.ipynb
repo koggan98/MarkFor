{
 "cells": [
  {
   "cell_type": "markdown",
   "metadata": {},
   "source": [
    "### Loading packages"
   ]
  },
  {
   "cell_type": "code",
   "execution_count": 1,
   "metadata": {
    "vscode": {
     "languageId": "r"
    }
   },
   "outputs": [
    {
     "name": "stderr",
     "output_type": "stream",
     "text": [
      "Installiere Pakete nach 'C:/Users/Nutzer/AppData/Local/R/win-library/4.4'\n",
      "(da 'lib' nicht spezifiziert)\n",
      "\n"
     ]
    },
    {
     "name": "stdout",
     "output_type": "stream",
     "text": [
      "Paket 'tidyverse' erfolgreich ausgepackt und MD5 Summen abgeglichen\n",
      "Paket 'lubridate' erfolgreich ausgepackt und MD5 Summen abgeglichen\n"
     ]
    },
    {
     "name": "stderr",
     "output_type": "stream",
     "text": [
      "Warning message:\n",
      "\"kann alte Installation von Paket 'lubridate' nicht entfernen\"\n",
      "Warning message in file.copy(savedcopy, lib, recursive = TRUE):\n",
      "\"Problem C:\\Users\\Nutzer\\AppData\\Local\\R\\win-library\\4.4\\00LOCK\\lubridate\\libs\\x64\\lubridate.dll nach C:\\Users\\Nutzer\\AppData\\Local\\R\\win-library\\4.4\\lubridate\\libs\\x64\\lubridate.dll zu kopieren: Permission denied\"\n",
      "Warning message:\n",
      "\"'lubridate' wiederhergestellt\"\n"
     ]
    },
    {
     "name": "stdout",
     "output_type": "stream",
     "text": [
      "Paket 'skimr' erfolgreich ausgepackt und MD5 Summen abgeglichen\n",
      "Paket 'janitor' erfolgreich ausgepackt und MD5 Summen abgeglichen\n",
      "Paket 'rfm' erfolgreich ausgepackt und MD5 Summen abgeglichen\n",
      "\n",
      "Die heruntergeladenen Binärpakete sind in \n",
      "\tC:\\Users\\Nutzer\\AppData\\Local\\Temp\\RtmpE95stv\\downloaded_packages\n"
     ]
    },
    {
     "name": "stderr",
     "output_type": "stream",
     "text": [
      "Warning message:\n",
      "\"Paket 'tidyverse' wurde unter R Version 4.4.3 erstellt\"\n",
      "Warning message:\n",
      "\"Paket 'tidyr' wurde unter R Version 4.4.3 erstellt\"\n",
      "Warning message:\n",
      "\"Paket 'readr' wurde unter R Version 4.4.3 erstellt\"\n",
      "Warning message:\n",
      "\"Paket 'dplyr' wurde unter R Version 4.4.3 erstellt\"\n",
      "Warning message:\n",
      "\"Paket 'forcats' wurde unter R Version 4.4.3 erstellt\"\n",
      "Warning message:\n",
      "\"Paket 'lubridate' wurde unter R Version 4.4.3 erstellt\"\n",
      "── \u001b[1mAttaching core tidyverse packages\u001b[22m ──────────────────────── tidyverse 2.0.0 ──\n",
      "\u001b[32m✔\u001b[39m \u001b[34mdplyr    \u001b[39m 1.1.4     \u001b[32m✔\u001b[39m \u001b[34mreadr    \u001b[39m 2.1.5\n",
      "\u001b[32m✔\u001b[39m \u001b[34mforcats  \u001b[39m 1.0.0     \u001b[32m✔\u001b[39m \u001b[34mstringr  \u001b[39m 1.5.1\n",
      "\u001b[32m✔\u001b[39m \u001b[34mggplot2  \u001b[39m 3.5.1     \u001b[32m✔\u001b[39m \u001b[34mtibble   \u001b[39m 3.2.1\n",
      "\u001b[32m✔\u001b[39m \u001b[34mlubridate\u001b[39m 1.9.4     \u001b[32m✔\u001b[39m \u001b[34mtidyr    \u001b[39m 1.3.1\n",
      "\u001b[32m✔\u001b[39m \u001b[34mpurrr    \u001b[39m 1.0.4     \n",
      "── \u001b[1mConflicts\u001b[22m ────────────────────────────────────────── tidyverse_conflicts() ──\n",
      "\u001b[31m✖\u001b[39m \u001b[34mdplyr\u001b[39m::\u001b[32mfilter()\u001b[39m masks \u001b[34mstats\u001b[39m::filter()\n",
      "\u001b[31m✖\u001b[39m \u001b[34mdplyr\u001b[39m::\u001b[32mlag()\u001b[39m    masks \u001b[34mstats\u001b[39m::lag()\n",
      "\u001b[36mℹ\u001b[39m Use the conflicted package (\u001b[3m\u001b[34m<http://conflicted.r-lib.org/>\u001b[39m\u001b[23m) to force all conflicts to become errors\n",
      "Warning message:\n",
      "\"Paket 'skimr' wurde unter R Version 4.4.3 erstellt\"\n",
      "Warning message:\n",
      "\"Paket 'janitor' wurde unter R Version 4.4.3 erstellt\"\n",
      "\n",
      "Attache Paket: 'janitor'\n",
      "\n",
      "\n",
      "Die folgenden Objekte sind maskiert von 'package:stats':\n",
      "\n",
      "    chisq.test, fisher.test\n",
      "\n",
      "\n",
      "Warning message:\n",
      "\"Paket 'rfm' wurde unter R Version 4.4.3 erstellt\"\n"
     ]
    }
   ],
   "source": [
    "install.packages(c(\"tidyverse\", \"lubridate\", \"skimr\", \"janitor\", \"rfm\"))\n",
    "\n",
    "# Notwendige Pakete laden\n",
    "library(tidyverse)    # für Datenmanipulation und Visualisierung\n",
    "library(lubridate)    # für Datumsfunktionen\n",
    "library(skimr)        # für schnellen Datenüberblick\n",
    "library(janitor)      # zur Säuberung der Spaltennamen\n",
    "library(knitr)        # für die Erstellung von Tabellen\n",
    "library(rfm)          # für RFM-Analyse\n",
    "library(dplyr)        # für Datenmanipulation\n",
    "library(tidyr)        # für Datenumformung\n",
    "library(purrr)        # für funktionale Programmierung\n"
   ]
  },
  {
   "cell_type": "code",
   "execution_count": 2,
   "metadata": {
    "vscode": {
     "languageId": "r"
    }
   },
   "outputs": [
    {
     "name": "stderr",
     "output_type": "stream",
     "text": [
      "\u001b[1mRows: \u001b[22m\u001b[34m8999910\u001b[39m \u001b[1mColumns: \u001b[22m\u001b[34m11\u001b[39m\n",
      "\u001b[36m──\u001b[39m \u001b[1mColumn specification\u001b[22m \u001b[36m────────────────────────────────────────────────────────\u001b[39m\n",
      "\u001b[1mDelimiter:\u001b[22m \",\"\n",
      "\u001b[31mchr\u001b[39m  (6): Order_ID, Customer_ID, Customer_Type, Product, Category, Region\n",
      "\u001b[32mdbl\u001b[39m  (4): Unit_Price, Quantity, Discount, Total_Price\n",
      "\u001b[34mdate\u001b[39m (1): Order_Date\n",
      "\n",
      "\u001b[36mℹ\u001b[39m Use `spec()` to retrieve the full column specification for this data.\n",
      "\u001b[36mℹ\u001b[39m Specify the column types or set `show_col_types = FALSE` to quiet this message.\n"
     ]
    }
   ],
   "source": [
    "# CSV-Datei einlesen\n",
    "df <- read_csv(\"../synthetic_beverage_sales_data.csv\") %>%\n",
    "  clean_names()"
   ]
  },
  {
   "cell_type": "code",
   "execution_count": null,
   "metadata": {
    "vscode": {
     "languageId": "r"
    }
   },
   "outputs": [
    {
     "data": {
      "text/html": [
       "<table class=\"dataframe\">\n",
       "<caption>A tibble: 4 × 11</caption>\n",
       "<thead>\n",
       "\t<tr><th scope=col>order_id</th><th scope=col>customer_id</th><th scope=col>customer_type</th><th scope=col>product</th><th scope=col>category</th><th scope=col>unit_price</th><th scope=col>quantity</th><th scope=col>discount</th><th scope=col>total_price</th><th scope=col>region</th><th scope=col>order_date</th></tr>\n",
       "\t<tr><th scope=col>&lt;chr&gt;</th><th scope=col>&lt;chr&gt;</th><th scope=col>&lt;chr&gt;</th><th scope=col>&lt;chr&gt;</th><th scope=col>&lt;chr&gt;</th><th scope=col>&lt;dbl&gt;</th><th scope=col>&lt;dbl&gt;</th><th scope=col>&lt;dbl&gt;</th><th scope=col>&lt;dbl&gt;</th><th scope=col>&lt;chr&gt;</th><th scope=col>&lt;date&gt;</th></tr>\n",
       "</thead>\n",
       "<tbody>\n",
       "\t<tr><td>ORD1</td><td>CUS1496</td><td>B2B</td><td>Vio Wasser        </td><td>Water      </td><td>1.66</td><td>53</td><td>0.10</td><td> 79.18</td><td>Baden-Württemberg</td><td>2023-08-23</td></tr>\n",
       "\t<tr><td>ORD1</td><td>CUS1496</td><td>B2B</td><td>Evian             </td><td>Water      </td><td>1.56</td><td>90</td><td>0.10</td><td>126.36</td><td>Baden-Württemberg</td><td>2023-08-23</td></tr>\n",
       "\t<tr><td>ORD1</td><td>CUS1496</td><td>B2B</td><td>Sprite            </td><td>Soft Drinks</td><td>1.17</td><td>73</td><td>0.05</td><td> 81.14</td><td>Baden-Württemberg</td><td>2023-08-23</td></tr>\n",
       "\t<tr><td>ORD1</td><td>CUS1496</td><td>B2B</td><td>Rauch Multivitamin</td><td>Juices     </td><td>3.22</td><td>59</td><td>0.10</td><td>170.98</td><td>Baden-Württemberg</td><td>2023-08-23</td></tr>\n",
       "</tbody>\n",
       "</table>\n"
      ],
      "text/latex": [
       "A tibble: 4 × 11\n",
       "\\begin{tabular}{lllllllllll}\n",
       " order\\_id & customer\\_id & customer\\_type & product & category & unit\\_price & quantity & discount & total\\_price & region & order\\_date\\\\\n",
       " <chr> & <chr> & <chr> & <chr> & <chr> & <dbl> & <dbl> & <dbl> & <dbl> & <chr> & <date>\\\\\n",
       "\\hline\n",
       "\t ORD1 & CUS1496 & B2B & Vio Wasser         & Water       & 1.66 & 53 & 0.10 &  79.18 & Baden-Württemberg & 2023-08-23\\\\\n",
       "\t ORD1 & CUS1496 & B2B & Evian              & Water       & 1.56 & 90 & 0.10 & 126.36 & Baden-Württemberg & 2023-08-23\\\\\n",
       "\t ORD1 & CUS1496 & B2B & Sprite             & Soft Drinks & 1.17 & 73 & 0.05 &  81.14 & Baden-Württemberg & 2023-08-23\\\\\n",
       "\t ORD1 & CUS1496 & B2B & Rauch Multivitamin & Juices      & 3.22 & 59 & 0.10 & 170.98 & Baden-Württemberg & 2023-08-23\\\\\n",
       "\\end{tabular}\n"
      ],
      "text/markdown": [
       "\n",
       "A tibble: 4 × 11\n",
       "\n",
       "| order_id &lt;chr&gt; | customer_id &lt;chr&gt; | customer_type &lt;chr&gt; | product &lt;chr&gt; | category &lt;chr&gt; | unit_price &lt;dbl&gt; | quantity &lt;dbl&gt; | discount &lt;dbl&gt; | total_price &lt;dbl&gt; | region &lt;chr&gt; | order_date &lt;date&gt; |\n",
       "|---|---|---|---|---|---|---|---|---|---|---|\n",
       "| ORD1 | CUS1496 | B2B | Vio Wasser         | Water       | 1.66 | 53 | 0.10 |  79.18 | Baden-Württemberg | 2023-08-23 |\n",
       "| ORD1 | CUS1496 | B2B | Evian              | Water       | 1.56 | 90 | 0.10 | 126.36 | Baden-Württemberg | 2023-08-23 |\n",
       "| ORD1 | CUS1496 | B2B | Sprite             | Soft Drinks | 1.17 | 73 | 0.05 |  81.14 | Baden-Württemberg | 2023-08-23 |\n",
       "| ORD1 | CUS1496 | B2B | Rauch Multivitamin | Juices      | 3.22 | 59 | 0.10 | 170.98 | Baden-Württemberg | 2023-08-23 |\n",
       "\n"
      ],
      "text/plain": [
       "  order_id customer_id customer_type product            category    unit_price\n",
       "1 ORD1     CUS1496     B2B           Vio Wasser         Water       1.66      \n",
       "2 ORD1     CUS1496     B2B           Evian              Water       1.56      \n",
       "3 ORD1     CUS1496     B2B           Sprite             Soft Drinks 1.17      \n",
       "4 ORD1     CUS1496     B2B           Rauch Multivitamin Juices      3.22      \n",
       "  quantity discount total_price region            order_date\n",
       "1 53       0.10      79.18      Baden-Württemberg 2023-08-23\n",
       "2 90       0.10     126.36      Baden-Württemberg 2023-08-23\n",
       "3 73       0.05      81.14      Baden-Württemberg 2023-08-23\n",
       "4 59       0.10     170.98      Baden-Württemberg 2023-08-23"
      ]
     },
     "metadata": {},
     "output_type": "display_data"
    },
    {
     "name": "stdout",
     "output_type": "stream",
     "text": [
      "Rows: 8,999,910\n",
      "Columns: 11\n",
      "$ order_id      \u001b[3m\u001b[90m<chr>\u001b[39m\u001b[23m \"ORD1\", \"ORD1\", \"ORD1\", \"ORD1\", \"ORD1\", \"ORD2\", \"ORD3\", …\n",
      "$ customer_id   \u001b[3m\u001b[90m<chr>\u001b[39m\u001b[23m \"CUS1496\", \"CUS1496\", \"CUS1496\", \"CUS1496\", \"CUS1496\", \"…\n",
      "$ customer_type \u001b[3m\u001b[90m<chr>\u001b[39m\u001b[23m \"B2B\", \"B2B\", \"B2B\", \"B2B\", \"B2B\", \"B2C\", \"B2B\", \"B2B\", …\n",
      "$ product       \u001b[3m\u001b[90m<chr>\u001b[39m\u001b[23m \"Vio Wasser\", \"Evian\", \"Sprite\", \"Rauch Multivitamin\", \"…\n",
      "$ category      \u001b[3m\u001b[90m<chr>\u001b[39m\u001b[23m \"Water\", \"Water\", \"Soft Drinks\", \"Juices\", \"Water\", \"Alc…\n",
      "$ unit_price    \u001b[3m\u001b[90m<dbl>\u001b[39m\u001b[23m 1.66, 1.56, 1.17, 3.22, 0.87, 9.09, 2.14, 0.43, 1.21, 1.…\n",
      "$ quantity      \u001b[3m\u001b[90m<dbl>\u001b[39m\u001b[23m 53, 90, 73, 59, 35, 2, 44, 13, 92, 3, 11, 8, 16, 3, 43, …\n",
      "$ discount      \u001b[3m\u001b[90m<dbl>\u001b[39m\u001b[23m 0.10, 0.10, 0.05, 0.10, 0.10, 0.00, 0.10, 0.05, 0.10, 0.…\n",
      "$ total_price   \u001b[3m\u001b[90m<dbl>\u001b[39m\u001b[23m 79.18, 126.36, 81.14, 170.98, 27.40, 18.18, 84.74, 5.31,…\n",
      "$ region        \u001b[3m\u001b[90m<chr>\u001b[39m\u001b[23m \"Baden-Württemberg\", \"Baden-Württemberg\", \"Baden-Württem…\n",
      "$ order_date    \u001b[3m\u001b[90m<date>\u001b[39m\u001b[23m 2023-08-23, 2023-08-23, 2023-08-23, 2023-08-23, 2023-08…\n"
     ]
    }
   ],
   "source": [
    "head(df, 4) # print first 4 rows of data frame\n",
    "glimpse(df) # print summary of data frame"
   ]
  },
  {
   "cell_type": "markdown",
   "metadata": {},
   "source": [
    "# Data preperation"
   ]
  },
  {
   "cell_type": "code",
   "execution_count": 4,
   "metadata": {
    "vscode": {
     "languageId": "r"
    }
   },
   "outputs": [
    {
     "data": {
      "text/html": [
       "<style>\n",
       ".dl-inline {width: auto; margin:0; padding: 0}\n",
       ".dl-inline>dt, .dl-inline>dd {float: none; width: auto; display: inline-block}\n",
       ".dl-inline>dt::after {content: \":\\0020\"; padding-right: .5ex}\n",
       ".dl-inline>dt:not(:first-of-type) {padding-left: .5ex}\n",
       "</style><dl class=dl-inline><dt>order_id</dt><dd>0</dd><dt>customer_id</dt><dd>0</dd><dt>customer_type</dt><dd>0</dd><dt>product</dt><dd>0</dd><dt>category</dt><dd>0</dd><dt>unit_price</dt><dd>0</dd><dt>quantity</dt><dd>0</dd><dt>discount</dt><dd>0</dd><dt>total_price</dt><dd>0</dd><dt>region</dt><dd>0</dd><dt>order_date</dt><dd>0</dd></dl>\n"
      ],
      "text/latex": [
       "\\begin{description*}\n",
       "\\item[order\\textbackslash{}\\_id] 0\n",
       "\\item[customer\\textbackslash{}\\_id] 0\n",
       "\\item[customer\\textbackslash{}\\_type] 0\n",
       "\\item[product] 0\n",
       "\\item[category] 0\n",
       "\\item[unit\\textbackslash{}\\_price] 0\n",
       "\\item[quantity] 0\n",
       "\\item[discount] 0\n",
       "\\item[total\\textbackslash{}\\_price] 0\n",
       "\\item[region] 0\n",
       "\\item[order\\textbackslash{}\\_date] 0\n",
       "\\end{description*}\n"
      ],
      "text/markdown": [
       "order_id\n",
       ":   0customer_id\n",
       ":   0customer_type\n",
       ":   0product\n",
       ":   0category\n",
       ":   0unit_price\n",
       ":   0quantity\n",
       ":   0discount\n",
       ":   0total_price\n",
       ":   0region\n",
       ":   0order_date\n",
       ":   0\n",
       "\n"
      ],
      "text/plain": [
       "     order_id   customer_id customer_type       product      category \n",
       "            0             0             0             0             0 \n",
       "   unit_price      quantity      discount   total_price        region \n",
       "            0             0             0             0             0 \n",
       "   order_date \n",
       "            0 "
      ]
     },
     "metadata": {},
     "output_type": "display_data"
    }
   ],
   "source": [
    "df[df == \"\"] <- NA # Ersetze leere Strings (\"\") durch NA\n",
    "colSums(is.na(df)) # Zeigt dir, wie viele NAs pro Spalte vorhanden sind\n"
   ]
  },
  {
   "cell_type": "code",
   "execution_count": null,
   "metadata": {
    "vscode": {
     "languageId": "r"
    }
   },
   "outputs": [],
   "source": [
    "# Doppelte Einträge prüfen\n",
    "sum(duplicated(df))\n",
    "# das dauert länger als 30min, deswegen abgebrochen"
   ]
  },
  {
   "cell_type": "code",
   "execution_count": 6,
   "metadata": {
    "vscode": {
     "languageId": "r"
    }
   },
   "outputs": [
    {
     "data": {
      "text/html": [
       "0"
      ],
      "text/latex": [
       "0"
      ],
      "text/markdown": [
       "0"
      ],
      "text/plain": [
       "[1] 0"
      ]
     },
     "metadata": {},
     "output_type": "display_data"
    }
   ],
   "source": [
    "# Count rows with invalid or implausible values in key numeric columns\n",
    "df %>%\n",
    "  filter(\n",
    "    unit_price <= 0 |         # Unit price should be greater than 0\n",
    "    quantity <= 0 |           # Quantity should be greater than 0\n",
    "    discount < 0 | discount > 1 |  # Discount must be between 0 and 1\n",
    "    total_price < 0           # Total price should not be negative\n",
    "  ) %>%\n",
    "  nrow()  # Count the number of rows that meet any of the above conditions\n"
   ]
  },
  {
   "cell_type": "markdown",
   "metadata": {},
   "source": [
    "# Splitting into B2B and B2C & grouping into different dataframes\n",
    "### line-wise, rfm-base, numeric-invoice-wise, full-invoice-wise"
   ]
  },
  {
   "cell_type": "code",
   "execution_count": 32,
   "metadata": {
    "vscode": {
     "languageId": "r"
    }
   },
   "outputs": [],
   "source": [
    "# Aufteilen in B2B und B2C\n",
    "# Hier ist jede Zeile ein Kauf eines Kunden von einem Produkt (Stückzahl egal), der Kunde kann also mehrere Produkte pro Tag gekauft haben, es sind aber alles verschiedene Zeilen\n",
    "# Wir nennen das line-item level, weil es eine Zeile pro Produkt ist. Gut zu erkennen dass mehrere zeilen für eine order_id existieren\n",
    "\n",
    "line_wise_b2b <- df %>% filter(customer_type == \"B2B\")\n",
    "line_wise_b2c <- df %>% filter(customer_type == \"B2C\")\n",
    "\n",
    "# Aggregate data to one row per order per customer \n",
    "\n",
    "# Für RFM, übergibt nur customer_id, order_date und revenue\n",
    "# For B2B customers\n",
    "rfm_base_b2b <- line_wise_b2b %>%\n",
    "  group_by(customer_id, order_date) %>%                  # Group by customer and order date \n",
    "  summarise(total_price = sum(total_price, na.rm = TRUE),    # Sum total revenue per order (in case multiple products were ordered)\n",
    "  .groups = \"drop\"\n",
    ")\n",
    "# For B2C customers\n",
    "rfm_base_b2c <- line_wise_b2c %>%\n",
    "  group_by(customer_id, order_date) %>%                  # Same logic for B2C customers\n",
    "  summarise(total_price = sum(total_price, na.rm = TRUE),\n",
    "  .groups = \"drop\"\n",
    ")\n",
    "\n",
    "# due to multiple products ordered per customer per day we group orders by date and customer to understand the actual order\n",
    "# wir nennen es order-level oder invoice-level, weil es eine Zeile pro Rechnung ist (Tag+Kunde)\n",
    "\n",
    "# das hier ist nur das numerische, für die stat. berechnung\n",
    "\n",
    "numeric_invoice_wise_b2b <- line_wise_b2b %>%\n",
    "  group_by(customer_id, order_date) %>%\n",
    "  summarise(\n",
    "    quantity = sum(quantity, na.rm = TRUE),\n",
    "    discount = mean(discount, na.rm = TRUE),     # average discount per invoice\n",
    "    unit_price     = mean(unit_price, na.rm = TRUE),   # average unit price per invoice\n",
    "    total_price    = sum(total_price, na.rm = TRUE),   # total invoice value\n",
    "    .groups = \"drop\"\n",
    ")\n",
    "\n",
    "numeric_invoice_wise_b2c <- line_wise_b2c %>%\n",
    "  group_by(customer_id, order_date) %>%\n",
    "  summarise(\n",
    "    quantity = sum(quantity, na.rm = TRUE),\n",
    "    discount = mean(discount, na.rm = TRUE),     # average discount per invoice\n",
    "    unit_price     = mean(unit_price, na.rm = TRUE),   # average unit price per invoice\n",
    "    total_price    = sum(total_price, na.rm = TRUE),   # total invoice value\n",
    "    .groups = \"drop\"\n",
    ")\n",
    "\n",
    "# das hier ist die komplette invoice-wise, also auch die kunden_id und das datum \n",
    "full_invoice_wise_b2b <- line_wise_b2b %>%\n",
    "  group_by(order_id, customer_id, order_date, region) %>%\n",
    "  summarise(\n",
    "    quantity      = sum(quantity, na.rm = TRUE),\n",
    "    discount      = mean(discount, na.rm = TRUE),\n",
    "    unit_price    = mean(unit_price, na.rm = TRUE),\n",
    "    total_price   = sum(total_price, na.rm = TRUE),\n",
    "    .groups = \"drop\"\n",
    ")\n",
    "\n",
    "full_invoice_wise_b2c <- line_wise_b2c %>%\n",
    "  group_by(order_id, customer_id, order_date, region) %>%\n",
    "  summarise(\n",
    "    quantity      = sum(quantity, na.rm = TRUE),\n",
    "    discount      = mean(discount, na.rm = TRUE),\n",
    "    unit_price    = mean(unit_price, na.rm = TRUE),\n",
    "    total_price   = sum(total_price, na.rm = TRUE),\n",
    "    .groups = \"drop\"\n",
    ")\n"
   ]
  },
  {
   "cell_type": "code",
   "execution_count": 33,
   "metadata": {
    "vscode": {
     "languageId": "r"
    }
   },
   "outputs": [
    {
     "name": "stdout",
     "output_type": "stream",
     "text": [
      "[1] \"line-wise, b2b\"\n",
      "Rows: 3,204,505\n",
      "Columns: 11\n",
      "$ order_id      \u001b[3m\u001b[90m<chr>\u001b[39m\u001b[23m \"ORD1\", \"ORD1\", \"ORD1\", \"ORD1\", \"ORD1\", \"ORD3\", \"ORD3\", …\n",
      "$ customer_id   \u001b[3m\u001b[90m<chr>\u001b[39m\u001b[23m \"CUS1496\", \"CUS1496\", \"CUS1496\", \"CUS1496\", \"CUS1496\", \"…\n",
      "$ customer_type \u001b[3m\u001b[90m<chr>\u001b[39m\u001b[23m \"B2B\", \"B2B\", \"B2B\", \"B2B\", \"B2B\", \"B2B\", \"B2B\", \"B2B\", …\n",
      "$ product       \u001b[3m\u001b[90m<chr>\u001b[39m\u001b[23m \"Vio Wasser\", \"Evian\", \"Sprite\", \"Rauch Multivitamin\", \"…\n",
      "$ category      \u001b[3m\u001b[90m<chr>\u001b[39m\u001b[23m \"Water\", \"Water\", \"Soft Drinks\", \"Juices\", \"Water\", \"Jui…\n",
      "$ unit_price    \u001b[3m\u001b[90m<dbl>\u001b[39m\u001b[23m 1.66, 1.56, 1.17, 3.22, 0.87, 2.14, 0.43, 1.21, 1.38, 1.…\n",
      "$ quantity      \u001b[3m\u001b[90m<dbl>\u001b[39m\u001b[23m 53, 90, 73, 59, 35, 44, 13, 92, 3, 8, 16, 3, 43, 44, 10,…\n",
      "$ discount      \u001b[3m\u001b[90m<dbl>\u001b[39m\u001b[23m 0.10, 0.10, 0.05, 0.10, 0.10, 0.10, 0.05, 0.10, 0.05, 0.…\n",
      "$ total_price   \u001b[3m\u001b[90m<dbl>\u001b[39m\u001b[23m 79.18, 126.36, 81.14, 170.98, 27.40, 84.74, 5.31, 100.19…\n",
      "$ region        \u001b[3m\u001b[90m<chr>\u001b[39m\u001b[23m \"Baden-Württemberg\", \"Baden-Württemberg\", \"Baden-Württem…\n",
      "$ order_date    \u001b[3m\u001b[90m<date>\u001b[39m\u001b[23m 2023-08-23, 2023-08-23, 2023-08-23, 2023-08-23, 2023-08…\n"
     ]
    },
    {
     "data": {
      "text/html": [
       "<table class=\"dataframe\">\n",
       "<caption>A tibble: 4 × 11</caption>\n",
       "<thead>\n",
       "\t<tr><th scope=col>order_id</th><th scope=col>customer_id</th><th scope=col>customer_type</th><th scope=col>product</th><th scope=col>category</th><th scope=col>unit_price</th><th scope=col>quantity</th><th scope=col>discount</th><th scope=col>total_price</th><th scope=col>region</th><th scope=col>order_date</th></tr>\n",
       "\t<tr><th scope=col>&lt;chr&gt;</th><th scope=col>&lt;chr&gt;</th><th scope=col>&lt;chr&gt;</th><th scope=col>&lt;chr&gt;</th><th scope=col>&lt;chr&gt;</th><th scope=col>&lt;dbl&gt;</th><th scope=col>&lt;dbl&gt;</th><th scope=col>&lt;dbl&gt;</th><th scope=col>&lt;dbl&gt;</th><th scope=col>&lt;chr&gt;</th><th scope=col>&lt;date&gt;</th></tr>\n",
       "</thead>\n",
       "<tbody>\n",
       "\t<tr><td>ORD1</td><td>CUS1496</td><td>B2B</td><td>Vio Wasser        </td><td>Water      </td><td>1.66</td><td>53</td><td>0.10</td><td> 79.18</td><td>Baden-Württemberg</td><td>2023-08-23</td></tr>\n",
       "\t<tr><td>ORD1</td><td>CUS1496</td><td>B2B</td><td>Evian             </td><td>Water      </td><td>1.56</td><td>90</td><td>0.10</td><td>126.36</td><td>Baden-Württemberg</td><td>2023-08-23</td></tr>\n",
       "\t<tr><td>ORD1</td><td>CUS1496</td><td>B2B</td><td>Sprite            </td><td>Soft Drinks</td><td>1.17</td><td>73</td><td>0.05</td><td> 81.14</td><td>Baden-Württemberg</td><td>2023-08-23</td></tr>\n",
       "\t<tr><td>ORD1</td><td>CUS1496</td><td>B2B</td><td>Rauch Multivitamin</td><td>Juices     </td><td>3.22</td><td>59</td><td>0.10</td><td>170.98</td><td>Baden-Württemberg</td><td>2023-08-23</td></tr>\n",
       "</tbody>\n",
       "</table>\n"
      ],
      "text/latex": [
       "A tibble: 4 × 11\n",
       "\\begin{tabular}{lllllllllll}\n",
       " order\\_id & customer\\_id & customer\\_type & product & category & unit\\_price & quantity & discount & total\\_price & region & order\\_date\\\\\n",
       " <chr> & <chr> & <chr> & <chr> & <chr> & <dbl> & <dbl> & <dbl> & <dbl> & <chr> & <date>\\\\\n",
       "\\hline\n",
       "\t ORD1 & CUS1496 & B2B & Vio Wasser         & Water       & 1.66 & 53 & 0.10 &  79.18 & Baden-Württemberg & 2023-08-23\\\\\n",
       "\t ORD1 & CUS1496 & B2B & Evian              & Water       & 1.56 & 90 & 0.10 & 126.36 & Baden-Württemberg & 2023-08-23\\\\\n",
       "\t ORD1 & CUS1496 & B2B & Sprite             & Soft Drinks & 1.17 & 73 & 0.05 &  81.14 & Baden-Württemberg & 2023-08-23\\\\\n",
       "\t ORD1 & CUS1496 & B2B & Rauch Multivitamin & Juices      & 3.22 & 59 & 0.10 & 170.98 & Baden-Württemberg & 2023-08-23\\\\\n",
       "\\end{tabular}\n"
      ],
      "text/markdown": [
       "\n",
       "A tibble: 4 × 11\n",
       "\n",
       "| order_id &lt;chr&gt; | customer_id &lt;chr&gt; | customer_type &lt;chr&gt; | product &lt;chr&gt; | category &lt;chr&gt; | unit_price &lt;dbl&gt; | quantity &lt;dbl&gt; | discount &lt;dbl&gt; | total_price &lt;dbl&gt; | region &lt;chr&gt; | order_date &lt;date&gt; |\n",
       "|---|---|---|---|---|---|---|---|---|---|---|\n",
       "| ORD1 | CUS1496 | B2B | Vio Wasser         | Water       | 1.66 | 53 | 0.10 |  79.18 | Baden-Württemberg | 2023-08-23 |\n",
       "| ORD1 | CUS1496 | B2B | Evian              | Water       | 1.56 | 90 | 0.10 | 126.36 | Baden-Württemberg | 2023-08-23 |\n",
       "| ORD1 | CUS1496 | B2B | Sprite             | Soft Drinks | 1.17 | 73 | 0.05 |  81.14 | Baden-Württemberg | 2023-08-23 |\n",
       "| ORD1 | CUS1496 | B2B | Rauch Multivitamin | Juices      | 3.22 | 59 | 0.10 | 170.98 | Baden-Württemberg | 2023-08-23 |\n",
       "\n"
      ],
      "text/plain": [
       "  order_id customer_id customer_type product            category    unit_price\n",
       "1 ORD1     CUS1496     B2B           Vio Wasser         Water       1.66      \n",
       "2 ORD1     CUS1496     B2B           Evian              Water       1.56      \n",
       "3 ORD1     CUS1496     B2B           Sprite             Soft Drinks 1.17      \n",
       "4 ORD1     CUS1496     B2B           Rauch Multivitamin Juices      3.22      \n",
       "  quantity discount total_price region            order_date\n",
       "1 53       0.10      79.18      Baden-Württemberg 2023-08-23\n",
       "2 90       0.10     126.36      Baden-Württemberg 2023-08-23\n",
       "3 73       0.05      81.14      Baden-Württemberg 2023-08-23\n",
       "4 59       0.10     170.98      Baden-Württemberg 2023-08-23"
      ]
     },
     "metadata": {},
     "output_type": "display_data"
    },
    {
     "name": "stdout",
     "output_type": "stream",
     "text": [
      "[1] \"rfm-base, b2b\"\n",
      "Rows: 935,300\n",
      "Columns: 3\n",
      "$ customer_id \u001b[3m\u001b[90m<chr>\u001b[39m\u001b[23m \"CUS1000\", \"CUS1000\", \"CUS1000\", \"CUS1000\", \"CUS1000\", \"CU…\n",
      "$ order_date  \u001b[3m\u001b[90m<date>\u001b[39m\u001b[23m 2021-01-03, 2021-01-04, 2021-01-06, 2021-01-11, 2021-01-1…\n",
      "$ total_price \u001b[3m\u001b[90m<dbl>\u001b[39m\u001b[23m 827.07, 414.21, 142.12, 348.41, 1051.40, 570.97, 4350.27, …\n"
     ]
    },
    {
     "data": {
      "text/html": [
       "<table class=\"dataframe\">\n",
       "<caption>A tibble: 4 × 3</caption>\n",
       "<thead>\n",
       "\t<tr><th scope=col>customer_id</th><th scope=col>order_date</th><th scope=col>total_price</th></tr>\n",
       "\t<tr><th scope=col>&lt;chr&gt;</th><th scope=col>&lt;date&gt;</th><th scope=col>&lt;dbl&gt;</th></tr>\n",
       "</thead>\n",
       "<tbody>\n",
       "\t<tr><td>CUS1000</td><td>2021-01-03</td><td>827.07</td></tr>\n",
       "\t<tr><td>CUS1000</td><td>2021-01-04</td><td>414.21</td></tr>\n",
       "\t<tr><td>CUS1000</td><td>2021-01-06</td><td>142.12</td></tr>\n",
       "\t<tr><td>CUS1000</td><td>2021-01-11</td><td>348.41</td></tr>\n",
       "</tbody>\n",
       "</table>\n"
      ],
      "text/latex": [
       "A tibble: 4 × 3\n",
       "\\begin{tabular}{lll}\n",
       " customer\\_id & order\\_date & total\\_price\\\\\n",
       " <chr> & <date> & <dbl>\\\\\n",
       "\\hline\n",
       "\t CUS1000 & 2021-01-03 & 827.07\\\\\n",
       "\t CUS1000 & 2021-01-04 & 414.21\\\\\n",
       "\t CUS1000 & 2021-01-06 & 142.12\\\\\n",
       "\t CUS1000 & 2021-01-11 & 348.41\\\\\n",
       "\\end{tabular}\n"
      ],
      "text/markdown": [
       "\n",
       "A tibble: 4 × 3\n",
       "\n",
       "| customer_id &lt;chr&gt; | order_date &lt;date&gt; | total_price &lt;dbl&gt; |\n",
       "|---|---|---|\n",
       "| CUS1000 | 2021-01-03 | 827.07 |\n",
       "| CUS1000 | 2021-01-04 | 414.21 |\n",
       "| CUS1000 | 2021-01-06 | 142.12 |\n",
       "| CUS1000 | 2021-01-11 | 348.41 |\n",
       "\n"
      ],
      "text/plain": [
       "  customer_id order_date total_price\n",
       "1 CUS1000     2021-01-03 827.07     \n",
       "2 CUS1000     2021-01-04 414.21     \n",
       "3 CUS1000     2021-01-06 142.12     \n",
       "4 CUS1000     2021-01-11 348.41     "
      ]
     },
     "metadata": {},
     "output_type": "display_data"
    },
    {
     "name": "stdout",
     "output_type": "stream",
     "text": [
      "[1] \"numeric-invoice-wise, b2b\"\n",
      "Rows: 935,300\n",
      "Columns: 6\n",
      "$ customer_id \u001b[3m\u001b[90m<chr>\u001b[39m\u001b[23m \"CUS1000\", \"CUS1000\", \"CUS1000\", \"CUS1000\", \"CUS1000\", \"CU…\n",
      "$ order_date  \u001b[3m\u001b[90m<date>\u001b[39m\u001b[23m 2021-01-03, 2021-01-04, 2021-01-06, 2021-01-11, 2021-01-1…\n",
      "$ quantity    \u001b[3m\u001b[90m<dbl>\u001b[39m\u001b[23m 228, 144, 22, 130, 241, 139, 107, 297, 30, 65, 293, 163, 1…\n",
      "$ discount    \u001b[3m\u001b[90m<dbl>\u001b[39m\u001b[23m 0.08750000, 0.06250000, 0.05000000, 0.12500000, 0.08000000…\n",
      "$ unit_price  \u001b[3m\u001b[90m<dbl>\u001b[39m\u001b[23m 2.887500, 2.522500, 6.800000, 2.435000, 4.976000, 5.104000…\n",
      "$ total_price \u001b[3m\u001b[90m<dbl>\u001b[39m\u001b[23m 827.07, 414.21, 142.12, 348.41, 1051.40, 570.97, 4350.27, …\n"
     ]
    },
    {
     "data": {
      "text/html": [
       "<table class=\"dataframe\">\n",
       "<caption>A tibble: 4 × 6</caption>\n",
       "<thead>\n",
       "\t<tr><th scope=col>customer_id</th><th scope=col>order_date</th><th scope=col>quantity</th><th scope=col>discount</th><th scope=col>unit_price</th><th scope=col>total_price</th></tr>\n",
       "\t<tr><th scope=col>&lt;chr&gt;</th><th scope=col>&lt;date&gt;</th><th scope=col>&lt;dbl&gt;</th><th scope=col>&lt;dbl&gt;</th><th scope=col>&lt;dbl&gt;</th><th scope=col>&lt;dbl&gt;</th></tr>\n",
       "</thead>\n",
       "<tbody>\n",
       "\t<tr><td>CUS1000</td><td>2021-01-03</td><td>228</td><td>0.0875</td><td>2.8875</td><td>827.07</td></tr>\n",
       "\t<tr><td>CUS1000</td><td>2021-01-04</td><td>144</td><td>0.0625</td><td>2.5225</td><td>414.21</td></tr>\n",
       "\t<tr><td>CUS1000</td><td>2021-01-06</td><td> 22</td><td>0.0500</td><td>6.8000</td><td>142.12</td></tr>\n",
       "\t<tr><td>CUS1000</td><td>2021-01-11</td><td>130</td><td>0.1250</td><td>2.4350</td><td>348.41</td></tr>\n",
       "</tbody>\n",
       "</table>\n"
      ],
      "text/latex": [
       "A tibble: 4 × 6\n",
       "\\begin{tabular}{llllll}\n",
       " customer\\_id & order\\_date & quantity & discount & unit\\_price & total\\_price\\\\\n",
       " <chr> & <date> & <dbl> & <dbl> & <dbl> & <dbl>\\\\\n",
       "\\hline\n",
       "\t CUS1000 & 2021-01-03 & 228 & 0.0875 & 2.8875 & 827.07\\\\\n",
       "\t CUS1000 & 2021-01-04 & 144 & 0.0625 & 2.5225 & 414.21\\\\\n",
       "\t CUS1000 & 2021-01-06 &  22 & 0.0500 & 6.8000 & 142.12\\\\\n",
       "\t CUS1000 & 2021-01-11 & 130 & 0.1250 & 2.4350 & 348.41\\\\\n",
       "\\end{tabular}\n"
      ],
      "text/markdown": [
       "\n",
       "A tibble: 4 × 6\n",
       "\n",
       "| customer_id &lt;chr&gt; | order_date &lt;date&gt; | quantity &lt;dbl&gt; | discount &lt;dbl&gt; | unit_price &lt;dbl&gt; | total_price &lt;dbl&gt; |\n",
       "|---|---|---|---|---|---|\n",
       "| CUS1000 | 2021-01-03 | 228 | 0.0875 | 2.8875 | 827.07 |\n",
       "| CUS1000 | 2021-01-04 | 144 | 0.0625 | 2.5225 | 414.21 |\n",
       "| CUS1000 | 2021-01-06 |  22 | 0.0500 | 6.8000 | 142.12 |\n",
       "| CUS1000 | 2021-01-11 | 130 | 0.1250 | 2.4350 | 348.41 |\n",
       "\n"
      ],
      "text/plain": [
       "  customer_id order_date quantity discount unit_price total_price\n",
       "1 CUS1000     2021-01-03 228      0.0875   2.8875     827.07     \n",
       "2 CUS1000     2021-01-04 144      0.0625   2.5225     414.21     \n",
       "3 CUS1000     2021-01-06  22      0.0500   6.8000     142.12     \n",
       "4 CUS1000     2021-01-11 130      0.1250   2.4350     348.41     "
      ]
     },
     "metadata": {},
     "output_type": "display_data"
    },
    {
     "name": "stdout",
     "output_type": "stream",
     "text": [
      "[1] \"full-invoice-wise, b2b\"\n",
      "Rows: 1,068,808\n",
      "Columns: 8\n",
      "$ order_id    \u001b[3m\u001b[90m<chr>\u001b[39m\u001b[23m \"ORD1\", \"ORD10\", \"ORD1000\", \"ORD1000000\", \"ORD1000006\", \"O…\n",
      "$ customer_id \u001b[3m\u001b[90m<chr>\u001b[39m\u001b[23m \"CUS1496\", \"CUS9472\", \"CUS9185\", \"CUS3347\", \"CUS3145\", \"CU…\n",
      "$ order_date  \u001b[3m\u001b[90m<date>\u001b[39m\u001b[23m 2023-08-23, 2023-04-09, 2022-06-17, 2023-07-07, 2021-01-2…\n",
      "$ region      \u001b[3m\u001b[90m<chr>\u001b[39m\u001b[23m \"Baden-Württemberg\", \"Bayern\", \"Niedersachsen\", \"Thüringen…\n",
      "$ quantity    \u001b[3m\u001b[90m<dbl>\u001b[39m\u001b[23m 310, 196, 161, 184, 75, 167, 11, 244, 359, 218, 340, 380, …\n",
      "$ discount    \u001b[3m\u001b[90m<dbl>\u001b[39m\u001b[23m 0.09000000, 0.08333333, 0.08750000, 0.08333333, 0.10000000…\n",
      "$ unit_price  \u001b[3m\u001b[90m<dbl>\u001b[39m\u001b[23m 1.696000, 1.820000, 6.480000, 30.736667, 1.430000, 1.98666…\n",
      "$ total_price \u001b[3m\u001b[90m<dbl>\u001b[39m\u001b[23m 485.06, 301.74, 1018.33, 6293.73, 96.52, 370.17, 18.29, 22…\n"
     ]
    },
    {
     "data": {
      "text/html": [
       "<table class=\"dataframe\">\n",
       "<caption>A tibble: 4 × 8</caption>\n",
       "<thead>\n",
       "\t<tr><th scope=col>order_id</th><th scope=col>customer_id</th><th scope=col>order_date</th><th scope=col>region</th><th scope=col>quantity</th><th scope=col>discount</th><th scope=col>unit_price</th><th scope=col>total_price</th></tr>\n",
       "\t<tr><th scope=col>&lt;chr&gt;</th><th scope=col>&lt;chr&gt;</th><th scope=col>&lt;date&gt;</th><th scope=col>&lt;chr&gt;</th><th scope=col>&lt;dbl&gt;</th><th scope=col>&lt;dbl&gt;</th><th scope=col>&lt;dbl&gt;</th><th scope=col>&lt;dbl&gt;</th></tr>\n",
       "</thead>\n",
       "<tbody>\n",
       "\t<tr><td>ORD1      </td><td>CUS1496</td><td>2023-08-23</td><td>Baden-Württemberg</td><td>310</td><td>0.09000000</td><td> 1.69600</td><td> 485.06</td></tr>\n",
       "\t<tr><td>ORD10     </td><td>CUS9472</td><td>2023-04-09</td><td>Bayern           </td><td>196</td><td>0.08333333</td><td> 1.82000</td><td> 301.74</td></tr>\n",
       "\t<tr><td>ORD1000   </td><td>CUS9185</td><td>2022-06-17</td><td>Niedersachsen    </td><td>161</td><td>0.08750000</td><td> 6.48000</td><td>1018.33</td></tr>\n",
       "\t<tr><td>ORD1000000</td><td>CUS3347</td><td>2023-07-07</td><td>Thüringen        </td><td>184</td><td>0.08333333</td><td>30.73667</td><td>6293.73</td></tr>\n",
       "</tbody>\n",
       "</table>\n"
      ],
      "text/latex": [
       "A tibble: 4 × 8\n",
       "\\begin{tabular}{llllllll}\n",
       " order\\_id & customer\\_id & order\\_date & region & quantity & discount & unit\\_price & total\\_price\\\\\n",
       " <chr> & <chr> & <date> & <chr> & <dbl> & <dbl> & <dbl> & <dbl>\\\\\n",
       "\\hline\n",
       "\t ORD1       & CUS1496 & 2023-08-23 & Baden-Württemberg & 310 & 0.09000000 &  1.69600 &  485.06\\\\\n",
       "\t ORD10      & CUS9472 & 2023-04-09 & Bayern            & 196 & 0.08333333 &  1.82000 &  301.74\\\\\n",
       "\t ORD1000    & CUS9185 & 2022-06-17 & Niedersachsen     & 161 & 0.08750000 &  6.48000 & 1018.33\\\\\n",
       "\t ORD1000000 & CUS3347 & 2023-07-07 & Thüringen         & 184 & 0.08333333 & 30.73667 & 6293.73\\\\\n",
       "\\end{tabular}\n"
      ],
      "text/markdown": [
       "\n",
       "A tibble: 4 × 8\n",
       "\n",
       "| order_id &lt;chr&gt; | customer_id &lt;chr&gt; | order_date &lt;date&gt; | region &lt;chr&gt; | quantity &lt;dbl&gt; | discount &lt;dbl&gt; | unit_price &lt;dbl&gt; | total_price &lt;dbl&gt; |\n",
       "|---|---|---|---|---|---|---|---|\n",
       "| ORD1       | CUS1496 | 2023-08-23 | Baden-Württemberg | 310 | 0.09000000 |  1.69600 |  485.06 |\n",
       "| ORD10      | CUS9472 | 2023-04-09 | Bayern            | 196 | 0.08333333 |  1.82000 |  301.74 |\n",
       "| ORD1000    | CUS9185 | 2022-06-17 | Niedersachsen     | 161 | 0.08750000 |  6.48000 | 1018.33 |\n",
       "| ORD1000000 | CUS3347 | 2023-07-07 | Thüringen         | 184 | 0.08333333 | 30.73667 | 6293.73 |\n",
       "\n"
      ],
      "text/plain": [
       "  order_id   customer_id order_date region            quantity discount  \n",
       "1 ORD1       CUS1496     2023-08-23 Baden-Württemberg 310      0.09000000\n",
       "2 ORD10      CUS9472     2023-04-09 Bayern            196      0.08333333\n",
       "3 ORD1000    CUS9185     2022-06-17 Niedersachsen     161      0.08750000\n",
       "4 ORD1000000 CUS3347     2023-07-07 Thüringen         184      0.08333333\n",
       "  unit_price total_price\n",
       "1  1.69600    485.06    \n",
       "2  1.82000    301.74    \n",
       "3  6.48000   1018.33    \n",
       "4 30.73667   6293.73    "
      ]
     },
     "metadata": {},
     "output_type": "display_data"
    }
   ],
   "source": [
    "# prints:\n",
    "print(\"line-wise, b2b\")\n",
    "glimpse(df_b2b) # print summary of data frame\n",
    "head(df_b2b, 4) # print first 4 rows of data frame\n",
    "\n",
    "print(\"rfm-base, b2b\")\n",
    "glimpse(rfm_base_b2b) # print summary of data frame\n",
    "head(rfm_base_b2b, 4) # print first 4 rows of data frame\n",
    "\n",
    "print(\"numeric-invoice-wise, b2b\")\n",
    "glimpse(numeric_invoice_wise_b2b) # print summary of data frame\n",
    "head(numeric_invoice_wise_b2b, 4) # print first 4 rows of data frame\n",
    "\n",
    "print(\"full-invoice-wise, b2b\")\n",
    "glimpse(full_invoice_wise_b2b) # print summary of data frame\n",
    "head(full_invoice_wise_b2b, 4) # print first 4 rows of data frame"
   ]
  },
  {
   "cell_type": "code",
   "execution_count": null,
   "metadata": {
    "vscode": {
     "languageId": "r"
    }
   },
   "outputs": [
    {
     "name": "stdout",
     "output_type": "stream",
     "text": [
      "\n",
      "==============================\n",
      "Order ID: ORD1 | Customer: CUS1496 | Type: B2B | Region: Baden-Württemberg | Date: 19592 \n",
      "------------------------------\n",
      "\u001b[90m# A tibble: 5 × 5\u001b[39m\n",
      "  product            category    unit_price quantity total_price\n",
      "  \u001b[3m\u001b[90m<chr>\u001b[39m\u001b[23m              \u001b[3m\u001b[90m<chr>\u001b[39m\u001b[23m            \u001b[3m\u001b[90m<dbl>\u001b[39m\u001b[23m    \u001b[3m\u001b[90m<dbl>\u001b[39m\u001b[23m       \u001b[3m\u001b[90m<dbl>\u001b[39m\u001b[23m\n",
      "\u001b[90m1\u001b[39m Vio Wasser         Water             1.66       53        79.2\n",
      "\u001b[90m2\u001b[39m Evian              Water             1.56       90       126. \n",
      "\u001b[90m3\u001b[39m Sprite             Soft Drinks       1.17       73        81.1\n",
      "\u001b[90m4\u001b[39m Rauch Multivitamin Juices            3.22       59       171. \n",
      "\u001b[90m5\u001b[39m Gerolsteiner       Water             0.87       35        27.4\n",
      "\n",
      "==============================\n",
      "Order ID: ORD10 | Customer: CUS9472 | Type: B2B | Region: Bayern | Date: 19456 \n",
      "------------------------------\n",
      "\u001b[90m# A tibble: 3 × 5\u001b[39m\n",
      "  product    category    unit_price quantity total_price\n",
      "  \u001b[3m\u001b[90m<chr>\u001b[39m\u001b[23m      \u001b[3m\u001b[90m<chr>\u001b[39m\u001b[23m            \u001b[3m\u001b[90m<dbl>\u001b[39m\u001b[23m    \u001b[3m\u001b[90m<dbl>\u001b[39m\u001b[23m       \u001b[3m\u001b[90m<dbl>\u001b[39m\u001b[23m\n",
      "\u001b[90m1\u001b[39m Club Mate  Soft Drinks       2.31       33        72.4\n",
      "\u001b[90m2\u001b[39m Sprite     Soft Drinks       1.19       84        90.0\n",
      "\u001b[90m3\u001b[39m Vio Wasser Water             1.96       79       139. \n",
      "\n",
      "==============================\n",
      "Order ID: ORD1000 | Customer: CUS9185 | Type: B2B | Region: Niedersachsen | Date: 19160 \n",
      "------------------------------\n",
      "\u001b[90m# A tibble: 4 × 5\u001b[39m\n",
      "  product         category            unit_price quantity total_price\n",
      "  \u001b[3m\u001b[90m<chr>\u001b[39m\u001b[23m           \u001b[3m\u001b[90m<chr>\u001b[39m\u001b[23m                    \u001b[3m\u001b[90m<dbl>\u001b[39m\u001b[23m    \u001b[3m\u001b[90m<dbl>\u001b[39m\u001b[23m       \u001b[3m\u001b[90m<dbl>\u001b[39m\u001b[23m\n",
      "\u001b[90m1\u001b[39m Mountain Dew    Soft Drinks               0.63       22        12.5\n",
      "\u001b[90m2\u001b[39m Bacardi         Alcoholic Beverages      20.7        42       784. \n",
      "\u001b[90m3\u001b[39m Cranberry Juice Juices                    2.76       65       170. \n",
      "\u001b[90m4\u001b[39m Tomato Juice    Juices                    1.8        32        51.8\n"
     ]
    }
   ],
   "source": [
    "# Schöne print ausgabe für einzelne Rechnung\n",
    "# Beispiel: Eine strukturierte Ausgabe für die ersten 3 Rechnungen (B2B)\n",
    "# line_wise_b2b %>%\n",
    "#   group_by(order_id) %>%\n",
    "#   group_split() %>%\n",
    "#   head(3) %>%\n",
    "#   walk(function(order) {\n",
    "#     header <- order[1, ]  # Eine Zeile reicht für Kopf\n",
    "#     cat(\"\\n==============================\\n\")\n",
    "#     cat(\"Order ID:\", header$order_id,\n",
    "#         \"| Customer:\", header$customer_id,\n",
    "#         \"| Type:\", header$customer_type,\n",
    "#         \"| Region:\", header$region,\n",
    "#         \"| Date:\", header$order_date, \"\\n\")\n",
    "#     cat(\"------------------------------\\n\")\n",
    "#     print(order %>% select(product, category, unit_price, quantity, total_price))\n",
    "#   })\n"
   ]
  },
  {
   "cell_type": "code",
   "execution_count": null,
   "metadata": {
    "vscode": {
     "languageId": "r"
    }
   },
   "outputs": [],
   "source": [
    "# Das ist die Statistik über alle Zeilen (also Produktkäufe), nicht nur über die aggregierten Rechnungen\n",
    "# also line-wise level\n",
    "\n",
    "line_wise_summary_b2b <- line_wise_b2b %>%\n",
    "  summarise(\n",
    "    discount        = list(discount),\n",
    "    quantity        = list(quantity),\n",
    "    total_price     = list(total_price),\n",
    "    unit_price      = list(unit_price)\n",
    "  ) %>%\n",
    "  pivot_longer(everything(), names_to = \"variable\", values_to = \"values\") %>%\n",
    "  mutate(\n",
    "    count  = map_int(values, ~length(.x)),\n",
    "    mean   = map_dbl(values, ~mean(.x, na.rm = TRUE)),\n",
    "    sd     = map_dbl(values, ~sd(.x, na.rm = TRUE)),\n",
    "    min    = map_dbl(values, ~min(.x, na.rm = TRUE)),\n",
    "    q25    = map_dbl(values, ~quantile(.x, 0.25, na.rm = TRUE)),\n",
    "    median = map_dbl(values, ~median(.x, na.rm = TRUE)),\n",
    "    q75    = map_dbl(values, ~quantile(.x, 0.75, na.rm = TRUE)),\n",
    "    max    = map_dbl(values, ~max(.x, na.rm = TRUE))\n",
    "  ) %>%\n",
    "  select(variable, count, mean, sd, min, q25, median, q75, max)\n",
    "\n",
    "\n",
    "line_wise_summary_b2c <- line_wise_b2c %>%\n",
    "  summarise(\n",
    "    discount        = list(discount),\n",
    "    quantity        = list(quantity),\n",
    "    total_price     = list(total_price),\n",
    "    unit_price      = list(unit_price)\n",
    "  ) %>%\n",
    "  pivot_longer(everything(), names_to = \"variable\", values_to = \"values\") %>%\n",
    "  mutate(\n",
    "    count  = map_int(values, ~length(.x)),\n",
    "    mean   = map_dbl(values, ~mean(.x, na.rm = TRUE)),\n",
    "    sd     = map_dbl(values, ~sd(.x, na.rm = TRUE)),\n",
    "    min    = map_dbl(values, ~min(.x, na.rm = TRUE)),\n",
    "    q25    = map_dbl(values, ~quantile(.x, 0.25, na.rm = TRUE)),\n",
    "    median = map_dbl(values, ~median(.x, na.rm = TRUE)),\n",
    "    q75    = map_dbl(values, ~quantile(.x, 0.75, na.rm = TRUE)),\n",
    "    max    = map_dbl(values, ~max(.x, na.rm = TRUE))\n",
    "  ) %>%\n",
    "  select(variable, count, mean, sd, min, q25, median, q75, max)\n",
    "\n",
    "# Berechnung der statistischen Kennzahlen für B2B und B2C des invoice-level/order-level\n",
    "invoice_wise_summary_b2b <- numeric_invoice_wise_b2b %>%\n",
    "  summarise(\n",
    "    discount        = list(discount),\n",
    "    quantity        = list(quantity),\n",
    "    total_price     = list(total_price),\n",
    "    unit_price      = list(unit_price)\n",
    "  ) %>%\n",
    "  pivot_longer(everything(), names_to = \"variable\", values_to = \"values\") %>%\n",
    "  mutate(\n",
    "    count  = map_int(values, ~length(.x)),\n",
    "    mean   = map_dbl(values, ~mean(.x, na.rm = TRUE)),\n",
    "    sd     = map_dbl(values, ~sd(.x, na.rm = TRUE)),\n",
    "    min    = map_dbl(values, ~min(.x, na.rm = TRUE)),\n",
    "    q25    = map_dbl(values, ~quantile(.x, 0.25, na.rm = TRUE)),\n",
    "    median = map_dbl(values, ~median(.x, na.rm = TRUE)),\n",
    "    q75    = map_dbl(values, ~quantile(.x, 0.75, na.rm = TRUE)),\n",
    "    max    = map_dbl(values, ~max(.x, na.rm = TRUE))\n",
    "  ) %>%\n",
    "  select(variable, count, mean, sd, min, q25, median, q75, max)\n",
    "\n",
    "invoice_wise_summary_b2c <- numeric_invoice_wise_b2c %>%\n",
    "  summarise(\n",
    "    discount        = list(discount),\n",
    "    quantity        = list(quantity),\n",
    "    total_price     = list(total_price),\n",
    "    unit_price      = list(unit_price)\n",
    "  ) %>%\n",
    "  pivot_longer(everything(), names_to = \"variable\", values_to = \"values\") %>%\n",
    "  mutate(\n",
    "    count  = map_int(values, ~length(.x)),\n",
    "    mean   = map_dbl(values, ~mean(.x, na.rm = TRUE)),\n",
    "    sd     = map_dbl(values, ~sd(.x, na.rm = TRUE)),\n",
    "    min    = map_dbl(values, ~min(.x, na.rm = TRUE)),\n",
    "    q25    = map_dbl(values, ~quantile(.x, 0.25, na.rm = TRUE)),\n",
    "    median = map_dbl(values, ~median(.x, na.rm = TRUE)),\n",
    "    q75    = map_dbl(values, ~quantile(.x, 0.75, na.rm = TRUE)),\n",
    "    max    = map_dbl(values, ~max(.x, na.rm = TRUE))\n",
    "  ) %>%\n",
    "  select(variable, count, mean, sd, min, q25, median, q75, max)"
   ]
  },
  {
   "cell_type": "code",
   "execution_count": 39,
   "metadata": {
    "vscode": {
     "languageId": "r"
    }
   },
   "outputs": [
    {
     "data": {
      "text/plain": [
       "\n",
       "\n",
       "Table: Line-wise summary statistics of B2B numeric variables\n",
       "\n",
       "|variable    |   count|   mean|     sd|  min|   q25| median|    q75|      max|\n",
       "|:-----------|-------:|------:|------:|----:|-----:|------:|------:|--------:|\n",
       "|discount    | 3204505|   0.08|   0.03| 0.05|  0.05|   0.10|   0.10|     0.15|\n",
       "|quantity    | 3204505|  50.52|  28.87| 1.00| 26.00|  51.00|  76.00|   100.00|\n",
       "|total_price | 3204505| 281.36| 810.75| 0.30| 31.35|  77.20| 167.58| 14295.30|\n",
       "|unit_price  | 3204505|   5.63|  13.21| 0.32|  1.03|   1.81|   3.04|   169.53|"
      ]
     },
     "metadata": {},
     "output_type": "display_data"
    },
    {
     "data": {
      "text/plain": [
       "\n",
       "\n",
       "Table: Line-wise summary statistics of B2C numeric variables\n",
       "\n",
       "|variable    |   count|  mean|     sd|  min|  q25| median|   q75|     max|\n",
       "|:-----------|-------:|-----:|------:|----:|----:|------:|-----:|-------:|\n",
       "|discount    | 5795405|  0.00|   0.00| 0.00| 0.00|   0.00|  0.00|    0.00|\n",
       "|quantity    | 5795405|  8.00|   4.32| 1.00| 4.00|   8.00| 12.00|   15.00|\n",
       "|total_price | 5795405| 47.46| 143.17| 0.46| 6.20|  13.02| 26.28| 1686.90|\n",
       "|unit_price  | 5795405|  5.92|  15.46| 0.46| 1.07|   1.75|  3.21|  112.46|"
      ]
     },
     "metadata": {},
     "output_type": "display_data"
    },
    {
     "data": {
      "text/plain": [
       "\n",
       "\n",
       "Table: Inovice-wise summary statistics of B2B orders\n",
       "\n",
       "|variable    |  count|   mean|      sd|  min|    q25| median|    q75|      max|\n",
       "|:-----------|------:|------:|-------:|----:|------:|------:|------:|--------:|\n",
       "|discount    | 935300|   0.08|    0.02| 0.05|   0.07|   0.08|   0.10|     0.15|\n",
       "|quantity    | 935300| 173.08|  110.04| 1.00|  89.00| 159.00| 237.00|  1166.00|\n",
       "|total_price | 935300| 963.99| 1582.90| 0.30| 161.36| 365.37| 945.58| 23490.22|\n",
       "|unit_price  | 935300|   5.63|    8.55| 0.32|   1.55|   2.30|   6.12|   154.50|"
      ]
     },
     "metadata": {},
     "output_type": "display_data"
    },
    {
     "data": {
      "text/plain": [
       "\n",
       "\n",
       "Table: Inovice-wise summary statistics of B2C orders\n",
       "\n",
       "|variable    |   count|   mean|     sd|  min|   q25| median|    q75|     max|\n",
       "|:-----------|-------:|------:|------:|----:|-----:|------:|------:|-------:|\n",
       "|discount    | 1689025|   0.00|   0.00| 0.00|  0.00|   0.00|   0.00|    0.00|\n",
       "|quantity    | 1689025|  27.45|  17.22| 1.00| 14.00|  25.00|  38.00|  199.00|\n",
       "|total_price | 1689025| 162.85| 277.79| 0.46| 27.51|  59.74| 142.02| 4067.90|\n",
       "|unit_price  | 1689025|   5.92|   9.94| 0.46|  1.57|   2.24|   4.81|  112.46|"
      ]
     },
     "metadata": {},
     "output_type": "display_data"
    }
   ],
   "source": [
    "# print\n",
    "kable(line_wise_summary_b2b, caption = \"Line-wise summary statistics of B2B numeric variables\", digits = 2)\n",
    "kable(line_wise_summary_b2c, caption = \"Line-wise summary statistics of B2C numeric variables\", digits = 2)\n",
    "\n",
    "kable(invoice_wise_summary_b2b, caption = \"Inovice-wise summary statistics of B2B orders\", digits = 2)\n",
    "kable(invoice_wise_summary_b2c, caption = \"Inovice-wise summary statistics of B2C orders\", digits = 2)\n"
   ]
  },
  {
   "cell_type": "markdown",
   "metadata": {},
   "source": [
    "# RFM Analyse"
   ]
  },
  {
   "cell_type": "code",
   "execution_count": 44,
   "metadata": {
    "vscode": {
     "languageId": "r"
    }
   },
   "outputs": [],
   "source": [
    "analysis_date <- as.Date(\"2023-12-31\")  # beliebiges Analyse-Datum (z. B. Ende des Jahres)\n",
    "\n",
    "rfm_result_b2b <- rfm_table_order(\n",
    "  data = rfm_base_b2b,\n",
    "  customer_id = customer_id,\n",
    "  order_date = order_date,\n",
    "  revenue = total_price,       # <- wichtig: die Spalte mit dem Umsatz heißt total_price\n",
    "  analysis_date = analysis_date\n",
    ")\n",
    "\n",
    "rfm_result_b2c <- rfm_table_order(\n",
    "  data = rfm_base_b2c,\n",
    "  customer_id = customer_id,\n",
    "  order_date = order_date,\n",
    "  revenue = total_price,\n",
    "  analysis_date = analysis_date\n",
    ")"
   ]
  },
  {
   "cell_type": "code",
   "execution_count": 60,
   "metadata": {
    "vscode": {
     "languageId": "r"
    }
   },
   "outputs": [
    {
     "name": "stdout",
     "output_type": "stream",
     "text": [
      "Rows: 3,563\n",
      "Columns: 8\n",
      "$ customer_id       \u001b[3m\u001b[90m<chr>\u001b[39m\u001b[23m \"CUS1000\", \"CUS10000\", \"CUS1002\", \"CUS1005\", \"CUS100…\n",
      "$ recency_days      \u001b[3m\u001b[90m<dbl>\u001b[39m\u001b[23m 2, 8, 5, 2, 6, 6, 5, 6, 2, 1, 8, 2, 1, 6, 4, 3, 1, 1…\n",
      "$ transaction_count \u001b[3m\u001b[90m<int>\u001b[39m\u001b[23m 258, 259, 241, 258, 266, 247, 262, 249, 267, 267, 26…\n",
      "$ amount            \u001b[3m\u001b[90m<dbl>\u001b[39m\u001b[23m 271186.9, 253436.7, 247201.9, 259063.1, 277493.9, 26…\n",
      "$ recency_score     \u001b[3m\u001b[90m<int>\u001b[39m\u001b[23m 4, 1, 2, 4, 2, 2, 2, 2, 4, 5, 1, 4, 5, 2, 3, 3, 5, 5…\n",
      "$ frequency_score   \u001b[3m\u001b[90m<int>\u001b[39m\u001b[23m 2, 2, 1, 2, 3, 1, 3, 1, 4, 4, 3, 2, 1, 1, 1, 2, 5, 3…\n",
      "$ monetary_score    \u001b[3m\u001b[90m<int>\u001b[39m\u001b[23m 4, 3, 3, 3, 4, 4, 1, 1, 1, 3, 3, 4, 1, 1, 3, 1, 3, 2…\n",
      "$ rfm_score         \u001b[3m\u001b[90m<dbl>\u001b[39m\u001b[23m 424, 123, 213, 423, 234, 214, 231, 211, 441, 543, 13…\n"
     ]
    }
   ],
   "source": [
    "glimpse(rfm_result_b2b$rfm)"
   ]
  },
  {
   "cell_type": "code",
   "execution_count": 46,
   "metadata": {
    "vscode": {
     "languageId": "r"
    }
   },
   "outputs": [
    {
     "data": {
      "image/png": "[encoded data removed]",
      "text/plain": [
       "plot without title"
      ]
     },
     "metadata": {
      "image/png": {
       "height": 420,
       "width": 420
      }
     },
     "output_type": "display_data"
    },
    {
     "data": {
      "image/png": "[encoded data removed]",
      "text/plain": [
       "plot without title"
      ]
     },
     "metadata": {
      "image/png": {
       "height": 420,
       "width": 420
      }
     },
     "output_type": "display_data"
    },
    {
     "data": {
      "image/png": "[encoded data removed]",
      "text/plain": [
       "plot without title"
      ]
     },
     "metadata": {
      "image/png": {
       "height": 420,
       "width": 420
      }
     },
     "output_type": "display_data"
    },
    {
     "data": {
      "image/png": "[encoded data removed]",
      "text/plain": [
       "plot without title"
      ]
     },
     "metadata": {
      "image/png": {
       "height": 420,
       "width": 420
      }
     },
     "output_type": "display_data"
    },
    {
     "data": {
      "image/png": "[encoded data removed]",
      "text/plain": [
       "plot without title"
      ]
     },
     "metadata": {
      "image/png": {
       "height": 420,
       "width": 420
      }
     },
     "output_type": "display_data"
    },
    {
     "ename": "ERROR",
     "evalue": "Error in rfm_plot_scatter(rfm_result_b2b): konnte Funktion \"rfm_plot_scatter\" nicht finden\n",
     "output_type": "error",
     "traceback": [
      "Error in rfm_plot_scatter(rfm_result_b2b): konnte Funktion \"rfm_plot_scatter\" nicht finden\nTraceback:\n"
     ]
    },
    {
     "data": {
      "image/png": "[encoded data removed]",
      "text/plain": [
       "plot without title"
      ]
     },
     "metadata": {
      "image/png": {
       "height": 420,
       "width": 420
      }
     },
     "output_type": "display_data"
    }
   ],
   "source": [
    "# Verteilungen & Heatmaps\n",
    "# B2B ------------------------------------------------------\n",
    "# RFM-Visualisierungen für B2B (invoice-wise Datenbasis)\n",
    "rfm_plot_bar_chart(rfm_result_b2b)                          # RFM-Score Übersicht\n",
    "rfm_plot_histogram(rfm_result_b2b, metric = \"recency\")      # Recency-Verteilung\n",
    "rfm_plot_histogram(rfm_result_b2b, metric = \"frequency\")    # Frequency-Verteilung\n",
    "rfm_plot_histogram(rfm_result_b2b, metric = \"monetary\")     # Monetary-Verteilung\n",
    "rfm_plot_order_dist(rfm_result_b2b)                         # Score-Kombinationen\n",
    "rfm_plot_heatmap(rfm_result_b2b)                            # Recency x Frequency Heatmap\n",
    "rfm_plot_scatter(rfm_result_b2b)                            # Scatter: Recency vs Monetary\n"
   ]
  },
  {
   "cell_type": "code",
   "execution_count": 48,
   "metadata": {
    "vscode": {
     "languageId": "r"
    }
   },
   "outputs": [
    {
     "data": {
      "image/png": "[encoded data removed]",
      "text/plain": [
       "plot without title"
      ]
     },
     "metadata": {
      "image/png": {
       "height": 420,
       "width": 420
      }
     },
     "output_type": "display_data"
    },
    {
     "data": {
      "image/png": "[encoded data removed]",
      "text/plain": [
       "plot without title"
      ]
     },
     "metadata": {
      "image/png": {
       "height": 420,
       "width": 420
      }
     },
     "output_type": "display_data"
    },
    {
     "data": {
      "image/png": "[encoded data removed]",
      "text/plain": [
       "plot without title"
      ]
     },
     "metadata": {
      "image/png": {
       "height": 420,
       "width": 420
      }
     },
     "output_type": "display_data"
    },
    {
     "data": {
      "image/png": "[encoded data removed]",
      "text/plain": [
       "plot without title"
      ]
     },
     "metadata": {
      "image/png": {
       "height": 420,
       "width": 420
      }
     },
     "output_type": "display_data"
    },
    {
     "data": {
      "image/png": "[encoded data removed]",
      "text/plain": [
       "plot without title"
      ]
     },
     "metadata": {
      "image/png": {
       "height": 420,
       "width": 420
      }
     },
     "output_type": "display_data"
    },
    {
     "ename": "ERROR",
     "evalue": "Error in rfm_plot_scatter(rfm_result_b2c): konnte Funktion \"rfm_plot_scatter\" nicht finden\n",
     "output_type": "error",
     "traceback": [
      "Error in rfm_plot_scatter(rfm_result_b2c): konnte Funktion \"rfm_plot_scatter\" nicht finden\nTraceback:\n"
     ]
    },
    {
     "data": {
      "image/png": "[encoded data removed]",
      "text/plain": [
       "plot without title"
      ]
     },
     "metadata": {
      "image/png": {
       "height": 420,
       "width": 420
      }
     },
     "output_type": "display_data"
    }
   ],
   "source": [
    "# B2C ------------------------------------------------------\n",
    "# RFM-Visualisierungen für B2C (invoice-wise Datenbasis)\n",
    "rfm_plot_bar_chart(rfm_result_b2c)\n",
    "rfm_plot_histogram(rfm_result_b2c, metric = \"recency\")\n",
    "rfm_plot_histogram(rfm_result_b2c, metric = \"frequency\")\n",
    "rfm_plot_histogram(rfm_result_b2c, metric = \"monetary\")\n",
    "rfm_plot_order_dist(rfm_result_b2c)\n",
    "rfm_plot_heatmap(rfm_result_b2c)\n",
    "rfm_plot_scatter(rfm_result_b2c)"
   ]
  },
  {
   "cell_type": "markdown",
   "metadata": {},
   "source": [
    "# Erste RFM einteilungsversuch, nach Vorlesung"
   ]
  },
  {
   "cell_type": "code",
   "execution_count": 55,
   "metadata": {
    "vscode": {
     "languageId": "r"
    }
   },
   "outputs": [],
   "source": [
    "# Segmentierung der Kunden\n",
    "# B2B ------------------------------------------------------\n",
    "rfm_segmented_b2b <- rfm_result_b2b$rfm %>%\n",
    "  mutate(\n",
    "    segment = case_when(\n",
    "      recency_score %in% 4:5 & frequency_score %in% 4:5 & monetary_score %in% 4:5 ~ \"Champions\",\n",
    "      recency_score %in% 2:5 & frequency_score %in% 3:5 & monetary_score %in% 3:5 ~ \"Loyal Customers\",\n",
    "      recency_score %in% 3:5 & frequency_score %in% 1:3 & monetary_score %in% 1:3 ~ \"Potential Loyalist\",\n",
    "      recency_score %in% 4:5 & frequency_score <= 1 & monetary_score <= 1 ~ \"New Customers\",\n",
    "      recency_score %in% 3:4 & frequency_score <= 1 & monetary_score <= 1 ~ \"Promising\",\n",
    "      recency_score %in% 2:3 & frequency_score %in% 2:3 & monetary_score %in% 2:3 ~ \"Need Attention\",\n",
    "      recency_score %in% 2:3 & frequency_score <= 2 & monetary_score <= 2 ~ \"About To Sleep\",\n",
    "      recency_score <= 2 & frequency_score %in% 2:5 & monetary_score %in% 2:5 ~ \"At Risk\",\n",
    "      recency_score <= 1 & frequency_score %in% 4:5 & monetary_score %in% 4:5 ~ \"Can’t Lose Them\",\n",
    "      recency_score %in% 1:2 & frequency_score %in% 1:2 & monetary_score %in% 1:2 ~ \"Hibernating\",\n",
    "      recency_score <= 2 & frequency_score <= 2 & monetary_score <= 2 ~ \"Lost\",\n",
    "      TRUE ~ \"Uncategorized\"\n",
    "    )\n",
    "  )\n",
    "\n",
    "# B2C ------------------------------------------------------\n",
    "rfm_segmented_b2c <- rfm_result_b2c$rfm %>%\n",
    "  mutate(\n",
    "    segment = case_when(\n",
    "      recency_score %in% 4:5 & frequency_score %in% 4:5 & monetary_score %in% 4:5 ~ \"Champions\",\n",
    "      recency_score %in% 2:5 & frequency_score %in% 3:5 & monetary_score %in% 3:5 ~ \"Loyal Customers\",\n",
    "      recency_score %in% 3:5 & frequency_score %in% 1:3 & monetary_score %in% 1:3 ~ \"Potential Loyalist\",\n",
    "      recency_score %in% 4:5 & frequency_score <= 1 & monetary_score <= 1 ~ \"New Customers\",\n",
    "      recency_score %in% 3:4 & frequency_score <= 1 & monetary_score <= 1 ~ \"Promising\",\n",
    "      recency_score %in% 2:3 & frequency_score %in% 2:3 & monetary_score %in% 2:3 ~ \"Need Attention\",\n",
    "      recency_score %in% 2:3 & frequency_score <= 2 & monetary_score <= 2 ~ \"About To Sleep\",\n",
    "      recency_score <= 2 & frequency_score %in% 2:5 & monetary_score %in% 2:5 ~ \"At Risk\",\n",
    "      recency_score <= 1 & frequency_score %in% 4:5 & monetary_score %in% 4:5 ~ \"Can’t Lose Them\",\n",
    "      recency_score %in% 1:2 & frequency_score %in% 1:2 & monetary_score %in% 1:2 ~ \"Hibernating\",\n",
    "      recency_score <= 2 & frequency_score <= 2 & monetary_score <= 2 ~ \"Lost\",\n",
    "      TRUE ~ \"Uncategorized\"\n",
    "    )\n",
    "  )\n"
   ]
  },
  {
   "cell_type": "code",
   "execution_count": 66,
   "metadata": {
    "vscode": {
     "languageId": "r"
    }
   },
   "outputs": [
    {
     "data": {
      "text/plain": [
       "\n",
       "\n",
       "Table: RFM Analysis – B2B\n",
       "\n",
       "|segment            | no_customers| avg_spending| avg_transactions| avg_recency_days| total_customers| percentage|\n",
       "|:------------------|------------:|------------:|----------------:|----------------:|---------------:|----------:|\n",
       "|Champions          |          346|     286637.7|           278.65|              1.4|            3563|        9.7|\n",
       "|Loyal Customers    |          861|     270568.3|           270.97|              3.2|            3563|       24.2|\n",
       "|Potential Loyalist |          923|     230295.2|           252.08|              2.2|            3563|       25.9|\n",
       "|New Customers      |            0|          0.0|             0.00|              0.0|            3563|        0.0|\n",
       "|Promising          |            0|          0.0|             0.00|              0.0|            3563|        0.0|\n",
       "|Need Attention     |           69|     241827.5|           258.45|              5.4|            3563|        1.9|\n",
       "|About To Sleep     |           96|     218367.9|           246.46|              5.4|            3563|        2.7|\n",
       "|At Risk            |          505|     264282.5|           267.70|              9.5|            3563|       14.2|\n",
       "|Can’t Lose Them    |            0|          0.0|             0.00|              0.0|            3563|        0.0|\n",
       "|Hibernating        |          152|     217886.3|           244.72|             10.3|            3563|        4.3|\n",
       "|Lost               |            0|          0.0|             0.00|              0.0|            3563|        0.0|\n",
       "|Uncategorized      |          611|     249902.5|           260.27|              3.9|            3563|       17.1|"
      ]
     },
     "metadata": {},
     "output_type": "display_data"
    },
    {
     "data": {
      "text/plain": [
       "\n",
       "\n",
       "Table: RFM Analysis – B2C\n",
       "\n",
       "|segment            | no_customers| avg_spending| avg_transactions| avg_recency_days| total_customers| percentage|\n",
       "|:------------------|------------:|------------:|----------------:|----------------:|---------------:|----------:|\n",
       "|Champions          |          652|     48376.31|           277.98|              1.4|            6437|       10.1|\n",
       "|Loyal Customers    |         1589|     45834.36|           271.18|              3.3|            6437|       24.7|\n",
       "|Potential Loyalist |         1646|     38665.34|           251.68|              2.2|            6437|       25.6|\n",
       "|New Customers      |            0|         0.00|             0.00|              0.0|            6437|        0.0|\n",
       "|Promising          |            0|         0.00|             0.00|              0.0|            6437|        0.0|\n",
       "|Need Attention     |          127|     40608.60|           258.06|              5.4|            6437|        2.0|\n",
       "|About To Sleep     |          187|     36348.92|           245.88|              5.5|            6437|        2.9|\n",
       "|At Risk            |          844|     44800.99|           267.18|              9.4|            6437|       13.1|\n",
       "|Can’t Lose Them    |            0|         0.00|             0.00|              0.0|            6437|        0.0|\n",
       "|Hibernating        |          257|     36537.57|           244.69|             10.5|            6437|        4.0|\n",
       "|Lost               |            0|         0.00|             0.00|              0.0|            6437|        0.0|\n",
       "|Uncategorized      |         1135|     42193.40|           260.33|              3.9|            6437|       17.6|"
      ]
     },
     "metadata": {},
     "output_type": "display_data"
    }
   ],
   "source": [
    "# B2B\n",
    "# Berechne Gesamtzahl der Kunden (für prozentuale Anteile später)\n",
    "total_customers <- nrow(rfm_segmented_b2b)\n",
    "\n",
    "# Definiere alle Segmente explizit, damit später fehlende (0-Kunden-)Segmente ergänzt werden können\n",
    "all_segments <- c(\n",
    "  \"Champions\", \"Loyal Customers\", \"Potential Loyalist\", \"New Customers\",\n",
    "  \"Promising\", \"Need Attention\", \"About To Sleep\", \"At Risk\",\n",
    "  \"Can’t Lose Them\", \"Hibernating\", \"Lost\", \"Uncategorized\"\n",
    ")\n",
    "\n",
    "# Aggregiere Kennzahlen pro RFM-Segment\n",
    "segment_analysis_b2b <- rfm_segmented_b2b %>%\n",
    "  group_by(segment) %>%\n",
    "  summarise(\n",
    "    no_customers = n(),  # Anzahl der Kunden im Segment\n",
    "    avg_spending = round(mean(amount, na.rm = TRUE), 2),  # Durchschnittlicher Gesamtumsatz pro Kunde im Segment\n",
    "    avg_transactions = round(mean(transaction_count, na.rm = TRUE), 2),  # Durchschnittliche Anzahl an Bestellungen pro Kunde\n",
    "    avg_recency_days = round(mean(recency_days, na.rm = TRUE), 1),  # Durchschnittlicher Abstand (in Tagen) zum letzten Kauf\n",
    "    .groups = \"drop\"\n",
    "  ) %>%\n",
    "  mutate(\n",
    "    total_customers = total_customers,  # Referenzwert für Gesamtzahl\n",
    "    percentage = round(100 * no_customers / total_customers, 1)  # Anteil des Segments an allen Kunden\n",
    "  ) %>%\n",
    "  # Ergänze fehlende Segmente mit 0-Kunden\n",
    "  right_join(tibble(segment = all_segments), by = \"segment\") %>%\n",
    "  replace_na(list(\n",
    "    no_customers = 0,\n",
    "    avg_spending = 0,\n",
    "    avg_transactions = 0,\n",
    "    avg_recency_days = 0,\n",
    "    percentage = 0,\n",
    "    total_customers = total_customers\n",
    "  )) %>%\n",
    "  arrange(factor(segment, levels = all_segments))  # Behalte die vorgegebene Reihenfolge der Segmente bei\n",
    "\n",
    "\n",
    "# B2C\n",
    "# Berechne Gesamtzahl der Kunden (für prozentuale Anteile später)\n",
    "total_customers <- nrow(rfm_segmented_b2c)\n",
    "\n",
    "# Definiere alle Segmente explizit, damit später fehlende (0-Kunden-)Segmente ergänzt werden können\n",
    "all_segments <- c(\n",
    "  \"Champions\", \"Loyal Customers\", \"Potential Loyalist\", \"New Customers\",\n",
    "  \"Promising\", \"Need Attention\", \"About To Sleep\", \"At Risk\",\n",
    "  \"Can’t Lose Them\", \"Hibernating\", \"Lost\", \"Uncategorized\"\n",
    ")\n",
    "\n",
    "# Aggregiere Kennzahlen pro RFM-Segment\n",
    "segment_analysis_b2c <- rfm_segmented_b2c %>%\n",
    "  group_by(segment) %>%\n",
    "  summarise(\n",
    "    no_customers = n(),  # Anzahl der Kunden im Segment\n",
    "    avg_spending = round(mean(amount, na.rm = TRUE), 2),  # Durchschnittlicher Gesamtumsatz pro Kunde im Segment\n",
    "    avg_transactions = round(mean(transaction_count, na.rm = TRUE), 2),  # Durchschnittliche Anzahl an Bestellungen pro Kunde\n",
    "    avg_recency_days = round(mean(recency_days, na.rm = TRUE), 1),  # Durchschnittlicher Abstand (in Tagen) zum letzten Kauf\n",
    "    .groups = \"drop\"\n",
    "  ) %>%\n",
    "  mutate(\n",
    "    total_customers = total_customers,  # Referenzwert für Gesamtzahl\n",
    "    percentage = round(100 * no_customers / total_customers, 1)  # Anteil des Segments an allen Kunden\n",
    "  ) %>%\n",
    "  # Ergänze fehlende Segmente mit 0-Kunden\n",
    "  right_join(tibble(segment = all_segments), by = \"segment\") %>%\n",
    "  replace_na(list(\n",
    "    no_customers = 0,\n",
    "    avg_spending = 0,\n",
    "    avg_transactions = 0,\n",
    "    avg_recency_days = 0,\n",
    "    percentage = 0,\n",
    "    total_customers = total_customers\n",
    "  )) %>%\n",
    "  arrange(factor(segment, levels = all_segments))  # Behalte die vorgegebene Reihenfolge der Segmente bei\n",
    "\n",
    "# Tabelle zur Darstellung im Report\n",
    "kable(segment_analysis_b2b, caption = \"RFM Analysis – B2B\")\n",
    "kable(segment_analysis_b2c, caption = \"RFM Analysis – B2C\")\n"
   ]
  },
  {
   "cell_type": "code",
   "execution_count": 64,
   "metadata": {
    "vscode": {
     "languageId": "r"
    }
   },
   "outputs": [
    {
     "data": {
      "text/html": [
       "<table class=\"dataframe\">\n",
       "<caption>A tibble: 10 × 7</caption>\n",
       "<thead>\n",
       "\t<tr><th scope=col>customer_id</th><th scope=col>recency_score</th><th scope=col>frequency_score</th><th scope=col>monetary_score</th><th scope=col>amount</th><th scope=col>transaction_count</th><th scope=col>recency_days</th></tr>\n",
       "\t<tr><th scope=col>&lt;chr&gt;</th><th scope=col>&lt;int&gt;</th><th scope=col>&lt;int&gt;</th><th scope=col>&lt;int&gt;</th><th scope=col>&lt;dbl&gt;</th><th scope=col>&lt;int&gt;</th><th scope=col>&lt;dbl&gt;</th></tr>\n",
       "</thead>\n",
       "<tbody>\n",
       "\t<tr><td>CUS1001</td><td>5</td><td>4</td><td>1</td><td>35749.85</td><td>268</td><td>1</td></tr>\n",
       "\t<tr><td>CUS1003</td><td>5</td><td>2</td><td>4</td><td>45890.74</td><td>254</td><td>1</td></tr>\n",
       "\t<tr><td>CUS1015</td><td>4</td><td>4</td><td>2</td><td>41273.83</td><td>268</td><td>2</td></tr>\n",
       "\t<tr><td>CUS1039</td><td>5</td><td>5</td><td>1</td><td>34475.56</td><td>275</td><td>1</td></tr>\n",
       "\t<tr><td>CUS1040</td><td>4</td><td>4</td><td>1</td><td>32852.74</td><td>273</td><td>2</td></tr>\n",
       "\t<tr><td>CUS1041</td><td>4</td><td>4</td><td>2</td><td>40552.85</td><td>270</td><td>2</td></tr>\n",
       "\t<tr><td>CUS1050</td><td>4</td><td>5</td><td>1</td><td>35897.40</td><td>283</td><td>2</td></tr>\n",
       "\t<tr><td>CUS1056</td><td>2</td><td>4</td><td>1</td><td>37257.30</td><td>268</td><td>5</td></tr>\n",
       "\t<tr><td>CUS1087</td><td>1</td><td>3</td><td>1</td><td>36951.99</td><td>261</td><td>7</td></tr>\n",
       "\t<tr><td>CUS1107</td><td>4</td><td>4</td><td>1</td><td>29230.56</td><td>267</td><td>2</td></tr>\n",
       "</tbody>\n",
       "</table>\n"
      ],
      "text/latex": [
       "A tibble: 10 × 7\n",
       "\\begin{tabular}{lllllll}\n",
       " customer\\_id & recency\\_score & frequency\\_score & monetary\\_score & amount & transaction\\_count & recency\\_days\\\\\n",
       " <chr> & <int> & <int> & <int> & <dbl> & <int> & <dbl>\\\\\n",
       "\\hline\n",
       "\t CUS1001 & 5 & 4 & 1 & 35749.85 & 268 & 1\\\\\n",
       "\t CUS1003 & 5 & 2 & 4 & 45890.74 & 254 & 1\\\\\n",
       "\t CUS1015 & 4 & 4 & 2 & 41273.83 & 268 & 2\\\\\n",
       "\t CUS1039 & 5 & 5 & 1 & 34475.56 & 275 & 1\\\\\n",
       "\t CUS1040 & 4 & 4 & 1 & 32852.74 & 273 & 2\\\\\n",
       "\t CUS1041 & 4 & 4 & 2 & 40552.85 & 270 & 2\\\\\n",
       "\t CUS1050 & 4 & 5 & 1 & 35897.40 & 283 & 2\\\\\n",
       "\t CUS1056 & 2 & 4 & 1 & 37257.30 & 268 & 5\\\\\n",
       "\t CUS1087 & 1 & 3 & 1 & 36951.99 & 261 & 7\\\\\n",
       "\t CUS1107 & 4 & 4 & 1 & 29230.56 & 267 & 2\\\\\n",
       "\\end{tabular}\n"
      ],
      "text/markdown": [
       "\n",
       "A tibble: 10 × 7\n",
       "\n",
       "| customer_id &lt;chr&gt; | recency_score &lt;int&gt; | frequency_score &lt;int&gt; | monetary_score &lt;int&gt; | amount &lt;dbl&gt; | transaction_count &lt;int&gt; | recency_days &lt;dbl&gt; |\n",
       "|---|---|---|---|---|---|---|\n",
       "| CUS1001 | 5 | 4 | 1 | 35749.85 | 268 | 1 |\n",
       "| CUS1003 | 5 | 2 | 4 | 45890.74 | 254 | 1 |\n",
       "| CUS1015 | 4 | 4 | 2 | 41273.83 | 268 | 2 |\n",
       "| CUS1039 | 5 | 5 | 1 | 34475.56 | 275 | 1 |\n",
       "| CUS1040 | 4 | 4 | 1 | 32852.74 | 273 | 2 |\n",
       "| CUS1041 | 4 | 4 | 2 | 40552.85 | 270 | 2 |\n",
       "| CUS1050 | 4 | 5 | 1 | 35897.40 | 283 | 2 |\n",
       "| CUS1056 | 2 | 4 | 1 | 37257.30 | 268 | 5 |\n",
       "| CUS1087 | 1 | 3 | 1 | 36951.99 | 261 | 7 |\n",
       "| CUS1107 | 4 | 4 | 1 | 29230.56 | 267 | 2 |\n",
       "\n"
      ],
      "text/plain": [
       "   customer_id recency_score frequency_score monetary_score amount  \n",
       "1  CUS1001     5             4               1              35749.85\n",
       "2  CUS1003     5             2               4              45890.74\n",
       "3  CUS1015     4             4               2              41273.83\n",
       "4  CUS1039     5             5               1              34475.56\n",
       "5  CUS1040     4             4               1              32852.74\n",
       "6  CUS1041     4             4               2              40552.85\n",
       "7  CUS1050     4             5               1              35897.40\n",
       "8  CUS1056     2             4               1              37257.30\n",
       "9  CUS1087     1             3               1              36951.99\n",
       "10 CUS1107     4             4               1              29230.56\n",
       "   transaction_count recency_days\n",
       "1  268               1           \n",
       "2  254               1           \n",
       "3  268               2           \n",
       "4  275               1           \n",
       "5  273               2           \n",
       "6  270               2           \n",
       "7  283               2           \n",
       "8  268               5           \n",
       "9  261               7           \n",
       "10 267               2           "
      ]
     },
     "metadata": {},
     "output_type": "display_data"
    }
   ],
   "source": [
    "# Drucke ein paar Beispiele von Uncategorized-Kunden\n",
    "rfm_segmented_b2c %>%\n",
    "  filter(segment == \"Uncategorized\") %>%\n",
    "  select(customer_id, recency_score, frequency_score, monetary_score, amount, transaction_count, recency_days) %>%\n",
    "  head(10)\n"
   ]
  },
  {
   "cell_type": "code",
   "execution_count": null,
   "metadata": {
    "vscode": {
     "languageId": "r"
    }
   },
   "outputs": [
    {
     "data": {
      "text/plain": [
       "\n",
       "\n",
       "Table: RFM Analysis – B2B\n",
       "\n",
       "|segment              | no_customers| avg_spending| avg_transactions| avg_recency_days| total_customers| percentage|\n",
       "|:--------------------|------------:|------------:|----------------:|----------------:|---------------:|----------:|\n",
       "|Champions            |          132|     50804.62|           283.86|              1.0|            6437|        2.1|\n",
       "|Loyal Customers      |          520|     47759.89|           276.48|              1.5|            6437|        8.1|\n",
       "|Potential Loyalist   |          527|     44447.95|           267.71|              1.4|            6437|        8.2|\n",
       "|New Customers        |          709|     42069.03|           261.40|              1.4|            6437|       11.0|\n",
       "|Need Attention       |          679|     46423.69|           272.65|              3.4|            6437|       10.5|\n",
       "|Promising            |          877|     39725.04|           243.83|              2.2|            6437|       13.6|\n",
       "|About To Sleep       |          186|     41095.01|           255.69|              5.4|            6437|        2.9|\n",
       "|At Risk              |          958|     41183.06|           270.35|              4.1|            6437|       14.9|\n",
       "|Can’t Lose Them      |          646|     44344.23|           270.96|              9.8|            6437|       10.0|\n",
       "|Hibernating          |          612|     38367.77|           246.15|              8.9|            6437|        9.5|\n",
       "|Lost                 |            0|         0.00|             0.00|              0.0|            6437|        0.0|\n",
       "|Active High Value    |            0|         0.00|             0.00|              0.0|            6437|        0.0|\n",
       "|Active Medium Value  |            0|         0.00|             0.00|              0.0|            6437|        0.0|\n",
       "|Dormant High Value   |          151|     46831.07|           249.87|              9.1|            6437|        2.3|\n",
       "|Occasional Shoppers  |          440|     40028.77|           255.54|              2.9|            6437|        6.8|\n",
       "|Dormant Big Spenders |            0|         0.00|             0.00|              0.0|            6437|        0.0|"
      ]
     },
     "metadata": {},
     "output_type": "display_data"
    }
   ],
   "source": [
    "# Definiere alle möglichen Segmente in der gewünschten Reihenfolge\n",
    "all_segments <- c(\n",
    "  \"Champions\", \"Loyal Customers\", \"Potential Loyalist\", \n",
    "  \"New Customers\", \"Need Attention\", \"Promising\",\n",
    "  \"About To Sleep\", \"At Risk\", \"Can’t Lose Them\",\n",
    "  \"Hibernating\", \"Lost\", \"Active High Value\",\n",
    "  \"Active Medium Value\", \"Dormant High Value\",  # \"Low\" durch \"Medium\" ersetzen\n",
    "  \"Occasional Shoppers\", \"Dormant Big Spenders\"\n",
    ")\n",
    "\n",
    "rfm_segmented_b2c <- rfm_result_b2c$rfm %>%\n",
    "  mutate(\n",
    "    segment = case_when(\n",
    "      recency_score >= 5 & frequency_score >= 5 & monetary_score >= 5 ~ \"Champions\",\n",
    "      recency_score >= 4 & frequency_score >= 4 & monetary_score >= 4 ~ \"Loyal Customers\",\n",
    "      recency_score >= 4 & frequency_score >= 3 & monetary_score >= 3 ~ \"Potential Loyalist\",\n",
    "      recency_score >= 4 & frequency_score >= 2 & monetary_score >= 2 ~ \"New Customers\",\n",
    "      recency_score >= 3 & frequency_score == 2 ~ \"Occasional Shoppers\",\n",
    "      recency_score >= 3 & frequency_score >= 3 & monetary_score >= 3 ~ \"Need Attention\",\n",
    "      recency_score >= 3 & frequency_score == 1 ~ \"Promising\",\n",
    "      recency_score >= 2 & frequency_score >= 3 ~ \"At Risk\",\n",
    "      recency_score >= 2 & frequency_score == 2 ~ \"About To Sleep\",\n",
    "      recency_score >= 1 & frequency_score >= 3 ~ \"Can’t Lose Them\",\n",
    "      recency_score >= 1 & frequency_score <= 2 & monetary_score <= 3 ~ \"Hibernating\",  # Monetary erhöht\n",
    "      recency_score <= 3 & frequency_score <= 1 & monetary_score <= 2 ~ \"Lost\",\n",
    "      recency_score >= 3 & monetary_score >= 3 ~ \"Active High Value\",\n",
    "      recency_score >= 3 & monetary_score >= 2 ~ \"Active Medium Value\",  # Neue Mittelkategorie\n",
    "      recency_score < 3 & monetary_score >= 2 ~ \"Dormant High Value\",\n",
    "      TRUE ~ \"Uncategorized\"\n",
    "    )\n",
    "  )\n",
    "segment_analysis_b2c <- rfm_segmented_b2c %>%\n",
    "  group_by(segment) %>%\n",
    "  summarise(\n",
    "    no_customers = n(),\n",
    "    avg_spending = round(mean(amount, na.rm = TRUE), 2),  # FEHLER HIER WAR EIN FEHLENDES ARGUMENT\n",
    "    avg_transactions = round(mean(transaction_count, na.rm = TRUE), 2),\n",
    "    avg_recency_days = round(mean(recency_days, na.rm = TRUE), 1),\n",
    "    .groups = \"drop\"\n",
    "  ) %>%\n",
    "  mutate(\n",
    "    total_customers = total_customers,  # Stelle sicher dass diese Variable existiert\n",
    "    percentage = round(100 * no_customers / total_customers, 1)\n",
    "  ) %>%\n",
    "  right_join(tibble(segment = all_segments), by = \"segment\") %>%\n",
    "  replace_na(list(\n",
    "    no_customers = 0,\n",
    "    avg_spending = 0,\n",
    "    avg_transactions = 0,\n",
    "    avg_recency_days = 0,\n",
    "    percentage = 0,\n",
    "    total_customers = total_customers\n",
    "  )) %>%\n",
    "  arrange(factor(segment, levels = all_segments))\n",
    "\n",
    "\n",
    "###########B2B###########\n",
    "  rfm_segmented_b2b <- rfm_result_b2b$rfm %>%\n",
    "  mutate(\n",
    "    segment = case_when(\n",
    "      recency_score >= 5 & frequency_score >= 5 & monetary_score >= 5 ~ \"Champions\",\n",
    "      recency_score >= 4 & frequency_score >= 4 & monetary_score >= 4 ~ \"Loyal Customers\",\n",
    "      recency_score >= 4 & frequency_score >= 3 & monetary_score >= 3 ~ \"Potential Loyalist\",\n",
    "      recency_score >= 4 & frequency_score >= 2 & monetary_score >= 2 ~ \"New Customers\",\n",
    "      recency_score >= 3 & frequency_score == 2 ~ \"Occasional Shoppers\",\n",
    "      recency_score >= 3 & frequency_score >= 3 & monetary_score >= 3 ~ \"Need Attention\",\n",
    "      recency_score >= 3 & frequency_score == 1 ~ \"Promising\",\n",
    "      recency_score >= 2 & frequency_score >= 3 ~ \"At Risk\",\n",
    "      recency_score >= 2 & frequency_score == 2 ~ \"About To Sleep\",\n",
    "      recency_score >= 1 & frequency_score >= 3 ~ \"Can’t Lose Them\",\n",
    "      recency_score >= 1 & frequency_score <= 2 & monetary_score <= 3 ~ \"Hibernating\",  # Monetary erhöht\n",
    "      recency_score <= 3 & frequency_score <= 1 & monetary_score <= 2 ~ \"Lost\",\n",
    "      recency_score >= 3 & monetary_score >= 3 ~ \"Active High Value\",\n",
    "      recency_score >= 3 & monetary_score >= 2 ~ \"Active Medium Value\",  # Neue Mittelkategorie\n",
    "      recency_score < 3 & monetary_score >= 2 ~ \"Dormant High Value\",\n",
    "      TRUE ~ \"Uncategorized\"\n",
    "    )\n",
    "  )\n",
    "segment_analysis_b2b <- rfm_segmented_b2b %>%\n",
    "  group_by(segment) %>%\n",
    "  summarise(\n",
    "    no_customers = n(),\n",
    "    avg_spending = round(mean(amount, na.rm = TRUE), 2),  # FEHLER HIER WAR EIN FEHLENDES ARGUMENT\n",
    "    avg_transactions = round(mean(transaction_count, na.rm = TRUE), 2),\n",
    "    avg_recency_days = round(mean(recency_days, na.rm = TRUE), 1),\n",
    "    .groups = \"drop\"\n",
    "  ) %>%\n",
    "  mutate(\n",
    "    total_customers = total_customers,  # Stelle sicher dass diese Variable existiert\n",
    "    percentage = round(100 * no_customers / total_customers, 1)\n",
    "  ) %>%\n",
    "  right_join(tibble(segment = all_segments), by = \"segment\") %>%\n",
    "  replace_na(list(\n",
    "    no_customers = 0,\n",
    "    avg_spending = 0,\n",
    "    avg_transactions = 0,\n",
    "    avg_recency_days = 0,\n",
    "    percentage = 0,\n",
    "    total_customers = total_customers\n",
    "  )) %>%\n",
    "  arrange(factor(segment, levels = all_segments))\n",
    "\n",
    "kable(segment_analysis_b2b, caption = \"RFM Analysis – B2B\")"
   ]
  },
  {
   "cell_type": "markdown",
   "metadata": {},
   "source": [
    "# Multiple linear regression ab hier"
   ]
  },
  {
   "cell_type": "code",
   "execution_count": 106,
   "metadata": {
    "vscode": {
     "languageId": "r"
    }
   },
   "outputs": [
    {
     "data": {
      "text/plain": [
       "total_price ~ unit_price + discount + region + product_category + \n",
       "    customer_type"
      ]
     },
     "metadata": {},
     "output_type": "display_data"
    }
   ],
   "source": [
    "total_price ~ unit_price + discount + region + product_category + customer_type"
   ]
  },
  {
   "cell_type": "code",
   "execution_count": 108,
   "metadata": {
    "vscode": {
     "languageId": "r"
    }
   },
   "outputs": [
    {
     "name": "stderr",
     "output_type": "stream",
     "text": [
      "Installiere Paket nach 'C:/Users/Nutzer/AppData/Local/R/win-library/4.4'\n",
      "(da 'lib' nicht spezifiziert)\n",
      "\n",
      "installiere auch Abhängigkeiten 'listenv', 'parallelly', 'future', 'globals', 'shape', 'future.apply', 'numDeriv', 'progressr', 'SQUAREM', 'diagram', 'lava', 'prodlim', 'proxy', 'iterators', 'clock', 'gower', 'hardhat', 'ipred', 'sparsevctrs', 'e1071', 'foreach', 'ModelMetrics', 'plyr', 'pROC', 'recipes', 'reshape2'\n",
      "\n",
      "\n"
     ]
    },
    {
     "name": "stdout",
     "output_type": "stream",
     "text": [
      "\n",
      "  Es gibt eine Binärversion, jedoch ist der Quelltext neuer:\n",
      "           binary source needs_compilation\n",
      "parallelly 1.43.0 1.44.0              TRUE\n",
      "\n",
      "  Binaries will be installed\n",
      "Paket 'listenv' erfolgreich ausgepackt und MD5 Summen abgeglichen\n",
      "Paket 'parallelly' erfolgreich ausgepackt und MD5 Summen abgeglichen\n",
      "Paket 'future' erfolgreich ausgepackt und MD5 Summen abgeglichen\n",
      "Paket 'globals' erfolgreich ausgepackt und MD5 Summen abgeglichen\n",
      "Paket 'shape' erfolgreich ausgepackt und MD5 Summen abgeglichen\n",
      "Paket 'future.apply' erfolgreich ausgepackt und MD5 Summen abgeglichen\n",
      "Paket 'numDeriv' erfolgreich ausgepackt und MD5 Summen abgeglichen\n",
      "Paket 'progressr' erfolgreich ausgepackt und MD5 Summen abgeglichen\n",
      "Paket 'SQUAREM' erfolgreich ausgepackt und MD5 Summen abgeglichen\n",
      "Paket 'diagram' erfolgreich ausgepackt und MD5 Summen abgeglichen\n",
      "Paket 'lava' erfolgreich ausgepackt und MD5 Summen abgeglichen\n",
      "Paket 'prodlim' erfolgreich ausgepackt und MD5 Summen abgeglichen\n",
      "Paket 'proxy' erfolgreich ausgepackt und MD5 Summen abgeglichen\n",
      "Paket 'iterators' erfolgreich ausgepackt und MD5 Summen abgeglichen\n",
      "Paket 'clock' erfolgreich ausgepackt und MD5 Summen abgeglichen\n",
      "Paket 'gower' erfolgreich ausgepackt und MD5 Summen abgeglichen\n",
      "Paket 'hardhat' erfolgreich ausgepackt und MD5 Summen abgeglichen\n",
      "Paket 'ipred' erfolgreich ausgepackt und MD5 Summen abgeglichen\n",
      "Paket 'sparsevctrs' erfolgreich ausgepackt und MD5 Summen abgeglichen\n",
      "Paket 'e1071' erfolgreich ausgepackt und MD5 Summen abgeglichen\n",
      "Paket 'foreach' erfolgreich ausgepackt und MD5 Summen abgeglichen\n",
      "Paket 'ModelMetrics' erfolgreich ausgepackt und MD5 Summen abgeglichen\n",
      "Paket 'plyr' erfolgreich ausgepackt und MD5 Summen abgeglichen\n",
      "Paket 'pROC' erfolgreich ausgepackt und MD5 Summen abgeglichen\n",
      "Paket 'recipes' erfolgreich ausgepackt und MD5 Summen abgeglichen\n",
      "Paket 'reshape2' erfolgreich ausgepackt und MD5 Summen abgeglichen\n",
      "Paket 'caret' erfolgreich ausgepackt und MD5 Summen abgeglichen\n",
      "\n",
      "Die heruntergeladenen Binärpakete sind in \n",
      "\tC:\\Users\\Nutzer\\AppData\\Local\\Temp\\RtmpE95stv\\downloaded_packages\n"
     ]
    }
   ],
   "source": [
    "install.packages(c(\"caret\"))"
   ]
  },
  {
   "cell_type": "code",
   "execution_count": 142,
   "metadata": {
    "vscode": {
     "languageId": "r"
    }
   },
   "outputs": [
    {
     "data": {
      "text/plain": [
       "\n",
       "Call:\n",
       "lm(formula = total_price ~ quantity + discount + unit_price, \n",
       "    data = train_data_b2b)\n",
       "\n",
       "Residuals:\n",
       "     Min       1Q   Median       3Q      Max \n",
       "-15584.8   -365.8    -42.7    236.2  16121.5 \n",
       "\n",
       "Coefficients:\n",
       "              Estimate Std. Error t value Pr(>|t|)    \n",
       "(Intercept) -6.110e+02  4.424e+00 -138.09   <2e-16 ***\n",
       "quantity     5.584e+00  1.019e-02  548.05   <2e-16 ***\n",
       "discount    -1.338e+03  5.094e+01  -26.27   <2e-16 ***\n",
       "unit_price   1.281e+02  1.284e-01  997.18   <2e-16 ***\n",
       "---\n",
       "Signif. codes:  0 '***' 0.001 '**' 0.01 '*' 0.05 '.' 0.1 ' ' 1\n",
       "\n",
       "Residual standard error: 949.6 on 748237 degrees of freedom\n",
       "Multiple R-squared:  0.6408,\tAdjusted R-squared:  0.6408 \n",
       "F-statistic: 4.449e+05 on 3 and 748237 DF,  p-value: < 2.2e-16\n"
      ]
     },
     "metadata": {},
     "output_type": "display_data"
    },
    {
     "data": {
      "text/plain": [
       "\n",
       "\n",
       "Table: 📈 Modellgüte der linearen Regression B2B (Testdaten)\n",
       "\n",
       "|    RMSE| R_squared|\n",
       "|-------:|---------:|\n",
       "| 940.747|     0.644|"
      ]
     },
     "metadata": {},
     "output_type": "display_data"
    },
    {
     "data": {
      "text/plain": [
       "\n",
       "Call:\n",
       "lm(formula = total_price ~ quantity + discount + unit_price, \n",
       "    data = train_data_b2c)\n",
       "\n",
       "Residuals:\n",
       "     Min       1Q   Median       3Q      Max \n",
       "-1919.40   -64.30   -10.67    34.39  2858.03 \n",
       "\n",
       "Coefficients: (1 not defined because of singularities)\n",
       "              Estimate Std. Error t value Pr(>|t|)    \n",
       "(Intercept) -112.29975    0.29939  -375.1   <2e-16 ***\n",
       "quantity       5.92601    0.00881   672.7   <2e-16 ***\n",
       "discount            NA         NA      NA       NA    \n",
       "unit_price    19.01331    0.01530  1243.0   <2e-16 ***\n",
       "---\n",
       "Signif. codes:  0 '***' 0.001 '**' 0.01 '*' 0.05 '.' 0.1 ' ' 1\n",
       "\n",
       "Residual standard error: 176.3 on 1351218 degrees of freedom\n",
       "Multiple R-squared:  0.5968,\tAdjusted R-squared:  0.5968 \n",
       "F-statistic: 1e+06 on 2 and 1351218 DF,  p-value: < 2.2e-16\n"
      ]
     },
     "metadata": {},
     "output_type": "display_data"
    },
    {
     "data": {
      "text/plain": [
       "\n",
       "\n",
       "Table: 📈 Modellgüte der linearen Regression B2C (Testdaten)\n",
       "\n",
       "|    RMSE| R_squared|\n",
       "|-------:|---------:|\n",
       "| 176.871|     0.596|"
      ]
     },
     "metadata": {},
     "output_type": "display_data"
    }
   ],
   "source": [
    "# Vorhersage des Gesamtpreises (total_price) auf Basis der anderen Variablen (quantity, discount, unit_price)\n",
    "# Modell berechnet wie stark jeder dieser drei faktoren den gesmamtpreis beeinflusst\n",
    "\n",
    "# Daten vorbereiten\n",
    "regression_data_b2b <- numeric_invoice_wise_b2b %>%\n",
    "  select(\n",
    "    total_price,   # Zielvariable\n",
    "    quantity,      # Prädiktor 1: Stückzahl pro Rechnung\n",
    "    discount,      # Prädiktor 2: Durchschnittsrabatt\n",
    "    unit_price     # Prädiktor 3: Durchschnittspreis pro Einheit\n",
    "  ) %>%\n",
    "  na.omit()\n",
    "\n",
    "# Train/Test-Split (80/20)\n",
    "set.seed(123)\n",
    "train_index_b2b <- createDataPartition(regression_data_b2b$total_price, p = 0.8, list = FALSE)\n",
    "train_data_b2b <- regression_data_b2b[train_index_b2b, ]\n",
    "test_data_b2b <- regression_data_b2b[-train_index_b2b, ]\n",
    "\n",
    "# Modell trainieren\n",
    "model_b2b <- lm(total_price ~ quantity + discount + unit_price, data = train_data_b2b)\n",
    "summary(model_b2b)\n",
    "\n",
    "# Evaluation\n",
    "predictions_b2b <- predict(model_b2b, newdata = test_data_b2b)\n",
    "performance_b2b <- data.frame(\n",
    "  RMSE = RMSE(predictions_b2b, test_data_b2b$total_price),\n",
    "  R_squared = R2(predictions_b2b, test_data_b2b$total_price)\n",
    ")\n",
    "\n",
    "kable(performance_b2b, digits = 3, caption = \"📈 Modellgüte der linearen Regression B2B (Testdaten)\")\n",
    "\n",
    "#########B2C#########\n",
    "regression_data_b2c <- numeric_invoice_wise_b2c %>%\n",
    "  select(\n",
    "    total_price,   # Zielvariable\n",
    "    quantity,      # Prädiktor 1: Stückzahl pro Rechnung\n",
    "    discount,      # Prädiktor 2: Durchschnittsrabatt\n",
    "    unit_price     # Prädiktor 3: Durchschnittspreis pro Einheit\n",
    "  ) %>%\n",
    "  na.omit()\n",
    "\n",
    "# Train/Test-Split (80/20)\n",
    "set.seed(123)\n",
    "train_index_b2c <- createDataPartition(regression_data_b2c$total_price, p = 0.8, list = FALSE)\n",
    "train_data_b2c <- regression_data_b2c[train_index_b2c, ]\n",
    "test_data_b2c <- regression_data_b2c[-train_index_b2c, ]\n",
    "\n",
    "# Modell trainieren\n",
    "model_b2c <- lm(total_price ~ quantity + discount + unit_price, data = train_data_b2c)\n",
    "summary(model_b2c)\n",
    "\n",
    "# Evaluation\n",
    "predictions_b2c <- predict(model_b2c, newdata = test_data_b2c)\n",
    "performance_b2c <- data.frame(\n",
    "  RMSE = RMSE(predictions_b2c, test_data_b2c$total_price),\n",
    "  R_squared = R2(predictions_b2c, test_data_b2c$total_price)\n",
    ")\n",
    "\n",
    "kable(performance_b2c, digits = 3, caption = \"📈 Modellgüte der linearen Regression B2C (Testdaten)\")"
   ]
  },
  {
   "cell_type": "code",
   "execution_count": 145,
   "metadata": {
    "vscode": {
     "languageId": "r"
    }
   },
   "outputs": [
    {
     "data": {
      "text/plain": [
       "\n",
       "Call:\n",
       "lm(formula = total_price ~ quantity + discount + unit_price + \n",
       "    region + quarter, data = train_data_b2b)\n",
       "\n",
       "Residuals:\n",
       "     Min       1Q   Median       3Q      Max \n",
       "-14236.0   -329.1    -38.0    209.0  13209.4 \n",
       "\n",
       "Coefficients:\n",
       "                               Estimate Std. Error  t value Pr(>|t|)    \n",
       "(Intercept)                   -554.5698     5.5255 -100.365  < 2e-16 ***\n",
       "quantity                         5.5372     0.0109  507.851  < 2e-16 ***\n",
       "discount                     -1207.2195    41.5220  -29.074  < 2e-16 ***\n",
       "unit_price                     118.6253     0.1039 1141.578  < 2e-16 ***\n",
       "regionBayern                    -0.2001     5.3246   -0.038   0.9700    \n",
       "regionBerlin                    -2.7625     5.2728   -0.524   0.6003    \n",
       "regionBrandenburg               -3.0528     5.3354   -0.572   0.5672    \n",
       "regionBremen                   -27.9364     5.2503   -5.321 1.03e-07 ***\n",
       "regionHamburg                    2.6056     5.1380    0.507   0.6121    \n",
       "regionHessen                     2.8660     5.1719    0.554   0.5795    \n",
       "regionMecklenburg-Vorpommern    -0.3406     5.2193   -0.065   0.9480    \n",
       "regionNiedersachsen             -9.2492     5.3708   -1.722   0.0850 .  \n",
       "regionNordrhein-Westfalen      -10.4524     5.3192   -1.965   0.0494 *  \n",
       "regionRheinland-Pfalz           -9.3442     5.2051   -1.795   0.0726 .  \n",
       "regionSaarland                  -0.3561     5.1779   -0.069   0.9452    \n",
       "regionSachsen                    0.8800     5.3457    0.165   0.8693    \n",
       "regionSachsen-Anhalt           -12.7224     5.3272   -2.388   0.0169 *  \n",
       "regionSchleswig-Holstein        -4.1857     5.3729   -0.779   0.4359    \n",
       "regionThüringen                 -5.4797     5.2601   -1.042   0.2975    \n",
       "quarter                         -0.7465     0.8250   -0.905   0.3656    \n",
       "---\n",
       "Signif. codes:  0 '***' 0.001 '**' 0.01 '*' 0.05 '.' 0.1 ' ' 1\n",
       "\n",
       "Residual standard error: 851.9 on 855027 degrees of freedom\n",
       "Multiple R-squared:  0.6539,\tAdjusted R-squared:  0.6539 \n",
       "F-statistic: 8.504e+04 on 19 and 855027 DF,  p-value: < 2.2e-16\n"
      ]
     },
     "metadata": {},
     "output_type": "display_data"
    },
    {
     "data": {
      "text/plain": [
       "\n",
       "\n",
       "Table: 📈 Modellgüte der linearen Regression B2B (Testdaten)\n",
       "\n",
       "|    RMSE| R_squared|\n",
       "|-------:|---------:|\n",
       "| 863.355|     0.648|"
      ]
     },
     "metadata": {},
     "output_type": "display_data"
    },
    {
     "data": {
      "text/plain": [
       "\n",
       "Call:\n",
       "lm(formula = total_price ~ quantity + discount + unit_price + \n",
       "    region + quarter, data = train_data_b2c)\n",
       "\n",
       "Residuals:\n",
       "     Min       1Q   Median       3Q      Max \n",
       "-1755.71   -58.52    -9.89    30.31  1974.71 \n",
       "\n",
       "Coefficients: (1 not defined because of singularities)\n",
       "                               Estimate Std. Error  t value Pr(>|t|)    \n",
       "(Intercept)                  -1.031e+02  6.365e-01 -161.951  < 2e-16 ***\n",
       "quantity                      5.929e+00  9.476e-03  625.722  < 2e-16 ***\n",
       "discount                             NA         NA       NA       NA    \n",
       "unit_price                    1.746e+01  1.239e-02 1409.791  < 2e-16 ***\n",
       "regionBayern                 -5.242e-01  7.264e-01   -0.722   0.4705    \n",
       "regionBerlin                  1.770e-01  7.344e-01    0.241   0.8095    \n",
       "regionBrandenburg            -1.616e+00  7.382e-01   -2.190   0.0286 *  \n",
       "regionBremen                 -4.659e+00  7.255e-01   -6.422 1.35e-10 ***\n",
       "regionHamburg                 5.392e-01  7.177e-01    0.751   0.4525    \n",
       "regionHessen                 -7.199e-01  7.447e-01   -0.967   0.3337    \n",
       "regionMecklenburg-Vorpommern -9.408e-01  7.406e-01   -1.270   0.2039    \n",
       "regionNiedersachsen          -3.952e-01  7.132e-01   -0.554   0.5795    \n",
       "regionNordrhein-Westfalen    -7.154e-01  7.208e-01   -0.993   0.3209    \n",
       "regionRheinland-Pfalz        -8.748e-01  7.244e-01   -1.208   0.2272    \n",
       "regionSaarland               -4.395e-01  7.296e-01   -0.602   0.5469    \n",
       "regionSachsen                -5.031e-01  7.167e-01   -0.702   0.4826    \n",
       "regionSachsen-Anhalt         -1.454e+00  7.308e-01   -1.989   0.0467 *  \n",
       "regionSchleswig-Holstein     -6.178e-01  7.180e-01   -0.860   0.3896    \n",
       "regionThüringen              -7.899e-01  7.276e-01   -1.086   0.2776    \n",
       "quarter                       2.441e-01  1.151e-01    2.120   0.0340 *  \n",
       "---\n",
       "Signif. codes:  0 '***' 0.001 '**' 0.01 '*' 0.05 '.' 0.1 ' ' 1\n",
       "\n",
       "Residual standard error: 159.7 on 1544936 degrees of freedom\n",
       "Multiple R-squared:  0.6065,\tAdjusted R-squared:  0.6065 \n",
       "F-statistic: 1.323e+05 on 18 and 1544936 DF,  p-value: < 2.2e-16\n"
      ]
     },
     "metadata": {},
     "output_type": "display_data"
    },
    {
     "data": {
      "text/plain": [
       "\n",
       "\n",
       "Table: 📈 Modellgüte der linearen Regression B2C (Testdaten)\n",
       "\n",
       "|    RMSE| R_squared|\n",
       "|-------:|---------:|\n",
       "| 160.433|     0.603|"
      ]
     },
     "metadata": {},
     "output_type": "display_data"
    }
   ],
   "source": [
    "library(dplyr)\n",
    "library(lubridate)\n",
    "\n",
    "regression_data_b2b <- full_invoice_wise_b2b %>%\n",
    "  mutate(\n",
    "    order_date = as.Date(order_date),\n",
    "    year = year(order_date),\n",
    "    month = month(order_date),\n",
    "    quarter = quarter(order_date),\n",
    "    region = as.factor(region)  # Keine Leerzeichen oder Tippfehler!\n",
    "  ) %>%\n",
    "  select(\n",
    "    total_price,\n",
    "    quantity,\n",
    "    discount,\n",
    "    unit_price,\n",
    "    region,  # Sicherstellen, dass region ausgewählt ist\n",
    "    quarter\n",
    "  ) %>%\n",
    "  na.omit()\n",
    "\n",
    "  # Train/Test-Split\n",
    "set.seed(123)\n",
    "train_index_b2b <- createDataPartition(regression_data_b2b$total_price, p = 0.8, list = FALSE)\n",
    "train_data_b2b <- regression_data_b2b[train_index_b2b, ]\n",
    "test_data_b2b <- regression_data_b2b[-train_index_b2b, ]\n",
    "\n",
    "# Modell mit Region und Quartal\n",
    "model_b2b <- lm(\n",
    "  total_price ~ quantity + discount + unit_price + region + quarter,\n",
    "  data = train_data_b2b  # Verwenden Sie den korrigierten Datensatz\n",
    ")\n",
    "\n",
    "# Ergebnisse anzeigen\n",
    "summary(model_b2b)\n",
    "\n",
    "predictions_b2b <- predict(model_b2b, newdata = test_data_b2b)\n",
    "performance_b2b <- data.frame(\n",
    "  RMSE = RMSE(predictions_b2b, test_data_b2b$total_price),\n",
    "  R_squared = R2(predictions_b2b, test_data_b2b$total_price)\n",
    ")\n",
    "\n",
    "kable(performance_b2b, digits = 3, caption = \"📈 Modellgüte der linearen Regression B2B (Testdaten)\")\n",
    "\n",
    "\n",
    "\n",
    "regression_data_b2c <- full_invoice_wise_b2c %>%\n",
    "  mutate(\n",
    "    order_date = as.Date(order_date),\n",
    "    year = year(order_date),\n",
    "    month = month(order_date),\n",
    "    quarter = quarter(order_date),\n",
    "    region = as.factor(region)  # Keine Leerzeichen oder Tippfehler!\n",
    "  ) %>%\n",
    "  select(\n",
    "    total_price,\n",
    "    quantity,\n",
    "    discount,\n",
    "    unit_price,\n",
    "    region,  # Sicherstellen, dass region ausgewählt ist\n",
    "    quarter\n",
    "  ) %>%\n",
    "  na.omit()\n",
    "\n",
    "  # Train/Test-Split\n",
    "set.seed(123)\n",
    "train_index_b2c <- createDataPartition(regression_data_b2c$total_price, p = 0.8, list = FALSE)\n",
    "train_data_b2c <- regression_data_b2c[train_index_b2c, ]\n",
    "test_data_b2c <- regression_data_b2c[-train_index_b2c, ]\n",
    "\n",
    "# Modell mit Region und Quartal\n",
    "model_b2c <- lm(\n",
    "  total_price ~ quantity + discount + unit_price + region + quarter,\n",
    "  data = train_data_b2c  # Verwenden Sie den korrigierten Datensatz\n",
    ")\n",
    "\n",
    "# Ergebnisse anzeigen\n",
    "summary(model_b2c)\n",
    "\n",
    "predictions_b2c <- predict(model_b2c, newdata = test_data_b2c)\n",
    "performance_b2c <- data.frame(\n",
    "  RMSE = RMSE(predictions_b2c, test_data_b2c$total_price),\n",
    "  R_squared = R2(predictions_b2c, test_data_b2c$total_price)\n",
    ")\n",
    "\n",
    "kable(performance_b2c, digits = 3, caption = \"📈 Modellgüte der linearen Regression B2C (Testdaten)\")"
   ]
  },
  {
   "cell_type": "markdown",
   "metadata": {},
   "source": [
    "Interpretation der Regressionsergebnisse\n",
    "Hier sind die zentralen Erkenntnisse aus dem Modell und ihre geschäftliche Bedeutung:\n",
    "\n",
    "1. Kernvariablen: Mengen, Rabatte & Stückpreise\n",
    "Variable\tKoeffizient\tInterpretation\n",
    "quantity\t+5.54\tJede zusätzliche Einheit steigert den Umsatz um €5.54 pro Rechnung.\n",
    "discount\t–1,207.22\tEin 1%-Punkt höherer Rabatt reduziert den Umsatz um €1,207.22 pro Rechnung.\n",
    "unit_price\t+118.63\tEine €1 Erhöhung des Stückpreises steigert den Umsatz um €118.63 pro Rechnung.\n",
    "Warum ist das wichtig?\n",
    "\n",
    "Preiselastizität: Der starke Effekt von unit_price zeigt, dass Preiserhöhungen den Umsatz deutlich steigern – ein Hebel für Margenoptimierung.\n",
    "\n",
    "Rabatt-Dilemma: Rabatte senken den Umsatz drastisch. Ein 5%-Rabatt kostet im Schnitt €6,036.10 pro Rechnung – das muss durch höhere Absatzmengen kompensiert werden.\n",
    "\n",
    "2. Regionale Unterschiede\n",
    "Die Referenzregion ist Baden-Württemberg (nicht explizit aufgeführt, da sie als Baseline dient).\n",
    "\n",
    "Region\tKoeffizient\tBedeutung\n",
    "Bremen\t–27.94\tUmsätze sind €27.94 niedriger als in Baden-Württemberg.\n",
    "Nordrhein-Westfalen\t–10.45\t€10.45 niedriger (schwach signifikant).\n",
    "Sachsen-Anhalt\t–12.72\t€12.72 niedriger.\n",
    "Alle anderen Regionen\tNicht signifikant\tKein relevanter Unterschied zur Referenz.\n",
    "Handlungsempfehlungen:\n",
    "\n",
    "Bremen: Gezielte Rabatte oder Marketingkampagnen, um die niedrigen Umsätze auszugleichen.\n",
    "\n",
    "Nordrhein-Westfalen/Sachsen-Anhalt: Analyse, warum diese Regionen unterdurchschnittlich abschneiden (z.B. Wettbewerb, Distributionsprobleme).\n",
    "\n",
    "3. Saisonalität (Quartal)\n",
    "Koeffizient: –0.75 (nicht signifikant, *p = 0.365*).\n",
    "\n",
    "Interpretation: Es gibt keine starken saisonalen Umsatzschwankungen auf Quartalsebene.\n",
    "\n",
    "Implikation:\n",
    "\n",
    "Saisonale Effekte sind entweder vernachlässigbar oder müssen feiner analysiert werden (z.B. monatlich oder produktspezifisch).\n",
    "\n",
    "4. Modellgüte\n",
    "R² = 0.654: Das Modell erklärt 65.4% der Umsatzvarianz – sehr gut für reale Geschäftsdaten.\n",
    "\n",
    "RMSE = €851.90: Die durchschnittliche Vorhersageabweichung beträgt €851.90 pro Rechnung.\n",
    "\n",
    "Beispiel: Bei einem tatsächlichen Umsatz von €5.000 liegt die Prognose zwischen €4,148.10 und €5,851.90.\n",
    "\n",
    "Strategische Empfehlungen\n",
    "Preisstrategie priorisieren:\n",
    "\n",
    "Nutzen Sie den starken Effekt von unit_price. Eine €2 Preiserhöhung generiert im Schnitt €237.26 mehr Umsatz pro Rechnung.\n",
    "\n",
    "Achtung: Prüfen Sie, ob höhere Preise die Absatzmenge (quantity) reduzieren.\n",
    "\n",
    "Rabattkontrolle einführen:\n",
    "\n",
    "Setzen Sie Rabatte nur ein, wenn die erwartete Mengensteigerung den Umsatzverlust kompensiert:\n",
    "Erforderliche Mengensteigerung = (1,207.22 * Rabatt) / 5.54.\n",
    "Beispiel: Bei 5% Rabatt benötigen Sie 109 zusätzliche Einheiten pro Rechnung.\n",
    "\n",
    "Regionale Fokussierung:\n",
    "\n",
    "Bremen: Testen Sie lokale Promotionen (z.B. \"Kostenloser Versand ab €500\").\n",
    "\n",
    "Nordrhein-Westfalen: Analysieren Sie Wettbewerberpreise in der Region.\n",
    "\n",
    "Fehlende Einflussfaktoren identifizieren:\n",
    "\n",
    "36.6% unerklärte Varianz deuten auf weitere Treiber hin:\n",
    "\n",
    "Produktkategorien: Wirken Rabatte bei \"Alkoholika\" anders als bei \"Wasser\"?\n",
    "\n",
    "Kundensegmente: Nutzen Sie RFM-Segmente als zusätzliche Prädiktoren.\n",
    "\n",
    "Zusammenfassung\n",
    "Das Modell bestätigt grundlegende Zusammenhänge, liefert aber auch überraschende Einblicke:\n",
    "\n",
    "Rabatte sind extrem kostspielig – sie müssen strategisch eingesetzt werden.\n",
    "\n",
    "Regionale Unterschiede sind klein, aber in Bremen signifikant.\n",
    "\n",
    "Preiserhöhungen sind der stärkste Hebel für höhere Umsätze.\n",
    "\n",
    "Nächste Schritte:\n",
    "\n",
    "Fügen Sie Interaktionsterme hinzu (z.B. discount * region), um regional unterschiedliche Rabattwirkungen zu testen.\n",
    "\n",
    "Analysieren Sie nichtlineare Effekte (z.B. abnehmender Grenznutzen von Rabatten).\n",
    "\n",
    "Erweitern Sie das Modell um Produktkategorien oder Kundensegmente.\n",
    "\n",
    "Mit diesen Erkenntnissen können Sie datengetriebene Entscheidungen treffen – von der Preisgestaltung bis zur regionalen Steuerung! 🚀"
   ]
  },
  {
   "cell_type": "code",
   "execution_count": 146,
   "metadata": {
    "vscode": {
     "languageId": "r"
    }
   },
   "outputs": [
    {
     "data": {
      "text/plain": [
       "\n",
       "Call:\n",
       "lm(formula = total_price ~ quantity + discount + unit_price + \n",
       "    region, data = regression_b2b)\n",
       "\n",
       "Residuals:\n",
       "     Min       1Q   Median       3Q      Max \n",
       "-14390.9   -330.1    -38.2    209.3  14349.6 \n",
       "\n",
       "Coefficients:\n",
       "                               Estimate Std. Error  t value Pr(>|t|)    \n",
       "(Intercept)                  -5.582e+02  4.602e+00 -121.285  < 2e-16 ***\n",
       "quantity                      5.548e+00  9.780e-03  567.303  < 2e-16 ***\n",
       "discount                     -1.205e+03  3.723e+01  -32.363  < 2e-16 ***\n",
       "unit_price                    1.184e+02  9.303e-02 1272.619  < 2e-16 ***\n",
       "regionBayern                  2.453e+00  4.775e+00    0.514   0.6075    \n",
       "regionBerlin                 -3.126e+00  4.733e+00   -0.660   0.5090    \n",
       "regionBrandenburg            -1.672e+00  4.790e+00   -0.349   0.7271    \n",
       "regionBremen                 -2.701e+01  4.714e+00   -5.730 1.01e-08 ***\n",
       "regionHamburg                 2.970e+00  4.616e+00    0.643   0.5200    \n",
       "regionHessen                  6.973e-01  4.642e+00    0.150   0.8806    \n",
       "regionMecklenburg-Vorpommern  7.610e-01  4.685e+00    0.162   0.8710    \n",
       "regionNiedersachsen          -6.828e+00  4.819e+00   -1.417   0.1565    \n",
       "regionNordrhein-Westfalen    -1.015e+01  4.773e+00   -2.126   0.0335 *  \n",
       "regionRheinland-Pfalz        -6.328e+00  4.676e+00   -1.353   0.1760    \n",
       "regionSaarland               -2.049e+00  4.645e+00   -0.441   0.6592    \n",
       "regionSachsen                 3.193e+00  4.800e+00    0.665   0.5059    \n",
       "regionSachsen-Anhalt         -9.881e+00  4.784e+00   -2.066   0.0389 *  \n",
       "regionSchleswig-Holstein     -2.882e+00  4.823e+00   -0.598   0.5502    \n",
       "regionThüringen              -3.478e+00  4.721e+00   -0.737   0.4613    \n",
       "---\n",
       "Signif. codes:  0 '***' 0.001 '**' 0.01 '*' 0.05 '.' 0.1 ' ' 1\n",
       "\n",
       "Residual standard error: 854.2 on 1068789 degrees of freedom\n",
       "Multiple R-squared:  0.6526,\tAdjusted R-squared:  0.6526 \n",
       "F-statistic: 1.116e+05 on 18 and 1068789 DF,  p-value: < 2.2e-16\n"
      ]
     },
     "metadata": {},
     "output_type": "display_data"
    },
    {
     "data": {
      "text/plain": [
       "\n",
       "Call:\n",
       "lm(formula = total_price ~ quantity + discount + unit_price + \n",
       "    region, data = regression_b2c)\n",
       "\n",
       "Residuals:\n",
       "     Min       1Q   Median       3Q      Max \n",
       "-1755.59   -58.60    -9.90    30.38  2187.79 \n",
       "\n",
       "Coefficients: (1 not defined because of singularities)\n",
       "                               Estimate Std. Error  t value Pr(>|t|)    \n",
       "(Intercept)                  -1.028e+02  5.076e-01 -202.474  < 2e-16 ***\n",
       "quantity                      5.934e+00  8.482e-03  699.619  < 2e-16 ***\n",
       "discount                             NA         NA       NA       NA    \n",
       "unit_price                    1.747e+01  1.110e-02 1573.483  < 2e-16 ***\n",
       "regionBayern                 -2.048e-01  6.503e-01   -0.315   0.7528    \n",
       "regionBerlin                 -7.620e-02  6.575e-01   -0.116   0.9077    \n",
       "regionBrandenburg            -9.080e-01  6.602e-01   -1.375   0.1690    \n",
       "regionBremen                 -4.509e+00  6.497e-01   -6.940 3.91e-12 ***\n",
       "regionHamburg                 2.743e-01  6.422e-01    0.427   0.6693    \n",
       "regionHessen                 -2.941e-01  6.665e-01   -0.441   0.6590    \n",
       "regionMecklenburg-Vorpommern -3.291e-01  6.633e-01   -0.496   0.6197    \n",
       "regionNiedersachsen          -5.285e-02  6.387e-01   -0.083   0.9341    \n",
       "regionNordrhein-Westfalen    -4.901e-01  6.448e-01   -0.760   0.4472    \n",
       "regionRheinland-Pfalz        -8.960e-01  6.483e-01   -1.382   0.1670    \n",
       "regionSaarland                2.435e-01  6.529e-01    0.373   0.7092    \n",
       "regionSachsen                -5.329e-01  6.416e-01   -0.830   0.4063    \n",
       "regionSachsen-Anhalt         -1.300e+00  6.542e-01   -1.987   0.0469 *  \n",
       "regionSchleswig-Holstein     -8.459e-01  6.428e-01   -1.316   0.1882    \n",
       "regionThüringen              -5.825e-01  6.511e-01   -0.895   0.3709    \n",
       "---\n",
       "Signif. codes:  0 '***' 0.001 '**' 0.01 '*' 0.05 '.' 0.1 ' ' 1\n",
       "\n",
       "Residual standard error: 159.8 on 1931174 degrees of freedom\n",
       "Multiple R-squared:  0.6059,\tAdjusted R-squared:  0.6059 \n",
       "F-statistic: 1.746e+05 on 17 and 1931174 DF,  p-value: < 2.2e-16\n"
      ]
     },
     "metadata": {},
     "output_type": "display_data"
    }
   ],
   "source": [
    "# B2B-Daten\n",
    "regression_b2b <- full_invoice_wise_b2b %>%\n",
    "  mutate(region = as.factor(region)) %>%\n",
    "  select(total_price, quantity, discount, unit_price, region)\n",
    "\n",
    "# B2C-Daten\n",
    "regression_b2c <- full_invoice_wise_b2c %>%  # Annahme: full_invoice_wise_b2c existiert analog\n",
    "  mutate(region = as.factor(region)) %>%\n",
    "  select(total_price, quantity, discount, unit_price, region)\n",
    "\n",
    "  # B2B-Modell\n",
    "model_b2b <- lm(total_price ~ quantity + discount + unit_price + region, data = regression_b2b)\n",
    "\n",
    "# B2C-Modell\n",
    "model_b2c <- lm(total_price ~ quantity + discount + unit_price + region, data = regression_b2c)\n",
    "\n",
    "# Ergebnisse vergleichen\n",
    "summary(model_b2b)\n",
    "summary(model_b2c)"
   ]
  },
  {
   "cell_type": "code",
   "execution_count": 147,
   "metadata": {
    "vscode": {
     "languageId": "r"
    }
   },
   "outputs": [],
   "source": [
    "combined_data <- bind_rows(\n",
    "  full_invoice_wise_b2b %>% mutate(customer_type = \"B2B\"),\n",
    "  full_invoice_wise_b2c %>% mutate(customer_type = \"B2C\")\n",
    ") %>%\n",
    "  mutate(\n",
    "    customer_type = as.factor(customer_type),\n",
    "    region = as.factor(region)\n",
    "  )"
   ]
  },
  {
   "cell_type": "code",
   "execution_count": 148,
   "metadata": {
    "vscode": {
     "languageId": "r"
    }
   },
   "outputs": [
    {
     "data": {
      "text/plain": [
       "\n",
       "Call:\n",
       "lm(formula = total_price ~ quantity + discount + unit_price + \n",
       "    region + customer_type + quantity:customer_type + discount:customer_type + \n",
       "    unit_price:customer_type, data = combined_data)\n",
       "\n",
       "Residuals:\n",
       "     Min       1Q   Median       3Q      Max \n",
       "-14387.2    -90.9    -12.3     51.0  14350.0 \n",
       "\n",
       "Coefficients: (1 not defined because of singularities)\n",
       "                               Estimate Std. Error   t value Pr(>|t|)    \n",
       "(Intercept)                  -5.604e+02  2.313e+00  -242.326  < 2e-16 ***\n",
       "quantity                      5.548e+00  6.020e-03   921.740  < 2e-16 ***\n",
       "discount                     -1.205e+03  2.292e+01   -52.590  < 2e-16 ***\n",
       "unit_price                    1.184e+02  5.725e-02  2068.200  < 2e-16 ***\n",
       "regionBayern                  7.288e-01  1.730e+00     0.421   0.6735    \n",
       "regionBerlin                 -1.123e+00  1.736e+00    -0.647   0.5176    \n",
       "regionBrandenburg            -1.137e+00  1.748e+00    -0.651   0.5153    \n",
       "regionBremen                 -1.254e+01  1.721e+00    -7.286 3.18e-13 ***\n",
       "regionHamburg                 1.346e+00  1.695e+00     0.794   0.4272    \n",
       "regionHessen                  2.738e-01  1.737e+00     0.158   0.8747    \n",
       "regionMecklenburg-Vorpommern  2.175e-01  1.739e+00     0.125   0.9004    \n",
       "regionNiedersachsen          -2.315e+00  1.714e+00    -1.351   0.1769    \n",
       "regionNordrhein-Westfalen    -3.793e+00  1.720e+00    -2.205   0.0274 *  \n",
       "regionRheinland-Pfalz        -2.812e+00  1.713e+00    -1.641   0.1007    \n",
       "regionSaarland               -5.140e-01  1.716e+00    -0.299   0.7646    \n",
       "regionSachsen                 6.537e-01  1.717e+00     0.381   0.7035    \n",
       "regionSachsen-Anhalt         -4.294e+00  1.737e+00    -2.472   0.0134 *  \n",
       "regionSchleswig-Holstein     -1.569e+00  1.722e+00    -0.911   0.3622    \n",
       "regionThüringen              -1.576e+00  1.724e+00    -0.914   0.3606    \n",
       "customer_typeB2C              4.588e+02  2.138e+00   214.538  < 2e-16 ***\n",
       "quantity:customer_typeB2C     3.857e-01  2.854e-02    13.512  < 2e-16 ***\n",
       "discount:customer_typeB2C            NA         NA        NA       NA    \n",
       "unit_price:customer_typeB2C  -1.009e+02  6.790e-02 -1486.567  < 2e-16 ***\n",
       "---\n",
       "Signif. codes:  0 '***' 0.001 '**' 0.01 '*' 0.05 '.' 0.1 ' ' 1\n",
       "\n",
       "Residual standard error: 525.7 on 2999978 degrees of freedom\n",
       "Multiple R-squared:  0.6938,\tAdjusted R-squared:  0.6938 \n",
       "F-statistic: 3.238e+05 on 21 and 2999978 DF,  p-value: < 2.2e-16\n"
      ]
     },
     "metadata": {},
     "output_type": "display_data"
    }
   ],
   "source": [
    "model_combined <- lm(\n",
    "  total_price ~ quantity + discount + unit_price + region + customer_type +\n",
    "    quantity:customer_type + discount:customer_type + unit_price:customer_type,\n",
    "  data = combined_data\n",
    ")\n",
    "\n",
    "# Ergebnisse interpretieren\n",
    "summary(model_combined)"
   ]
  },
  {
   "cell_type": "code",
   "execution_count": 135,
   "metadata": {
    "vscode": {
     "languageId": "r"
    }
   },
   "outputs": [
    {
     "name": "stderr",
     "output_type": "stream",
     "text": [
      "Warning message:\n",
      "\"Paket 'broom' wird gerade benutzt und deshab nicht installiert\"\n"
     ]
    }
   ],
   "source": [
    "install.packages(\"broom\")  # Falls noch nicht installiert\n",
    "library(broom)              # Für tidy()\n",
    "library(dplyr)\n",
    "library(ggplot2)"
   ]
  },
  {
   "cell_type": "code",
   "execution_count": 152,
   "metadata": {
    "vscode": {
     "languageId": "r"
    }
   },
   "outputs": [
    {
     "name": "stderr",
     "output_type": "stream",
     "text": [
      "Warning message:\n",
      "\"\u001b[1m\u001b[22mRemoved 1 row containing missing values or values outside the scale range\n",
      "(`geom_col()`).\"\n"
     ]
    },
    {
     "data": {
      "image/png": "[encoded data removed]",
      "text/plain": [
       "plot without title"
      ]
     },
     "metadata": {
      "image/png": {
       "height": 420,
       "width": 420
      }
     },
     "output_type": "display_data"
    }
   ],
   "source": [
    "# Koeffizienten für B2B\n",
    "coef_b2b <- tidy(model_b2b) %>% \n",
    "  mutate(group = \"B2B\")\n",
    "\n",
    "# Koeffizienten für B2C\n",
    "coef_b2c <- tidy(model_b2c) %>% \n",
    "  mutate(group = \"B2C\")\n",
    "\n",
    "# Kombinieren\n",
    "combined_coef <- bind_rows(coef_b2b, coef_b2c)\n",
    "\n",
    "# Für B2B\n",
    "coef_b2b <- data.frame(\n",
    "  term = names(coef(model_b2b)),\n",
    "  estimate = coef(model_b2b),\n",
    "  group = \"B2B\"\n",
    ")\n",
    "\n",
    "# Für B2C\n",
    "coef_b2c <- data.frame(\n",
    "  term = names(coef(model_b2c)),\n",
    "  estimate = coef(model_b2c),\n",
    "  group = \"B2C\"\n",
    ")\n",
    "\n",
    "# Kombinieren\n",
    "combined_coef <- bind_rows(coef_b2b, coef_b2c)\n",
    "\n",
    "ggplot(combined_coef %>% \n",
    "         filter(term %in% c(\"quantity\", \"discount\", \"unit_price\")), \n",
    "       aes(x = term, y = estimate, fill = group)) +\n",
    "  geom_col(position = \"dodge\") +  # Verwenden Sie geom_col() statt geom_bar(stat = \"identity\")\n",
    "  labs(\n",
    "    title = \"B2B vs. B2C: Einflussfaktoren im Vergleich\",\n",
    "    x = \"Variable\",\n",
    "    y = \"Koeffizient\",\n",
    "    fill = \"Kundentyp\"\n",
    "  ) +\n",
    "  theme_minimal() +\n",
    "  scale_fill_manual(values = c(\"B2B\" = \"#1f78b4\", \"B2C\" = \"#33a02c\"))  # Farben anpassen"
   ]
  },
  {
   "cell_type": "markdown",
   "metadata": {},
   "source": [
    "Interpretation der Regressionsergebnisse (B2B vs. B2C)\n",
    "Hier sind die zentralen Erkenntnisse und ihre geschäftliche Bedeutung:\n",
    "\n",
    "1. Haupteffekte\n",
    "Variable\tKoeffizient\tInterpretation\n",
    "quantity\t+5.55\tJede zusätzliche Einheit steigert den Umsatz um €5.55 (Basis: B2B).\n",
    "discount\t–1,205\tEin 1%-Punkt Rabatt reduziert den Umsatz um €1,205 (Basis: B2B).\n",
    "unit_price\t+118.40\tEine €1 Preiserhöhung steigert den Umsatz um €118.40 (Basis: B2B).\n",
    "customer_typeB2C\t+458.80\tB2C-Rechnungen haben €458.80 höhere Umsätze als B2B (ohne andere Faktoren).\n",
    "2. Interaktionseffekte\n",
    "Interaktion\tKoeffizient\tBedeutung\n",
    "quantity:customer_typeB2C\t+0.39\tBei B2C steigt der Umsatz pro Einheit um zusätzliche €0.39 (vs. B2B).\n",
    "unit_price:customer_typeB2C\t–100.90\tBei B2C reduziert eine €1 Preiserhöhung den Umsatz um €100.90 (vs. B2B).\n",
    "discount:customer_typeB2C\tNA\tFehlender Effekt (mögliche Kollinearität oder fehlende Daten).\n",
    "3. Regionale Unterschiede\n",
    "Signifikant negative Effekte:\n",
    "\n",
    "Bremen: –€12.54 vs. Referenzregion (Baden-Württemberg).\n",
    "\n",
    "Nordrhein-Westfalen: –€3.79.\n",
    "\n",
    "Sachsen-Anhalt: –€4.29.\n",
    "\n",
    "Andere Regionen: Kein signifikanter Unterschied.\n",
    "\n",
    "4. Modellgüte\n",
    "R² = 0.694: Das Modell erklärt 69.4% der Umsatzvarianz – sehr stark.\n",
    "\n",
    "RMSE = €525.70: Durchschnittliche Prognoseabweichung von €525.70 pro Rechnung.\n",
    "\n",
    "Business-Implikationen\n",
    "Preisstrategie:\n",
    "\n",
    "B2B: Preiserhöhungen sind hochwirksam (+€118.40 pro €1).\n",
    "\n",
    "B2C: Preiserhöhungen senken den Umsatz (–€100.90 pro €1)!\n",
    "→ B2C: Preise stabil halten, B2B: Preispolitik als Hebel nutzen.\n",
    "\n",
    "Rabattgestaltung:\n",
    "\n",
    "Rabatte vermeiden: Ein 2%-Rabatt kostet €2,410 pro Rechnung (B2B).\n",
    "\n",
    "Ausnahme B2C: Da der Rabatt-Interaktionsterm fehlt, könnte dies auf fehlende Rabattdaten hinweisen – prüfen!\n",
    "\n",
    "Mengenförderung:\n",
    "\n",
    "B2C profitiert stärker von Mengen: +€5.94 pro Einheit (5.55 + 0.39).\n",
    "→ Bündelangebote (z.B. \"3 zum Preis von 2\") für B2C einführen.\n",
    "\n",
    "Regionale Fokussierung:\n",
    "\n",
    "Bremen/NRW/Sachsen-Anhalt: Gezielte Kampagnen zur Umsatzsteigerung.\n",
    "\n",
    "Bayern/Hamburg: Kein Handlungsbedarf (keine signifikanten Unterschiede).\n",
    "\n",
    "Auffälligkeiten & nächste Schritte\n",
    "Fehlender Rabatt-Interaktionsterm (B2C):\n",
    "\n",
    "Mögliche Ursachen:\n",
    "\n",
    "Multikollinearität: Rabatte sind bei B2C konstant (z.B. immer 0%).\n",
    "\n",
    "Datenlücken: Keine ausreichenden Rabattdaten für B2C.\n",
    "→ Prüfen: table(combined_data$discount[combined_data$customer_type == \"B2C\"]).\n",
    "\n",
    "Starker B2C-Basiseffekt:\n",
    "\n",
    "B2C-Rechnungen sind im Schnitt €458.80 teurer – möglicherweise wegen höherer Einzelhandelspreise.\n",
    "→ Prüfen: Unterschiede in Produktkategorien oder Margen analysieren.\n",
    "\n",
    "Zusammenfassung\n",
    "B2B: Preiserhöhungen und Mengensteigerung sind effektiv.\n",
    "\n",
    "B2C: Mengen ausbauen, Preise stabil halten.\n",
    "\n",
    "Rabatte: Sparsam einsetzen (besonders bei B2B).\n",
    "\n",
    "Regionen: Fokus auf Bremen, NRW und Sachsen-Anhalt.\n",
    "\n",
    "Mit diesen Erkenntnissen können Sie zielgerichtete Strategien für beide Kundengruppen entwickeln! 🚀"
   ]
  }
 ],
 "metadata": {
  "kernelspec": {
   "display_name": "R",
   "language": "R",
   "name": "ir"
  },
  "language_info": {
   "codemirror_mode": "r",
   "file_extension": ".r",
   "mimetype": "text/x-r-source",
   "name": "R",
   "pygments_lexer": "r",
   "version": "4.4.2"
  }
 },
 "nbformat": 4,
 "nbformat_minor": 2
}
